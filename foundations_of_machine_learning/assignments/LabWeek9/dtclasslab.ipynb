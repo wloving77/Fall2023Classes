{
 "cells": [
  {
   "cell_type": "markdown",
   "metadata": {},
   "source": [
    "Congrats! You just graduated UVA's BSDS program and got a job working at a movie studio in Hollywood. \n",
    "\n",
    "Your boss is the head of the studio and wants to know if they can gain a competitive advantage by predicting new movies that might get high imdb scores (movie rating). \n",
    "\n",
    "You would like to be able to explain the model to mere mortals but need a fairly robust and flexible approach so you've chosen to use decision trees to get started. \n",
    "\n",
    "In doing so, similar to  great data scientists of the past you remembered the excellent education provided to you at UVA in a undergrad data science course and have outline 20ish steps that will need to be undertaken to complete this task. As always, you will need to make sure to #comment your work heavily. \n",
    "\n",
    " Footnotes: \n",
    "-\tYou can add or combine steps if needed\n",
    "-\tAlso, remember to try several methods during evaluation and always be mindful of how the model will be used in practice.\n",
    "- Make sure all your variables are the correct type (factor, character,numeric, etc.)"
   ]
  },
  {
   "cell_type": "code",
   "execution_count": 1,
   "metadata": {},
   "outputs": [],
   "source": [
    "import pandas as pd\n",
    "import numpy as np"
   ]
  },
  {
   "cell_type": "code",
   "execution_count": 2,
   "metadata": {},
   "outputs": [],
   "source": [
    "#1. Load the data\n",
    "#Sometimes need to set the working directory back out of a folder that we create a file in\n",
    "\n",
    "#import os\n",
    "#os.listdir()\n",
    "#print(os.getcwd())\n",
    "#os.chdir('c:\\\\Users\\\\Brian Wright\\\\Documents\\\\3001Python\\\\DS-3001')\n",
    "\n",
    "movie_metadata=pd.read_csv(\"data/movie_metadata.csv\")\n",
    "\n"
   ]
  },
  {
   "cell_type": "markdown",
   "metadata": {},
   "source": [
    "#2 Ensure all the variables are classified correctly including the target variable and collapse factor variables as needed."
   ]
  },
  {
   "cell_type": "code",
   "execution_count": 3,
   "metadata": {},
   "outputs": [
    {
     "name": "stdout",
     "output_type": "stream",
     "text": [
      "   color      director_name  num_critic_for_reviews  duration  \\\n",
      "0  Color      James Cameron                   723.0     178.0   \n",
      "1  Color     Gore Verbinski                   302.0     169.0   \n",
      "2  Color         Sam Mendes                   602.0     148.0   \n",
      "3  Color  Christopher Nolan                   813.0     164.0   \n",
      "4    NaN        Doug Walker                     NaN       NaN   \n",
      "\n",
      "   director_facebook_likes  actor_3_facebook_likes      actor_2_name  \\\n",
      "0                      0.0                   855.0  Joel David Moore   \n",
      "1                    563.0                  1000.0     Orlando Bloom   \n",
      "2                      0.0                   161.0      Rory Kinnear   \n",
      "3                  22000.0                 23000.0    Christian Bale   \n",
      "4                    131.0                     NaN        Rob Walker   \n",
      "\n",
      "   actor_1_facebook_likes        gross                           genres  ...  \\\n",
      "0                  1000.0  760505847.0  Action|Adventure|Fantasy|Sci-Fi  ...   \n",
      "1                 40000.0  309404152.0         Action|Adventure|Fantasy  ...   \n",
      "2                 11000.0  200074175.0        Action|Adventure|Thriller  ...   \n",
      "3                 27000.0  448130642.0                  Action|Thriller  ...   \n",
      "4                   131.0          NaN                      Documentary  ...   \n",
      "\n",
      "  num_user_for_reviews language  country  content_rating       budget  \\\n",
      "0               3054.0  English      USA           PG-13  237000000.0   \n",
      "1               1238.0  English      USA           PG-13  300000000.0   \n",
      "2                994.0  English       UK           PG-13  245000000.0   \n",
      "3               2701.0  English      USA           PG-13  250000000.0   \n",
      "4                  NaN      NaN      NaN             NaN          NaN   \n",
      "\n",
      "   title_year actor_2_facebook_likes imdb_score  aspect_ratio  \\\n",
      "0      2009.0                  936.0        7.9          1.78   \n",
      "1      2007.0                 5000.0        7.1          2.35   \n",
      "2      2015.0                  393.0        6.8          2.35   \n",
      "3      2012.0                23000.0        8.5          2.35   \n",
      "4         NaN                   12.0        7.1           NaN   \n",
      "\n",
      "  movie_facebook_likes  \n",
      "0                33000  \n",
      "1                    0  \n",
      "2                85000  \n",
      "3               164000  \n",
      "4                    0  \n",
      "\n",
      "[5 rows x 28 columns]\n",
      "<class 'pandas.core.frame.DataFrame'>\n",
      "RangeIndex: 5043 entries, 0 to 5042\n",
      "Data columns (total 28 columns):\n",
      " #   Column                     Non-Null Count  Dtype  \n",
      "---  ------                     --------------  -----  \n",
      " 0   color                      5024 non-null   object \n",
      " 1   director_name              4939 non-null   object \n",
      " 2   num_critic_for_reviews     4993 non-null   float64\n",
      " 3   duration                   5028 non-null   float64\n",
      " 4   director_facebook_likes    4939 non-null   float64\n",
      " 5   actor_3_facebook_likes     5020 non-null   float64\n",
      " 6   actor_2_name               5030 non-null   object \n",
      " 7   actor_1_facebook_likes     5036 non-null   float64\n",
      " 8   gross                      4159 non-null   float64\n",
      " 9   genres                     5043 non-null   object \n",
      " 10  actor_1_name               5036 non-null   object \n",
      " 11  movie_title                5043 non-null   object \n",
      " 12  num_voted_users            5043 non-null   int64  \n",
      " 13  cast_total_facebook_likes  5043 non-null   int64  \n",
      " 14  actor_3_name               5020 non-null   object \n",
      " 15  facenumber_in_poster       5030 non-null   float64\n",
      " 16  plot_keywords              4890 non-null   object \n",
      " 17  movie_imdb_link            5043 non-null   object \n",
      " 18  num_user_for_reviews       5022 non-null   float64\n",
      " 19  language                   5029 non-null   object \n",
      " 20  country                    5038 non-null   object \n",
      " 21  content_rating             4740 non-null   object \n",
      " 22  budget                     4551 non-null   float64\n",
      " 23  title_year                 4935 non-null   float64\n",
      " 24  actor_2_facebook_likes     5030 non-null   float64\n",
      " 25  imdb_score                 5043 non-null   float64\n",
      " 26  aspect_ratio               4714 non-null   float64\n",
      " 27  movie_facebook_likes       5043 non-null   int64  \n",
      "dtypes: float64(13), int64(3), object(12)\n",
      "memory usage: 1.1+ MB\n",
      "None\n"
     ]
    }
   ],
   "source": [
    "print(movie_metadata.head())\n",
    "print(movie_metadata.info())"
   ]
  },
  {
   "cell_type": "code",
   "execution_count": 4,
   "metadata": {},
   "outputs": [
    {
     "name": "stdout",
     "output_type": "stream",
     "text": [
      "genres\n",
      "Comedy         1329\n",
      "Action         1153\n",
      "Drama           972\n",
      "Adventure       453\n",
      "Crime           349\n",
      "Biography       252\n",
      "Horror          232\n",
      "Documentary      84\n",
      "Animation        61\n",
      "Fantasy          53\n",
      "Mystery          33\n",
      "Thriller         22\n",
      "Sci-Fi           13\n",
      "Western          12\n",
      "Family           11\n",
      "Romance           6\n",
      "Musical           4\n",
      "Game-Show         1\n",
      "Music             1\n",
      "Film-Noir         1\n",
      "History           1\n",
      "Name: count, dtype: int64\n"
     ]
    }
   ],
   "source": [
    "#to collapse genres let's just split on the '|' character and take the first one\n",
    "movie_metadata['genres'] = movie_metadata['genres'].str.split('|').str[0]\n",
    "print(movie_metadata.genres.value_counts())"
   ]
  },
  {
   "cell_type": "code",
   "execution_count": 5,
   "metadata": {},
   "outputs": [
    {
     "name": "stdout",
     "output_type": "stream",
     "text": [
      "<class 'pandas.core.frame.DataFrame'>\n",
      "RangeIndex: 5043 entries, 0 to 5042\n",
      "Data columns (total 28 columns):\n",
      " #   Column                     Non-Null Count  Dtype   \n",
      "---  ------                     --------------  -----   \n",
      " 0   color                      5024 non-null   category\n",
      " 1   director_name              4939 non-null   category\n",
      " 2   num_critic_for_reviews     4993 non-null   float64 \n",
      " 3   duration                   5028 non-null   float64 \n",
      " 4   director_facebook_likes    4939 non-null   float64 \n",
      " 5   actor_3_facebook_likes     5020 non-null   float64 \n",
      " 6   actor_2_name               5030 non-null   category\n",
      " 7   actor_1_facebook_likes     5036 non-null   float64 \n",
      " 8   gross                      4159 non-null   float64 \n",
      " 9   genres                     5043 non-null   category\n",
      " 10  actor_1_name               5036 non-null   category\n",
      " 11  movie_title                5043 non-null   category\n",
      " 12  num_voted_users            5043 non-null   int64   \n",
      " 13  cast_total_facebook_likes  5043 non-null   int64   \n",
      " 14  actor_3_name               5020 non-null   category\n",
      " 15  facenumber_in_poster       5030 non-null   float64 \n",
      " 16  plot_keywords              4890 non-null   category\n",
      " 17  movie_imdb_link            5043 non-null   category\n",
      " 18  num_user_for_reviews       5022 non-null   float64 \n",
      " 19  language                   5029 non-null   category\n",
      " 20  country                    5038 non-null   category\n",
      " 21  content_rating             4740 non-null   category\n",
      " 22  budget                     4551 non-null   float64 \n",
      " 23  title_year                 4935 non-null   float64 \n",
      " 24  actor_2_facebook_likes     5030 non-null   float64 \n",
      " 25  imdb_score                 5043 non-null   float64 \n",
      " 26  aspect_ratio               4714 non-null   float64 \n",
      " 27  movie_facebook_likes       5043 non-null   int64   \n",
      "dtypes: category(12), float64(13), int64(3)\n",
      "memory usage: 1.6 MB\n"
     ]
    }
   ],
   "source": [
    "cat = movie_metadata.select_dtypes(include=['object'])\n",
    "movie_metadata[cat.columns] = cat.astype('category')\n",
    "movie_metadata.info()"
   ]
  },
  {
   "cell_type": "code",
   "execution_count": 6,
   "metadata": {},
   "outputs": [
    {
     "name": "stdout",
     "output_type": "stream",
     "text": [
      "genres\n",
      "Comedy         1329\n",
      "Action         1153\n",
      "Drama           972\n",
      "Adventure       453\n",
      "Crime           349\n",
      "Biography       252\n",
      "Horror          232\n",
      "Documentary      84\n",
      "Animation        61\n",
      "Fantasy          53\n",
      "Mystery          33\n",
      "Thriller         22\n",
      "Sci-Fi           13\n",
      "Western          12\n",
      "Family           11\n",
      "Romance           6\n",
      "Musical           4\n",
      "Music             1\n",
      "History           1\n",
      "Game-Show         1\n",
      "Film-Noir         1\n",
      "Name: count, dtype: int64\n"
     ]
    }
   ],
   "source": [
    "print(movie_metadata.genres.value_counts())"
   ]
  },
  {
   "cell_type": "code",
   "execution_count": 7,
   "metadata": {},
   "outputs": [],
   "source": [
    "#might be hard to tell what's what now but let's drop film title and some text info because i don't think it contributes to how the film is reviewed and it'd be meaningless to have that many categories\n",
    "old_movie_metadata = movie_metadata.copy() #maintaining a copy of the original data for the last section (printing top film names)\n",
    "movie_metadata.drop('movie_title', axis=1, inplace=True)\n",
    "movie_metadata.drop('movie_imdb_link', axis=1, inplace=True)\n",
    "#let's just consider the two leading roles for now\n",
    "movie_metadata.drop('actor_3_name', axis=1, inplace=True)"
   ]
  },
  {
   "cell_type": "code",
   "execution_count": 8,
   "metadata": {},
   "outputs": [
    {
     "name": "stdout",
     "output_type": "stream",
     "text": [
      "imdb_score_cat\n",
      "Not Good    3449\n",
      "Good        1594\n",
      "Name: count, dtype: int64\n"
     ]
    }
   ],
   "source": [
    "bins = [0, 7, 10]\n",
    "labels = ['Not Good', 'Good']\n",
    "\n",
    "# create a new categorical variable based on \"imdb_score\"\n",
    "movie_metadata['imdb_score_cat'] = pd.cut(movie_metadata['imdb_score'], bins=bins, labels=labels)\n",
    "print(movie_metadata['imdb_score_cat'].value_counts())"
   ]
  },
  {
   "cell_type": "code",
   "execution_count": 9,
   "metadata": {},
   "outputs": [
    {
     "name": "stdout",
     "output_type": "stream",
     "text": [
      "<class 'pandas.core.frame.DataFrame'>\n",
      "RangeIndex: 5043 entries, 0 to 5042\n",
      "Data columns (total 26 columns):\n",
      " #   Column                     Non-Null Count  Dtype   \n",
      "---  ------                     --------------  -----   \n",
      " 0   color                      5024 non-null   category\n",
      " 1   director_name              4939 non-null   category\n",
      " 2   num_critic_for_reviews     4993 non-null   float64 \n",
      " 3   duration                   5028 non-null   float64 \n",
      " 4   director_facebook_likes    4939 non-null   float64 \n",
      " 5   actor_3_facebook_likes     5020 non-null   float64 \n",
      " 6   actor_2_name               5030 non-null   category\n",
      " 7   actor_1_facebook_likes     5036 non-null   float64 \n",
      " 8   gross                      4159 non-null   float64 \n",
      " 9   genres                     5043 non-null   category\n",
      " 10  actor_1_name               5036 non-null   category\n",
      " 11  num_voted_users            5043 non-null   int64   \n",
      " 12  cast_total_facebook_likes  5043 non-null   int64   \n",
      " 13  facenumber_in_poster       5030 non-null   float64 \n",
      " 14  plot_keywords              4890 non-null   category\n",
      " 15  num_user_for_reviews       5022 non-null   float64 \n",
      " 16  language                   5029 non-null   category\n",
      " 17  country                    5038 non-null   category\n",
      " 18  content_rating             4740 non-null   category\n",
      " 19  budget                     4551 non-null   float64 \n",
      " 20  title_year                 4935 non-null   float64 \n",
      " 21  actor_2_facebook_likes     5030 non-null   float64 \n",
      " 22  imdb_score                 5043 non-null   float64 \n",
      " 23  aspect_ratio               4714 non-null   float64 \n",
      " 24  movie_facebook_likes       5043 non-null   int64   \n",
      " 25  imdb_score_cat             5043 non-null   category\n",
      "dtypes: category(10), float64(13), int64(3)\n",
      "memory usage: 1.1 MB\n",
      "None\n"
     ]
    }
   ],
   "source": [
    "#satisfied with this\n",
    "print(movie_metadata.info())"
   ]
  },
  {
   "cell_type": "markdown",
   "metadata": {},
   "source": [
    "#3 Check for missing variables and correct as needed."
   ]
  },
  {
   "cell_type": "code",
   "execution_count": 10,
   "metadata": {},
   "outputs": [
    {
     "name": "stderr",
     "output_type": "stream",
     "text": [
      "/home/wloving77/Githubs/Fall2023/Fall2023Classes/foundations_of_machine_learning/env/lib/python3.10/site-packages/seaborn/_oldcore.py:1498: FutureWarning: is_categorical_dtype is deprecated and will be removed in a future version. Use isinstance(dtype, CategoricalDtype) instead\n",
      "  if pd.api.types.is_categorical_dtype(vector):\n",
      "/home/wloving77/Githubs/Fall2023/Fall2023Classes/foundations_of_machine_learning/env/lib/python3.10/site-packages/seaborn/_oldcore.py:1498: FutureWarning: is_categorical_dtype is deprecated and will be removed in a future version. Use isinstance(dtype, CategoricalDtype) instead\n",
      "  if pd.api.types.is_categorical_dtype(vector):\n",
      "/home/wloving77/Githubs/Fall2023/Fall2023Classes/foundations_of_machine_learning/env/lib/python3.10/site-packages/seaborn/_oldcore.py:1498: FutureWarning: is_categorical_dtype is deprecated and will be removed in a future version. Use isinstance(dtype, CategoricalDtype) instead\n",
      "  if pd.api.types.is_categorical_dtype(vector):\n",
      "/home/wloving77/Githubs/Fall2023/Fall2023Classes/foundations_of_machine_learning/env/lib/python3.10/site-packages/seaborn/_oldcore.py:1498: FutureWarning: is_categorical_dtype is deprecated and will be removed in a future version. Use isinstance(dtype, CategoricalDtype) instead\n",
      "  if pd.api.types.is_categorical_dtype(vector):\n",
      "/home/wloving77/Githubs/Fall2023/Fall2023Classes/foundations_of_machine_learning/env/lib/python3.10/site-packages/seaborn/_oldcore.py:1498: FutureWarning: is_categorical_dtype is deprecated and will be removed in a future version. Use isinstance(dtype, CategoricalDtype) instead\n",
      "  if pd.api.types.is_categorical_dtype(vector):\n",
      "/home/wloving77/Githubs/Fall2023/Fall2023Classes/foundations_of_machine_learning/env/lib/python3.10/site-packages/seaborn/_oldcore.py:1119: FutureWarning: use_inf_as_na option is deprecated and will be removed in a future version. Convert inf values to NaN before operating instead.\n",
      "  with pd.option_context('mode.use_inf_as_na', True):\n"
     ]
    },
    {
     "data": {
      "text/plain": [
       "<seaborn.axisgrid.FacetGrid at 0x7f0ea97cdf90>"
      ]
     },
     "execution_count": 10,
     "metadata": {},
     "output_type": "execute_result"
    },
    {
     "data": {
      "image/png": "[encoded data removed]",
      "text/plain": [
       "<Figure size 709.875x500 with 1 Axes>"
      ]
     },
     "metadata": {},
     "output_type": "display_data"
    }
   ],
   "source": [
    "import seaborn as sns\n",
    "\n",
    "sns.displot(\n",
    "    data=movie_metadata.isna().melt(value_name=\"missing\"),\n",
    "    y=\"variable\",\n",
    "    hue=\"missing\",\n",
    "    multiple=\"fill\",\n",
    "    aspect=1.25\n",
    ")"
   ]
  },
  {
   "cell_type": "code",
   "execution_count": 11,
   "metadata": {},
   "outputs": [
    {
     "name": "stdout",
     "output_type": "stream",
     "text": [
      "color                         19\n",
      "director_name                104\n",
      "num_critic_for_reviews        50\n",
      "duration                      15\n",
      "director_facebook_likes      104\n",
      "actor_3_facebook_likes        23\n",
      "actor_2_name                  13\n",
      "actor_1_facebook_likes         7\n",
      "gross                        884\n",
      "genres                         0\n",
      "actor_1_name                   7\n",
      "num_voted_users                0\n",
      "cast_total_facebook_likes      0\n",
      "facenumber_in_poster          13\n",
      "plot_keywords                153\n",
      "num_user_for_reviews          21\n",
      "language                      14\n",
      "country                        5\n",
      "content_rating               303\n",
      "budget                       492\n",
      "title_year                   108\n",
      "actor_2_facebook_likes        13\n",
      "imdb_score                     0\n",
      "aspect_ratio                 329\n",
      "movie_facebook_likes           0\n",
      "imdb_score_cat                 0\n",
      "dtype: int64\n"
     ]
    }
   ],
   "source": [
    "print(movie_metadata.isna().sum())"
   ]
  },
  {
   "cell_type": "code",
   "execution_count": 12,
   "metadata": {},
   "outputs": [],
   "source": [
    "#Let's just drop them, budget and gross seem like they would be really revealing so we don't want to impute them\n",
    "movie_metadata = movie_metadata.dropna()\n",
    "old_movie_metadata = old_movie_metadata.dropna()"
   ]
  },
  {
   "cell_type": "code",
   "execution_count": 13,
   "metadata": {},
   "outputs": [
    {
     "name": "stdout",
     "output_type": "stream",
     "text": [
      "<class 'pandas.core.frame.DataFrame'>\n",
      "Index: 3755 entries, 0 to 5042\n",
      "Data columns (total 26 columns):\n",
      " #   Column                     Non-Null Count  Dtype   \n",
      "---  ------                     --------------  -----   \n",
      " 0   color                      3755 non-null   category\n",
      " 1   director_name              3755 non-null   category\n",
      " 2   num_critic_for_reviews     3755 non-null   float64 \n",
      " 3   duration                   3755 non-null   float64 \n",
      " 4   director_facebook_likes    3755 non-null   float64 \n",
      " 5   actor_3_facebook_likes     3755 non-null   float64 \n",
      " 6   actor_2_name               3755 non-null   category\n",
      " 7   actor_1_facebook_likes     3755 non-null   float64 \n",
      " 8   gross                      3755 non-null   float64 \n",
      " 9   genres                     3755 non-null   category\n",
      " 10  actor_1_name               3755 non-null   category\n",
      " 11  num_voted_users            3755 non-null   int64   \n",
      " 12  cast_total_facebook_likes  3755 non-null   int64   \n",
      " 13  facenumber_in_poster       3755 non-null   float64 \n",
      " 14  plot_keywords              3755 non-null   category\n",
      " 15  num_user_for_reviews       3755 non-null   float64 \n",
      " 16  language                   3755 non-null   category\n",
      " 17  country                    3755 non-null   category\n",
      " 18  content_rating             3755 non-null   category\n",
      " 19  budget                     3755 non-null   float64 \n",
      " 20  title_year                 3755 non-null   float64 \n",
      " 21  actor_2_facebook_likes     3755 non-null   float64 \n",
      " 22  imdb_score                 3755 non-null   float64 \n",
      " 23  aspect_ratio               3755 non-null   float64 \n",
      " 24  movie_facebook_likes       3755 non-null   int64   \n",
      " 25  imdb_score_cat             3755 non-null   category\n",
      "dtypes: category(10), float64(13), int64(3)\n",
      "memory usage: 974.3 KB\n",
      "None\n"
     ]
    }
   ],
   "source": [
    "print(movie_metadata.info())\n",
    "#lost a good portion of the data but should be enough still"
   ]
  },
  {
   "cell_type": "markdown",
   "metadata": {},
   "source": [
    "#4 Guess what, you don't need to scale the data, because DTs don't require this to be done, they make local greedy decisions...keeps getting easier, go to the next step."
   ]
  },
  {
   "cell_type": "markdown",
   "metadata": {},
   "source": [
    "sweet"
   ]
  },
  {
   "cell_type": "markdown",
   "metadata": {},
   "source": [
    "#5 Determine the baserate or prevalence for the classifier, what does this number mean?"
   ]
  },
  {
   "cell_type": "code",
   "execution_count": 14,
   "metadata": {},
   "outputs": [
    {
     "name": "stdout",
     "output_type": "stream",
     "text": [
      "imdb_score_cat\n",
      "Not Good    2610\n",
      "Good        1145\n",
      "Name: count, dtype: int64\n"
     ]
    }
   ],
   "source": [
    "print(movie_metadata.imdb_score_cat.value_counts())"
   ]
  },
  {
   "cell_type": "code",
   "execution_count": 15,
   "metadata": {},
   "outputs": [
    {
     "name": "stdout",
     "output_type": "stream",
     "text": [
      "prevalence = 0.30492676431424764\n"
     ]
    }
   ],
   "source": [
    "#check the prevalence\n",
    "print('prevalence = ' + str(1145/(1145+2610))) #of good"
   ]
  },
  {
   "attachments": {},
   "cell_type": "markdown",
   "metadata": {},
   "source": [
    "about 30.5% of the movies would be considered good (imdb_score > 7.5)"
   ]
  },
  {
   "cell_type": "markdown",
   "metadata": {},
   "source": [
    "#6 Split your data into test, tune, and train. (80/10/10)"
   ]
  },
  {
   "cell_type": "code",
   "execution_count": 16,
   "metadata": {},
   "outputs": [],
   "source": [
    "from sklearn.preprocessing import OrdinalEncoder\n",
    "\n",
    "categorical_columns = movie_metadata.select_dtypes(include=['category']).columns\n",
    "\n",
    "encoder = OrdinalEncoder()\n",
    "for column in categorical_columns:\n",
    "    movie_metadata[[column]] = encoder.fit_transform(movie_metadata[[column]])"
   ]
  },
  {
   "cell_type": "code",
   "execution_count": 17,
   "metadata": {},
   "outputs": [],
   "source": [
    "movie_metadata = movie_metadata.drop(columns='imdb_score')\n",
    "X = movie_metadata.drop(columns='imdb_score_cat')\n",
    "y = movie_metadata.imdb_score_cat\n"
   ]
  },
  {
   "cell_type": "code",
   "execution_count": 18,
   "metadata": {},
   "outputs": [],
   "source": [
    "from sklearn.model_selection import train_test_split\n",
    "X_train, X_test, y_train, y_test = train_test_split(X, y, train_size=0.80, stratify= y, random_state=21)\n",
    "X_tune, X_test, y_tune, y_test = train_test_split(X_test,y_test,  train_size = 0.50,stratify= y_test, random_state=49)"
   ]
  },
  {
   "cell_type": "markdown",
   "metadata": {},
   "source": [
    "#7 Create the kfold object for cross validation."
   ]
  },
  {
   "cell_type": "code",
   "execution_count": 19,
   "metadata": {},
   "outputs": [],
   "source": [
    "from sklearn.model_selection import RepeatedStratifiedKFold\n",
    "kf = RepeatedStratifiedKFold(n_splits=10,n_repeats =5, random_state=21)"
   ]
  },
  {
   "cell_type": "markdown",
   "metadata": {},
   "source": [
    "#8 Create the scoring metric you will use to evaluate your model and the max depth hyperparameter "
   ]
  },
  {
   "cell_type": "code",
   "execution_count": 20,
   "metadata": {},
   "outputs": [],
   "source": [
    "scoring = ['roc_auc','recall','balanced_accuracy']\n",
    "param={\"max_depth\" : [1,2,3,4,5,6,7,8,9,10,11]}"
   ]
  },
  {
   "cell_type": "markdown",
   "metadata": {},
   "source": [
    "#9 Build the classifier object "
   ]
  },
  {
   "cell_type": "code",
   "execution_count": 21,
   "metadata": {},
   "outputs": [],
   "source": [
    "from sklearn.tree import DecisionTreeClassifier\n",
    "cl= DecisionTreeClassifier(random_state=1000)"
   ]
  },
  {
   "cell_type": "markdown",
   "metadata": {},
   "source": [
    "#10 Use the kfold object and the scoring metric to find the best hyperparameter value for max depth via the grid search method."
   ]
  },
  {
   "cell_type": "code",
   "execution_count": 22,
   "metadata": {},
   "outputs": [],
   "source": [
    "from sklearn.model_selection import GridSearchCV\n",
    "search = GridSearchCV(cl, param, scoring=scoring, n_jobs=-1, cv=kf,refit='roc_auc')"
   ]
  },
  {
   "cell_type": "markdown",
   "metadata": {},
   "source": [
    "#11 Fit the model to the training data."
   ]
  },
  {
   "cell_type": "code",
   "execution_count": 23,
   "metadata": {},
   "outputs": [],
   "source": [
    "model = search.fit(X_train, y_train)"
   ]
  },
  {
   "cell_type": "markdown",
   "metadata": {},
   "source": [
    "#12 What is the best depth value?"
   ]
  },
  {
   "cell_type": "code",
   "execution_count": 27,
   "metadata": {},
   "outputs": [
    {
     "name": "stdout",
     "output_type": "stream",
     "text": [
      "DecisionTreeClassifier(max_depth=5, random_state=1000)\n"
     ]
    }
   ],
   "source": [
    "best = model.best_estimator_\n",
    "print(best) "
   ]
  },
  {
   "cell_type": "markdown",
   "metadata": {},
   "source": [
    "Depth of 5"
   ]
  },
  {
   "cell_type": "markdown",
   "metadata": {},
   "source": [
    "#13 Print out the model"
   ]
  },
  {
   "cell_type": "code",
   "execution_count": 28,
   "metadata": {},
   "outputs": [
    {
     "name": "stdout",
     "output_type": "stream",
     "text": [
      "{'mean_fit_time': array([0.01461955, 0.02295862, 0.03367776, 0.04573847, 0.05273181,\n",
      "       0.06559817, 0.07162112, 0.08084733, 0.08983713, 0.09705142,\n",
      "       0.09717443]), 'std_fit_time': array([0.00501015, 0.00451389, 0.0060433 , 0.00738826, 0.00736122,\n",
      "       0.00893035, 0.00640177, 0.00597627, 0.0074646 , 0.00723547,\n",
      "       0.0144038 ]), 'mean_score_time': array([0.01622419, 0.01471261, 0.01417617, 0.01240101, 0.01342402,\n",
      "       0.01244406, 0.01235369, 0.01038919, 0.01213024, 0.01205947,\n",
      "       0.01066033]), 'std_score_time': array([0.0062192 , 0.00467655, 0.00487736, 0.00564159, 0.00663999,\n",
      "       0.00510776, 0.00440017, 0.00402675, 0.00423265, 0.0042793 ,\n",
      "       0.00448362]), 'param_max_depth': masked_array(data=[1, 2, 3, 4, 5, 6, 7, 8, 9, 10, 11],\n",
      "             mask=[False, False, False, False, False, False, False, False,\n",
      "                   False, False, False],\n",
      "       fill_value='?',\n",
      "            dtype=object), 'params': [{'max_depth': 1}, {'max_depth': 2}, {'max_depth': 3}, {'max_depth': 4}, {'max_depth': 5}, {'max_depth': 6}, {'max_depth': 7}, {'max_depth': 8}, {'max_depth': 9}, {'max_depth': 10}, {'max_depth': 11}], 'split0_test_roc_auc': array([0.66257541, 0.74287497, 0.82681506, 0.8326139 , 0.84049303,\n",
      "       0.81092677, 0.79399834, 0.74620345, 0.71892553, 0.71325671,\n",
      "       0.69960474]), 'split1_test_roc_auc': array([0.66845226, 0.70618369, 0.76926877, 0.78965571, 0.78154254,\n",
      "       0.76960682, 0.75293842, 0.75122218, 0.75397857, 0.72212399,\n",
      "       0.69604223]), 'split2_test_roc_auc': array([0.64824735, 0.71411483, 0.74609944, 0.74417516, 0.79436239,\n",
      "       0.77811005, 0.77340337, 0.74994799, 0.71372478, 0.67908779,\n",
      "       0.65147181]), 'split3_test_roc_auc': array([0.66975244, 0.70605367, 0.78442896, 0.80380175, 0.79615665,\n",
      "       0.82218639, 0.78923965, 0.75283441, 0.729197  , 0.70194508,\n",
      "       0.6868109 ]), 'split4_test_roc_auc': array([0.71592809, 0.7402801 , 0.77876777, 0.80136915, 0.80338106,\n",
      "       0.76761079, 0.77568457, 0.75185514, 0.7242893 , 0.74080268,\n",
      "       0.71969064]), 'split5_test_roc_auc': array([0.63910953, 0.72912312, 0.79107441, 0.81717705, 0.83071175,\n",
      "       0.79925272, 0.78987249, 0.76481501, 0.73199728, 0.73024666,\n",
      "       0.67030727]), 'split6_test_roc_auc': array([0.68460487, 0.74430832, 0.80030496, 0.81639413, 0.81486934,\n",
      "       0.79699248, 0.7606341 , 0.72388138, 0.69170303, 0.70324412,\n",
      "       0.6998002 ]), 'split7_test_roc_auc': array([0.70968505, 0.77569799, 0.79738682, 0.82527998, 0.84039645,\n",
      "       0.83671592, 0.78897418, 0.71299753, 0.73439718, 0.71649403,\n",
      "       0.69186077]), 'split8_test_roc_auc': array([0.70871234, 0.75469268, 0.80117251, 0.80564173, 0.81132026,\n",
      "       0.7984384 , 0.78311163, 0.74914559, 0.70150902, 0.71996425,\n",
      "       0.71599453]), 'split9_test_roc_auc': array([0.62842421, 0.68773332, 0.71499553, 0.73342447, 0.764893  ,\n",
      "       0.7701509 , 0.76518219, 0.74210001, 0.72059519, 0.73053263,\n",
      "       0.73352963]), 'split10_test_roc_auc': array([0.68106407, 0.72228001, 0.75379655, 0.74903786, 0.76648637,\n",
      "       0.80567402, 0.76833264, 0.71939359, 0.70961618, 0.70030684,\n",
      "       0.69814853]), 'split11_test_roc_auc': array([0.65149782, 0.6937799 , 0.76549823, 0.7805544 , 0.78045038,\n",
      "       0.78843353, 0.70386936, 0.72009569, 0.6714947 , 0.65006761,\n",
      "       0.6555284 ]), 'split12_test_roc_auc': array([0.69193364, 0.74461722, 0.81950801, 0.85710942, 0.85310485,\n",
      "       0.85682338, 0.83342001, 0.80817038, 0.78856355, 0.78669128,\n",
      "       0.770829  ]), 'split13_test_roc_auc': array([0.68844914, 0.72722072, 0.80104535, 0.82993551, 0.81766174,\n",
      "       0.79685875, 0.78112648, 0.73296755, 0.72389224, 0.6951061 ,\n",
      "       0.68153214]), 'split14_test_roc_auc': array([0.6312709 , 0.70009406, 0.78310514, 0.76881271, 0.72266931,\n",
      "       0.71608487, 0.69643604, 0.67035953, 0.6265416 , 0.61716137,\n",
      "       0.56223871]), 'split15_test_roc_auc': array([0.68028846, 0.72909699, 0.78273934, 0.8022314 , 0.81273516,\n",
      "       0.82378763, 0.80690844, 0.77531877, 0.76311664, 0.78435932,\n",
      "       0.7338263 ]), 'split16_test_roc_auc': array([0.70011567, 0.73894527, 0.79060413, 0.81820811, 0.81928598,\n",
      "       0.80190862, 0.78831695, 0.73799884, 0.71541616, 0.6772701 ,\n",
      "       0.68649771]), 'split17_test_roc_auc': array([0.67955728, 0.71691466, 0.77727536, 0.80167201, 0.82985436,\n",
      "       0.82196751, 0.82188864, 0.78284873, 0.70829171, 0.70274462,\n",
      "       0.71039487]), 'split18_test_roc_auc': array([0.70942216, 0.7518797 , 0.77317419, 0.79985804, 0.8024607 ,\n",
      "       0.78108733, 0.77280614, 0.75776855, 0.7343446 , 0.75390399,\n",
      "       0.73889269]), 'split19_test_roc_auc': array([0.63657395, 0.6998002 , 0.75369367, 0.78566171, 0.80243441,\n",
      "       0.7786687 , 0.75453494, 0.72419686, 0.7220937 , 0.70426941,\n",
      "       0.681529  ]), 'split20_test_roc_auc': array([0.65888288, 0.69011338, 0.73577595, 0.77751196, 0.7881995 ,\n",
      "       0.79210006, 0.79909507, 0.8000312 , 0.79769087, 0.79477845,\n",
      "       0.74466923]), 'split21_test_roc_auc': array([0.64148637, 0.71026628, 0.77930622, 0.8083524 , 0.79537653,\n",
      "       0.79415436, 0.76721448, 0.75777512, 0.74763366, 0.73585396,\n",
      "       0.70389536]), 'split22_test_roc_auc': array([0.67737154, 0.73216143, 0.77275328, 0.78380487, 0.8034637 ,\n",
      "       0.80335968, 0.74685355, 0.76341793, 0.7249844 , 0.71559705,\n",
      "       0.73593197]), 'split23_test_roc_auc': array([0.72105783, 0.77384543, 0.81628354, 0.81672561, 0.81716767,\n",
      "       0.79522051, 0.77181714, 0.75808716, 0.76978885, 0.72040774,\n",
      "       0.72729873]), 'split24_test_roc_auc': array([0.65050167, 0.72909699, 0.79175376, 0.80777069, 0.81140259,\n",
      "       0.82896112, 0.81579222, 0.78208612, 0.72159804, 0.70336016,\n",
      "       0.67072533]), 'split25_test_roc_auc': array([0.69220318, 0.72269544, 0.76682692, 0.79572533, 0.81521739,\n",
      "       0.81396321, 0.78767768, 0.7848819 , 0.74903324, 0.68224812,\n",
      "       0.68300585]), 'split26_test_roc_auc': array([0.67406278, 0.72537988, 0.75934592, 0.78839581, 0.80735054,\n",
      "       0.81844471, 0.78064041, 0.76552395, 0.77480414, 0.75400915,\n",
      "       0.70687208]), 'split27_test_roc_auc': array([0.65828908, 0.71899153, 0.79809664, 0.80359115, 0.83513855,\n",
      "       0.8693149 , 0.82819812, 0.80798149, 0.77632893, 0.68163416,\n",
      "       0.70513697]), 'split28_test_roc_auc': array([0.65686945, 0.71659919, 0.74315159, 0.75979284, 0.78610863,\n",
      "       0.80004206, 0.80666702, 0.70637257, 0.65368842, 0.6379673 ,\n",
      "       0.62955466]), 'split29_test_roc_auc': array([0.59695568, 0.66922551, 0.75918818, 0.79149798, 0.84694253,\n",
      "       0.85235817, 0.81947   , 0.79389032, 0.7623955 , 0.73586939,\n",
      "       0.7205689 ]), 'split30_test_roc_auc': array([0.69497608, 0.75543478, 0.80013522, 0.82671105, 0.81300707,\n",
      "       0.80447784, 0.79285417, 0.73486582, 0.72810485, 0.7034533 ,\n",
      "       0.70545559]), 'split31_test_roc_auc': array([0.68345642, 0.71949761, 0.76307988, 0.77693988, 0.78120449,\n",
      "       0.77621177, 0.76482213, 0.72235802, 0.6777616 , 0.69424797,\n",
      "       0.67518723]), 'split32_test_roc_auc': array([0.64497088, 0.69034741, 0.7604275 , 0.75499272, 0.78505305,\n",
      "       0.75182026, 0.72901498, 0.67053256, 0.62593613, 0.60253276,\n",
      "       0.5659715 ]), 'split33_test_roc_auc': array([0.69323383, 0.69128354, 0.74955794, 0.79964115, 0.80863844,\n",
      "       0.81287705, 0.8083004 , 0.79717079, 0.78432494, 0.75855523,\n",
      "       0.74425317]), 'split34_test_roc_auc': array([0.68384197, 0.73696175, 0.7826087 , 0.78759929, 0.80860681,\n",
      "       0.82478052, 0.80306752, 0.78020485, 0.79509824, 0.72961957,\n",
      "       0.75721154]), 'split35_test_roc_auc': array([0.66095318, 0.72350543, 0.80215301, 0.8105926 , 0.85323474,\n",
      "       0.82093959, 0.80458298, 0.77139946, 0.76374373, 0.71914193,\n",
      "       0.71535326]), 'split36_test_roc_auc': array([0.70800252, 0.76491929, 0.78834324, 0.80858615, 0.82562175,\n",
      "       0.82906567, 0.81833956, 0.82622641, 0.84783637, 0.80409065,\n",
      "       0.79028866]), 'split37_test_roc_auc': array([0.67645512, 0.73387139, 0.74546506, 0.77472527, 0.78553026,\n",
      "       0.81857616, 0.78710763, 0.78847468, 0.77036122, 0.761896  ,\n",
      "       0.741101  ]), 'split38_test_roc_auc': array([0.63728377, 0.70695094, 0.78368999, 0.78658184, 0.80669331,\n",
      "       0.81599979, 0.78064041, 0.73408171, 0.72814028, 0.69380619,\n",
      "       0.71139387]), 'split39_test_roc_auc': array([0.64233135, 0.7110784 , 0.78345339, 0.81329197, 0.85606499,\n",
      "       0.83059046, 0.81602608, 0.78844839, 0.76896787, 0.74601714,\n",
      "       0.72863978]), 'split40_test_roc_auc': array([0.65303204, 0.73676409, 0.79210006, 0.78981173, 0.83537029,\n",
      "       0.83836072, 0.83916684, 0.83573435, 0.77657583, 0.74043062,\n",
      "       0.7590493 ]), 'split41_test_roc_auc': array([0.65867485, 0.73985854, 0.77173913, 0.78715935, 0.78588517,\n",
      "       0.79051383, 0.76859268, 0.72597254, 0.71208654, 0.6992927 ,\n",
      "       0.69211566]), 'split42_test_roc_auc': array([0.6749792 , 0.71759933, 0.77054296, 0.79748284, 0.80239755,\n",
      "       0.82899938, 0.82793322, 0.82346058, 0.79727481, 0.73408571,\n",
      "       0.72677866]), 'split43_test_roc_auc': array([0.68844914, 0.75452465, 0.81097878, 0.81914396, 0.82668504,\n",
      "       0.80408779, 0.79358228, 0.78934367, 0.78221864, 0.70639172,\n",
      "       0.71934159]), 'split44_test_roc_auc': array([0.65133779, 0.68948579, 0.74934678, 0.76366534, 0.78934992,\n",
      "       0.78550899, 0.72917538, 0.74589778, 0.73029891, 0.74597617,\n",
      "       0.69831731]), 'split45_test_roc_auc': array([0.65123328, 0.68797032, 0.76572952, 0.78814799, 0.81255226,\n",
      "       0.80147366, 0.78616221, 0.74955581, 0.69510347, 0.68454745,\n",
      "       0.69497283]), 'split46_test_roc_auc': array([0.66714864, 0.72343446, 0.8089542 , 0.8252274 , 0.83413954,\n",
      "       0.8335086 , 0.78613492, 0.77254325, 0.73124244, 0.72422315,\n",
      "       0.71268205]), 'split47_test_roc_auc': array([0.6487197 , 0.71525843, 0.77701246, 0.78813292, 0.82488564,\n",
      "       0.83734686, 0.81684105, 0.80177717, 0.77406804, 0.77419948,\n",
      "       0.7538777 ]), 'split48_test_roc_auc': array([0.71394395, 0.75871497, 0.81103107, 0.82196751, 0.82428098,\n",
      "       0.81849729, 0.76373626, 0.76570798, 0.73933961, 0.70873863,\n",
      "       0.6827646 ]), 'split49_test_roc_auc': array([0.68221252, 0.74194227, 0.76760082, 0.80211893, 0.78495189,\n",
      "       0.80656186, 0.80556286, 0.78413692, 0.77396288, 0.71370735,\n",
      "       0.72211999]), 'mean_test_roc_auc': array([0.67057163, 0.7242694 , 0.77834372, 0.79636605, 0.80871581,\n",
      "       0.80638805, 0.78491496, 0.76004123, 0.73728161, 0.71672516,\n",
      "       0.70418129]), 'std_test_roc_auc': array([0.026411  , 0.02383117, 0.02322382, 0.02406907, 0.02521443,\n",
      "       0.02708416, 0.030362  , 0.03568246, 0.04299226, 0.04024976,\n",
      "       0.04195944]), 'rank_test_roc_auc': array([11,  8,  5,  3,  1,  2,  4,  6,  7,  9, 10]), 'split0_test_recall': array([0.84688995, 0.84688995, 0.97607656, 0.9138756 , 0.90909091,\n",
      "       0.90909091, 0.85167464, 0.83253589, 0.83732057, 0.83253589,\n",
      "       0.81339713]), 'split1_test_recall': array([0.88038278, 0.88038278, 0.98564593, 0.91866029, 0.90430622,\n",
      "       0.93779904, 0.9138756 , 0.88516746, 0.84688995, 0.80861244,\n",
      "       0.8277512 ]), 'split2_test_recall': array([0.93779904, 0.93779904, 0.88038278, 0.88038278, 0.84688995,\n",
      "       0.85167464, 0.89473684, 0.8708134 , 0.8708134 , 0.84688995,\n",
      "       0.85167464]), 'split3_test_recall': array([0.86124402, 0.86124402, 0.88995215, 0.86124402, 0.84210526,\n",
      "       0.85167464, 0.85645933, 0.84210526, 0.84210526, 0.84688995,\n",
      "       0.79425837]), 'split4_test_recall': array([0.85576923, 0.85576923, 0.90865385, 0.85576923, 0.91346154,\n",
      "       0.90384615, 0.875     , 0.875     , 0.89423077, 0.88461538,\n",
      "       0.875     ]), 'split5_test_recall': array([0.90865385, 0.90865385, 0.92788462, 0.92788462, 0.9375    ,\n",
      "       0.87019231, 0.87980769, 0.88942308, 0.84615385, 0.85096154,\n",
      "       0.83173077]), 'split6_test_recall': array([0.91866029, 0.91866029, 0.98086124, 0.88516746, 0.93301435,\n",
      "       0.9138756 , 0.93301435, 0.90909091, 0.88995215, 0.88516746,\n",
      "       0.88995215]), 'split7_test_recall': array([0.9138756 , 0.9138756 , 0.99521531, 0.92822967, 0.88995215,\n",
      "       0.85167464, 0.83732057, 0.81818182, 0.8277512 , 0.84688995,\n",
      "       0.81339713]), 'split8_test_recall': array([0.88995215, 0.88995215, 0.88516746, 0.88516746, 0.9138756 ,\n",
      "       0.89952153, 0.86602871, 0.85645933, 0.84688995, 0.85167464,\n",
      "       0.81818182]), 'split9_test_recall': array([0.86124402, 0.86124402, 0.89473684, 0.90430622, 0.90430622,\n",
      "       0.89952153, 0.85645933, 0.87559809, 0.8708134 , 0.86124402,\n",
      "       0.88038278]), 'split10_test_recall': array([0.89473684, 0.89473684, 0.97607656, 0.86124402, 0.86602871,\n",
      "       0.89473684, 0.86602871, 0.86124402, 0.85645933, 0.86124402,\n",
      "       0.84688995]), 'split11_test_recall': array([0.88995215, 0.88995215, 0.99043062, 0.88995215, 0.89473684,\n",
      "       0.88995215, 0.88516746, 0.90430622, 0.88516746, 0.8708134 ,\n",
      "       0.87559809]), 'split12_test_recall': array([0.89473684, 0.89473684, 0.98086124, 0.91866029, 0.96650718,\n",
      "       0.94258373, 0.91866029, 0.9138756 , 0.90430622, 0.92822967,\n",
      "       0.90430622]), 'split13_test_recall': array([0.86602871, 0.86602871, 0.9569378 , 0.95215311, 0.9569378 ,\n",
      "       0.94258373, 0.89952153, 0.84688995, 0.8708134 , 0.86602871,\n",
      "       0.85645933]), 'split14_test_recall': array([0.90384615, 0.90384615, 0.95673077, 0.92307692, 0.875     ,\n",
      "       0.875     , 0.8125    , 0.84615385, 0.83173077, 0.83653846,\n",
      "       0.81730769]), 'split15_test_recall': array([0.86057692, 0.86057692, 0.86538462, 0.89903846, 0.91826923,\n",
      "       0.91826923, 0.91826923, 0.90865385, 0.91346154, 0.88461538,\n",
      "       0.88461538]), 'split16_test_recall': array([0.89473684, 0.89473684, 0.98086124, 0.89473684, 0.93779904,\n",
      "       0.9138756 , 0.89473684, 0.86124402, 0.86124402, 0.83732057,\n",
      "       0.85645933]), 'split17_test_recall': array([0.87559809, 0.87559809, 0.8708134 , 0.83253589, 0.89952153,\n",
      "       0.89473684, 0.88516746, 0.88516746, 0.89952153, 0.86124402,\n",
      "       0.85167464]), 'split18_test_recall': array([0.88038278, 0.9138756 , 0.9138756 , 0.89473684, 0.86124402,\n",
      "       0.80382775, 0.79904306, 0.82296651, 0.82296651, 0.81818182,\n",
      "       0.81818182]), 'split19_test_recall': array([0.89952153, 0.89952153, 0.85645933, 0.84688995, 0.87559809,\n",
      "       0.86602871, 0.87559809, 0.88516746, 0.89473684, 0.88995215,\n",
      "       0.8708134 ]), 'split20_test_recall': array([0.86124402, 0.86124402, 0.88995215, 0.78947368, 0.86602871,\n",
      "       0.8708134 , 0.8708134 , 0.86124402, 0.85645933, 0.86602871,\n",
      "       0.8277512 ]), 'split21_test_recall': array([0.83732057, 0.83732057, 0.94258373, 0.9569378 , 0.91866029,\n",
      "       0.90909091, 0.90430622, 0.88995215, 0.88995215, 0.88516746,\n",
      "       0.86602871]), 'split22_test_recall': array([0.90909091, 0.90909091, 0.98086124, 0.88995215, 0.90909091,\n",
      "       0.94736842, 0.89952153, 0.89473684, 0.89473684, 0.88038278,\n",
      "       0.86602871]), 'split23_test_recall': array([0.86602871, 0.86602871, 0.98564593, 0.9138756 , 0.84210526,\n",
      "       0.84688995, 0.81339713, 0.79904306, 0.81818182, 0.84210526,\n",
      "       0.82296651]), 'split24_test_recall': array([0.94230769, 0.94230769, 0.88461538, 0.89423077, 0.85576923,\n",
      "       0.89903846, 0.87019231, 0.86057692, 0.86538462, 0.87019231,\n",
      "       0.87980769]), 'split25_test_recall': array([0.92788462, 0.92788462, 0.90865385, 0.89423077, 0.86538462,\n",
      "       0.90865385, 0.87019231, 0.87980769, 0.86538462, 0.84615385,\n",
      "       0.82692308]), 'split26_test_recall': array([0.87559809, 0.87559809, 0.92822967, 0.89473684, 0.90430622,\n",
      "       0.90909091, 0.85167464, 0.86124402, 0.88516746, 0.85645933,\n",
      "       0.84688995]), 'split27_test_recall': array([0.86602871, 0.86602871, 0.96650718, 0.93301435, 0.90909091,\n",
      "       0.93779904, 0.88516746, 0.88516746, 0.87559809, 0.86602871,\n",
      "       0.85645933]), 'split28_test_recall': array([0.88516746, 0.88516746, 0.9138756 , 0.88516746, 0.87559809,\n",
      "       0.8708134 , 0.87559809, 0.88516746, 0.80382775, 0.80382775,\n",
      "       0.82296651]), 'split29_test_recall': array([0.95215311, 0.95215311, 0.88038278, 0.93301435, 0.9138756 ,\n",
      "       0.93301435, 0.9138756 , 0.87559809, 0.86124402, 0.84688995,\n",
      "       0.84688995]), 'split30_test_recall': array([0.88995215, 0.88995215, 0.99521531, 0.93301435, 0.88516746,\n",
      "       0.8708134 , 0.88516746, 0.85645933, 0.8708134 , 0.86602871,\n",
      "       0.84210526]), 'split31_test_recall': array([0.89952153, 0.89952153, 0.89473684, 0.784689  , 0.90430622,\n",
      "       0.8708134 , 0.85167464, 0.85645933, 0.86124402, 0.85645933,\n",
      "       0.85645933]), 'split32_test_recall': array([0.86602871, 0.86602871, 0.92344498, 0.84210526, 0.8708134 ,\n",
      "       0.86602871, 0.85167464, 0.81339713, 0.81818182, 0.82296651,\n",
      "       0.79904306]), 'split33_test_recall': array([0.87559809, 0.85645933, 0.9569378 , 0.95215311, 0.94258373,\n",
      "       0.92344498, 0.84210526, 0.85167464, 0.8277512 , 0.83253589,\n",
      "       0.83253589]), 'split34_test_recall': array([0.88942308, 0.88942308, 0.86538462, 0.88461538, 0.83653846,\n",
      "       0.86057692, 0.875     , 0.82211538, 0.84134615, 0.80288462,\n",
      "       0.8125    ]), 'split35_test_recall': array([0.86538462, 0.86538462, 0.96634615, 0.83653846, 0.90865385,\n",
      "       0.90865385, 0.88461538, 0.89903846, 0.87980769, 0.84615385,\n",
      "       0.85576923]), 'split36_test_recall': array([0.89952153, 0.89952153, 0.94736842, 0.91866029, 0.88516746,\n",
      "       0.9138756 , 0.8708134 , 0.88038278, 0.89952153, 0.88516746,\n",
      "       0.89952153]), 'split37_test_recall': array([0.88038278, 0.88038278, 0.94736842, 0.9569378 , 0.90909091,\n",
      "       0.89473684, 0.90430622, 0.8708134 , 0.89473684, 0.86602871,\n",
      "       0.84688995]), 'split38_test_recall': array([0.88995215, 0.88995215, 0.99043062, 0.9569378 , 0.9138756 ,\n",
      "       0.91866029, 0.89952153, 0.89952153, 0.89473684, 0.87559809,\n",
      "       0.88038278]), 'split39_test_recall': array([0.93301435, 0.93301435, 0.89952153, 0.84688995, 0.85645933,\n",
      "       0.90909091, 0.88038278, 0.85645933, 0.87559809, 0.85167464,\n",
      "       0.85645933]), 'split40_test_recall': array([0.94736842, 0.94736842, 0.88516746, 0.92822967, 0.88995215,\n",
      "       0.90909091, 0.90430622, 0.9138756 , 0.9138756 , 0.88516746,\n",
      "       0.89473684]), 'split41_test_recall': array([0.90430622, 0.90430622, 0.88038278, 0.88038278, 0.85167464,\n",
      "       0.91866029, 0.93779904, 0.9138756 , 0.92344498, 0.89473684,\n",
      "       0.9138756 ]), 'split42_test_recall': array([0.90430622, 0.90430622, 0.89952153, 0.91866029, 0.9138756 ,\n",
      "       0.9569378 , 0.88995215, 0.92822967, 0.89952153, 0.91866029,\n",
      "       0.88038278]), 'split43_test_recall': array([0.86602871, 0.86602871, 0.97129187, 0.8708134 , 0.8277512 ,\n",
      "       0.84210526, 0.82296651, 0.8277512 , 0.84210526, 0.80861244,\n",
      "       0.83253589]), 'split44_test_recall': array([0.84615385, 0.84615385, 0.91346154, 0.87019231, 0.9375    ,\n",
      "       0.9375    , 0.88942308, 0.87980769, 0.87980769, 0.86538462,\n",
      "       0.85576923]), 'split45_test_recall': array([0.88942308, 0.88942308, 0.92307692, 0.87019231, 0.86538462,\n",
      "       0.87019231, 0.875     , 0.82211538, 0.80769231, 0.82692308,\n",
      "       0.84134615]), 'split46_test_recall': array([0.89473684, 0.89473684, 0.97607656, 0.88038278, 0.89473684,\n",
      "       0.89473684, 0.87559809, 0.88995215, 0.88516746, 0.87559809,\n",
      "       0.8708134 ]), 'split47_test_recall': array([0.84688995, 0.84688995, 0.93301435, 0.95215311, 0.92344498,\n",
      "       0.9138756 , 0.89952153, 0.85167464, 0.88995215, 0.87559809,\n",
      "       0.87559809]), 'split48_test_recall': array([0.85645933, 0.85645933, 0.93301435, 0.93301435, 0.8708134 ,\n",
      "       0.85167464, 0.8277512 , 0.79904306, 0.83253589, 0.784689  ,\n",
      "       0.79425837]), 'split49_test_recall': array([0.9138756 , 0.9138756 , 0.9138756 , 0.94736842, 0.92344498,\n",
      "       0.88516746, 0.89952153, 0.86602871, 0.88038278, 0.86602871,\n",
      "       0.83732057]), 'mean_test_recall': array([0.88831478, 0.88860186, 0.93139906, 0.89644553, 0.89434579,\n",
      "       0.89559349, 0.87681818, 0.86762514, 0.86694976, 0.85679564,\n",
      "       0.85038093]), 'std_test_recall': array([0.02735532, 0.02787653, 0.04153762, 0.04040678, 0.0321889 ,\n",
      "       0.03202838, 0.03010531, 0.03090793, 0.02942246, 0.0285814 ,\n",
      "       0.02890654]), 'rank_test_recall': array([ 6,  5,  1,  2,  4,  3,  7,  8,  9, 10, 11]), 'split0_test_balanced_accuracy': array([0.66257541, 0.66257541, 0.61303828, 0.7069378 , 0.7208498 ,\n",
      "       0.70998024, 0.7138808 , 0.7423549 , 0.71213855, 0.71518099,\n",
      "       0.72191596]), 'split1_test_balanced_accuracy': array([0.66845226, 0.66845226, 0.6395621 , 0.73106927, 0.71845746,\n",
      "       0.7243343 , 0.73954649, 0.71975765, 0.72235802, 0.71408883,\n",
      "       0.72365821]), 'split2_test_balanced_accuracy': array([0.64824735, 0.64824735, 0.64671313, 0.69562617, 0.72235802,\n",
      "       0.71931558, 0.74084668, 0.71258061, 0.71801539, 0.71148845,\n",
      "       0.7138808 ]), 'split3_test_balanced_accuracy': array([0.66975244, 0.66975244, 0.67867173, 0.68062201, 0.71453089,\n",
      "       0.70301123, 0.72170793, 0.75800915, 0.74170481, 0.73322758,\n",
      "       0.70147701]), 'split4_test_balanced_accuracy': array([0.71592809, 0.71592809, 0.6499791 , 0.71592809, 0.7284699 ,\n",
      "       0.73453177, 0.72554348, 0.73097826, 0.7242893 , 0.72491639,\n",
      "       0.71467391]), 'split5_test_balanced_accuracy': array([0.63910953, 0.63910953, 0.64872492, 0.67046405, 0.69157609,\n",
      "       0.72857441, 0.72251254, 0.72188545, 0.70568562, 0.71352425,\n",
      "       0.6930393 ]), 'split6_test_balanced_accuracy': array([0.68460487, 0.68460487, 0.61130974, 0.71730901, 0.6862874 ,\n",
      "       0.71517956, 0.70826542, 0.71278721, 0.71420685, 0.72280351,\n",
      "       0.72519586]), 'split7_test_balanced_accuracy': array([0.70968505, 0.70968505, 0.62398128, 0.71686209, 0.70321783,\n",
      "       0.73902413, 0.74283611, 0.7002997 , 0.72156791, 0.72564278,\n",
      "       0.73636889]), 'split8_test_balanced_accuracy': array([0.70871234, 0.70871234, 0.68434197, 0.70082549, 0.69320154,\n",
      "       0.69151901, 0.71872864, 0.70844945, 0.70366476, 0.73352963,\n",
      "       0.72227772]), 'split9_test_balanced_accuracy': array([0.62842421, 0.62842421, 0.58473106, 0.61149377, 0.6389663 ,\n",
      "       0.65305747, 0.73042747, 0.67955728, 0.69914296, 0.69435827,\n",
      "       0.73689468]), 'split10_test_balanced_accuracy': array([0.68106407, 0.68106407, 0.61847306, 0.65888288, 0.67757957,\n",
      "       0.72997712, 0.72105783, 0.70236114, 0.72170793, 0.71866549,\n",
      "       0.7277928 ]), 'split11_test_balanced_accuracy': array([0.65149782, 0.65149782, 0.59847618, 0.70584564, 0.67562929,\n",
      "       0.68410651, 0.67627938, 0.68584876, 0.6708446 , 0.69084148,\n",
      "       0.71497296]), 'split12_test_balanced_accuracy': array([0.69193364, 0.69193364, 0.6534741 , 0.81259101, 0.76586228,\n",
      "       0.77563969, 0.80172145, 0.77215519, 0.79454441, 0.80650614,\n",
      "       0.7999792 ]), 'split13_test_balanced_accuracy': array([0.68844914, 0.68844914, 0.62520803, 0.69890264, 0.68499064,\n",
      "       0.69411795, 0.68345642, 0.68974932, 0.69627626, 0.69388392,\n",
      "       0.6673601 ]), 'split14_test_balanced_accuracy': array([0.6312709 , 0.6312709 , 0.60880017, 0.61371237, 0.62228261,\n",
      "       0.63315217, 0.66711957, 0.62416388, 0.64956104, 0.65196488,\n",
      "       0.63691472]), 'split15_test_balanced_accuracy': array([0.68028846, 0.68028846, 0.65551839, 0.69408445, 0.70369983,\n",
      "       0.7145694 , 0.76348244, 0.75323997, 0.76651338, 0.784699  ,\n",
      "       0.76295987]), 'split16_test_balanced_accuracy': array([0.70011567, 0.70011567, 0.58933172, 0.70561018, 0.69966875,\n",
      "       0.68221252, 0.7220937 , 0.70534728, 0.73281981, 0.69338556,\n",
      "       0.68647142]), 'split17_test_balanced_accuracy': array([0.67955728, 0.67955728, 0.62771439, 0.70747673, 0.69701351,\n",
      "       0.73308271, 0.72829802, 0.69533098, 0.70800252, 0.7218308 ,\n",
      "       0.72803512]), 'split18_test_balanced_accuracy': array([0.70942216, 0.62726747, 0.67122351, 0.73857721, 0.7218308 ,\n",
      "       0.75356223, 0.75666439, 0.73016457, 0.72467007, 0.76073926,\n",
      "       0.75524476]), 'split19_test_balanced_accuracy': array([0.63657395, 0.63657395, 0.65350439, 0.69817025, 0.6905463 ,\n",
      "       0.70224512, 0.72900783, 0.72829802, 0.71110468, 0.71970135,\n",
      "       0.69914296]), 'split20_test_balanced_accuracy': array([0.65888288, 0.65888288, 0.59171521, 0.7208238 , 0.67214479,\n",
      "       0.67997192, 0.75062409, 0.72410027, 0.73257749, 0.74279696,\n",
      "       0.71278864]), 'split21_test_balanced_accuracy': array([0.64148637, 0.64148637, 0.66694404, 0.71759933, 0.73106927,\n",
      "       0.7534585 , 0.72932702, 0.74388912, 0.73845434, 0.74693156,\n",
      "       0.7319274 ]), 'split22_test_balanced_accuracy': array([0.67737154, 0.67737154, 0.63173497, 0.71671521, 0.71541502,\n",
      "       0.70194508, 0.69976077, 0.72454233, 0.72454233, 0.71193052,\n",
      "       0.72649261]), 'split23_test_balanced_accuracy': array([0.72105783, 0.72105783, 0.67217079, 0.69063345, 0.73627002,\n",
      "       0.7277928 , 0.72191596, 0.73647805, 0.75148221, 0.73083524,\n",
      "       0.75930934]), 'split24_test_balanced_accuracy': array([0.65050167, 0.65050167, 0.68143813, 0.70798495, 0.74853679,\n",
      "       0.74299749, 0.73944398, 0.72920151, 0.70986622, 0.72313963,\n",
      "       0.72251254]), 'split25_test_balanced_accuracy': array([0.69220318, 0.69220318, 0.66084866, 0.6916806 , 0.72073579,\n",
      "       0.72606605, 0.72313963, 0.72251254, 0.73160535, 0.70568562,\n",
      "       0.71237458]), 'split26_test_balanced_accuracy': array([0.67406278, 0.67406278, 0.66741154, 0.71110468, 0.72687838,\n",
      "       0.74575425, 0.72803512, 0.71084179, 0.77225406, 0.76888901,\n",
      "       0.74212629]), 'split27_test_balanced_accuracy': array([0.65828908, 0.65828908, 0.62611073, 0.66430937, 0.70729271,\n",
      "       0.73813029, 0.71730901, 0.69533098, 0.75648036, 0.73521216,\n",
      "       0.73042747]), 'split28_test_balanced_accuracy': array([0.65686945, 0.65686945, 0.58880593, 0.64038593, 0.65208476,\n",
      "       0.73211   , 0.72351333, 0.69533098, 0.66565014, 0.67663915,\n",
      "       0.68620853]), 'split29_test_balanced_accuracy': array([0.59695568, 0.59695568, 0.66546611, 0.74123245, 0.7536411 ,\n",
      "       0.72474894, 0.73166307, 0.71801882, 0.71084179, 0.71465377,\n",
      "       0.71465377]), 'split30_test_balanced_accuracy': array([0.69497608, 0.69497608, 0.60086853, 0.69476805, 0.71975765,\n",
      "       0.69084148, 0.70888808, 0.72714271, 0.73975452, 0.74823175,\n",
      "       0.74713959]), 'split31_test_balanced_accuracy': array([0.68345642, 0.68345642, 0.66475973, 0.71843145, 0.69671833,\n",
      "       0.69084148, 0.68670689, 0.6999688 , 0.68605679, 0.6999688 ,\n",
      "       0.6999688 ]), 'split32_test_balanced_accuracy': array([0.64497088, 0.64497088, 0.64107031, 0.67105263, 0.71258061,\n",
      "       0.68844914, 0.69214167, 0.68387248, 0.66452569, 0.65061369,\n",
      "       0.63865197]), 'split33_test_balanced_accuracy': array([0.69323383, 0.68909923, 0.63064281, 0.66085916, 0.69955274,\n",
      "       0.69541814, 0.74713959, 0.71931558, 0.74539734, 0.75322446,\n",
      "       0.7423549 ]), 'split34_test_balanced_accuracy': array([0.68384197, 0.68384197, 0.66638796, 0.67600334, 0.72261706,\n",
      "       0.73463629, 0.74728261, 0.72627508, 0.73589047, 0.72752926,\n",
      "       0.7486413 ]), 'split35_test_balanced_accuracy': array([0.66095318, 0.66095318, 0.58099916, 0.75522575, 0.76410953,\n",
      "       0.76410953, 0.75752508, 0.74843227, 0.74968645, 0.73285953,\n",
      "       0.75397157]), 'split36_test_balanced_accuracy': array([0.70800252, 0.70800252, 0.6604974 , 0.73954992, 0.68983648,\n",
      "       0.72067406, 0.74309901, 0.76986172, 0.80140912, 0.78873758,\n",
      "       0.79591461]), 'split37_test_balanced_accuracy': array([0.67645512, 0.67645512, 0.62203586, 0.69275461, 0.69080919,\n",
      "       0.74956622, 0.7433619 , 0.76507703, 0.73308271, 0.74620117,\n",
      "       0.73663179]), 'split38_test_balanced_accuracy': array([0.63728377, 0.63728377, 0.59961092, 0.66528209, 0.66572901,\n",
      "       0.72856091, 0.76294758, 0.73547505, 0.75506073, 0.73999685,\n",
      "       0.76986172]), 'split39_test_balanced_accuracy': array([0.64233135, 0.64233135, 0.6860245 , 0.72564278, 0.75240549,\n",
      "       0.75674326, 0.75887271, 0.76888901, 0.78395289, 0.77199117,\n",
      "       0.7633945 ]), 'split40_test_balanced_accuracy': array([0.65303204, 0.65303204, 0.71975765, 0.67607135, 0.71671521,\n",
      "       0.73715415, 0.76193572, 0.72867693, 0.72867693, 0.74149678,\n",
      "       0.76802059]), 'split41_test_balanced_accuracy': array([0.65867485, 0.65867485, 0.66845226, 0.67388704, 0.7138808 ,\n",
      "       0.71476493, 0.72976909, 0.73411171, 0.71715727, 0.72454233,\n",
      "       0.71780736]), 'split42_test_balanced_accuracy': array([0.6749792 , 0.6749792 , 0.63454337, 0.68759101, 0.68519867,\n",
      "       0.68499064, 0.73301955, 0.77933222, 0.77041294, 0.74737362,\n",
      "       0.749974  ]), 'split43_test_balanced_accuracy': array([0.68844914, 0.68844914, 0.6215155 , 0.70714583, 0.70735386,\n",
      "       0.74713959, 0.74843978, 0.73452777, 0.75800915, 0.73582796,\n",
      "       0.73692012]), 'split44_test_balanced_accuracy': array([0.65133779, 0.65133779, 0.62520903, 0.67966137, 0.71331522,\n",
      "       0.69701087, 0.7055811 , 0.71164298, 0.72251254, 0.715301  ,\n",
      "       0.68875418]), 'split45_test_balanced_accuracy': array([0.65123328, 0.65123328, 0.63545151, 0.66879181, 0.72617057,\n",
      "       0.71227007, 0.73641304, 0.71540552, 0.72993311, 0.7069398 ,\n",
      "       0.71958612]), 'split46_test_balanced_accuracy': array([0.66714864, 0.66714864, 0.63089542, 0.72590567, 0.71110468,\n",
      "       0.73308271, 0.71252432, 0.72519586, 0.72280351, 0.72351333,\n",
      "       0.73211   ]), 'split47_test_balanced_accuracy': array([0.6487197 , 0.6487197 , 0.66430937, 0.66288974, 0.71446974,\n",
      "       0.74814659, 0.75195857, 0.76649666, 0.74717388, 0.75098586,\n",
      "       0.76197487]), 'split48_test_balanced_accuracy': array([0.71394395, 0.71394395, 0.66980388, 0.69727641, 0.72661549,\n",
      "       0.73902413, 0.74354593, 0.75116988, 0.74044377, 0.70553131,\n",
      "       0.70482149]), 'split49_test_balanced_accuracy': array([0.68221252, 0.68221252, 0.63276197, 0.65500289, 0.69798622,\n",
      "       0.7118145 , 0.70800252, 0.74620117, 0.74238919, 0.72971765,\n",
      "       0.71536358]), 'mean_test_balanced_accuracy': array([0.67057163, 0.66884584, 0.63982041, 0.69634508, 0.70696028,\n",
      "       0.71878814, 0.72914727, 0.72421271, 0.72813804, 0.72656552,\n",
      "       0.72597881]), 'std_test_balanced_accuracy': array([0.026411  , 0.02642866, 0.03067419, 0.03417919, 0.02834611,\n",
      "       0.02790025, 0.02451757, 0.02821906, 0.03081195, 0.0297581 ,\n",
      "       0.03215743]), 'rank_test_balanced_accuracy': array([ 9, 10, 11,  8,  7,  6,  1,  5,  2,  3,  4])}\n",
      "dict_keys(['mean_fit_time', 'std_fit_time', 'mean_score_time', 'std_score_time', 'param_max_depth', 'params', 'split0_test_roc_auc', 'split1_test_roc_auc', 'split2_test_roc_auc', 'split3_test_roc_auc', 'split4_test_roc_auc', 'split5_test_roc_auc', 'split6_test_roc_auc', 'split7_test_roc_auc', 'split8_test_roc_auc', 'split9_test_roc_auc', 'split10_test_roc_auc', 'split11_test_roc_auc', 'split12_test_roc_auc', 'split13_test_roc_auc', 'split14_test_roc_auc', 'split15_test_roc_auc', 'split16_test_roc_auc', 'split17_test_roc_auc', 'split18_test_roc_auc', 'split19_test_roc_auc', 'split20_test_roc_auc', 'split21_test_roc_auc', 'split22_test_roc_auc', 'split23_test_roc_auc', 'split24_test_roc_auc', 'split25_test_roc_auc', 'split26_test_roc_auc', 'split27_test_roc_auc', 'split28_test_roc_auc', 'split29_test_roc_auc', 'split30_test_roc_auc', 'split31_test_roc_auc', 'split32_test_roc_auc', 'split33_test_roc_auc', 'split34_test_roc_auc', 'split35_test_roc_auc', 'split36_test_roc_auc', 'split37_test_roc_auc', 'split38_test_roc_auc', 'split39_test_roc_auc', 'split40_test_roc_auc', 'split41_test_roc_auc', 'split42_test_roc_auc', 'split43_test_roc_auc', 'split44_test_roc_auc', 'split45_test_roc_auc', 'split46_test_roc_auc', 'split47_test_roc_auc', 'split48_test_roc_auc', 'split49_test_roc_auc', 'mean_test_roc_auc', 'std_test_roc_auc', 'rank_test_roc_auc', 'split0_test_recall', 'split1_test_recall', 'split2_test_recall', 'split3_test_recall', 'split4_test_recall', 'split5_test_recall', 'split6_test_recall', 'split7_test_recall', 'split8_test_recall', 'split9_test_recall', 'split10_test_recall', 'split11_test_recall', 'split12_test_recall', 'split13_test_recall', 'split14_test_recall', 'split15_test_recall', 'split16_test_recall', 'split17_test_recall', 'split18_test_recall', 'split19_test_recall', 'split20_test_recall', 'split21_test_recall', 'split22_test_recall', 'split23_test_recall', 'split24_test_recall', 'split25_test_recall', 'split26_test_recall', 'split27_test_recall', 'split28_test_recall', 'split29_test_recall', 'split30_test_recall', 'split31_test_recall', 'split32_test_recall', 'split33_test_recall', 'split34_test_recall', 'split35_test_recall', 'split36_test_recall', 'split37_test_recall', 'split38_test_recall', 'split39_test_recall', 'split40_test_recall', 'split41_test_recall', 'split42_test_recall', 'split43_test_recall', 'split44_test_recall', 'split45_test_recall', 'split46_test_recall', 'split47_test_recall', 'split48_test_recall', 'split49_test_recall', 'mean_test_recall', 'std_test_recall', 'rank_test_recall', 'split0_test_balanced_accuracy', 'split1_test_balanced_accuracy', 'split2_test_balanced_accuracy', 'split3_test_balanced_accuracy', 'split4_test_balanced_accuracy', 'split5_test_balanced_accuracy', 'split6_test_balanced_accuracy', 'split7_test_balanced_accuracy', 'split8_test_balanced_accuracy', 'split9_test_balanced_accuracy', 'split10_test_balanced_accuracy', 'split11_test_balanced_accuracy', 'split12_test_balanced_accuracy', 'split13_test_balanced_accuracy', 'split14_test_balanced_accuracy', 'split15_test_balanced_accuracy', 'split16_test_balanced_accuracy', 'split17_test_balanced_accuracy', 'split18_test_balanced_accuracy', 'split19_test_balanced_accuracy', 'split20_test_balanced_accuracy', 'split21_test_balanced_accuracy', 'split22_test_balanced_accuracy', 'split23_test_balanced_accuracy', 'split24_test_balanced_accuracy', 'split25_test_balanced_accuracy', 'split26_test_balanced_accuracy', 'split27_test_balanced_accuracy', 'split28_test_balanced_accuracy', 'split29_test_balanced_accuracy', 'split30_test_balanced_accuracy', 'split31_test_balanced_accuracy', 'split32_test_balanced_accuracy', 'split33_test_balanced_accuracy', 'split34_test_balanced_accuracy', 'split35_test_balanced_accuracy', 'split36_test_balanced_accuracy', 'split37_test_balanced_accuracy', 'split38_test_balanced_accuracy', 'split39_test_balanced_accuracy', 'split40_test_balanced_accuracy', 'split41_test_balanced_accuracy', 'split42_test_balanced_accuracy', 'split43_test_balanced_accuracy', 'split44_test_balanced_accuracy', 'split45_test_balanced_accuracy', 'split46_test_balanced_accuracy', 'split47_test_balanced_accuracy', 'split48_test_balanced_accuracy', 'split49_test_balanced_accuracy', 'mean_test_balanced_accuracy', 'std_test_balanced_accuracy', 'rank_test_balanced_accuracy'])\n"
     ]
    }
   ],
   "source": [
    "print(model.cv_results_)\n",
    "print(model.cv_results_.keys())"
   ]
  },
  {
   "cell_type": "markdown",
   "metadata": {},
   "source": [
    "#14 View the results, comment on how the model performed using several evaluation metrics."
   ]
  },
  {
   "cell_type": "code",
   "execution_count": 29,
   "metadata": {},
   "outputs": [
    {
     "name": "stdout",
     "output_type": "stream",
     "text": [
      "   depth       auc    recall   bal_acc     aucSD  recallSD  bal_accSD\n",
      "0      1  0.670572  0.888315  0.670572  0.026411  0.027355   0.026411\n",
      "1      2  0.724269  0.888602  0.668846  0.023831  0.027877   0.026429\n",
      "2      3  0.778344  0.931399  0.639820  0.023224  0.041538   0.030674\n",
      "3      4  0.796366  0.896446  0.696345  0.024069  0.040407   0.034179\n",
      "4      5  0.808716  0.894346  0.706960  0.025214  0.032189   0.028346\n"
     ]
    }
   ],
   "source": [
    "auc = model.cv_results_['mean_test_roc_auc']\n",
    "recall= model.cv_results_['mean_test_recall']\n",
    "bal_acc= model.cv_results_['mean_test_balanced_accuracy']\n",
    "\n",
    "SDauc = model.cv_results_['std_test_roc_auc']\n",
    "SDrecall= model.cv_results_['std_test_recall']\n",
    "SDbal_acc= model.cv_results_['std_test_balanced_accuracy']\n",
    "\n",
    "depth= np.unique(model.cv_results_['param_max_depth']).data\n",
    "final_model = pd.DataFrame(list(zip(depth, auc, recall, bal_acc,SDauc,SDrecall,SDbal_acc)),\n",
    "               columns =['depth','auc','recall','bal_acc','aucSD','recallSD','bal_accSD'])\n",
    "\n",
    "print(final_model.head())"
   ]
  },
  {
   "cell_type": "markdown",
   "metadata": {},
   "source": [
    "It appears that as the depth of the model increases, the model's performance generally improves. This is indicated by higher AUC, recall, and balanced accuracy values, along with small standard deviations as depth increases. We should consider that too deep could result in overfitting which would hurt the predictive power of our model. (Its intended use)"
   ]
  },
  {
   "cell_type": "code",
   "execution_count": 30,
   "metadata": {},
   "outputs": [
    {
     "name": "stdout",
     "output_type": "stream",
     "text": [
      "[<matplotlib.lines.Line2D object at 0x0000024FCB0622D0>]\n"
     ]
    },
    {
     "data": {
      "image/png": "[encoded data removed]",
      "text/plain": [
       "<Figure size 640x480 with 1 Axes>"
      ]
     },
     "metadata": {},
     "output_type": "display_data"
    }
   ],
   "source": [
    "from matplotlib import pyplot as plt\n",
    "print(plt.plot(final_model.depth,final_model.auc))"
   ]
  },
  {
   "cell_type": "markdown",
   "metadata": {},
   "source": [
    "This depth model shows us that the depth of 5 is the optimum depth as we calculated earlier."
   ]
  },
  {
   "cell_type": "markdown",
   "metadata": {},
   "source": [
    "#15 Which variables appear to be contributing the most (variable importance) "
   ]
  },
  {
   "cell_type": "code",
   "execution_count": 31,
   "metadata": {},
   "outputs": [
    {
     "name": "stdout",
     "output_type": "stream",
     "text": [
      "                           importance\n",
      "num_voted_users              0.526925\n",
      "budget                       0.122635\n",
      "duration                     0.112611\n",
      "genres                       0.075905\n",
      "actor_2_facebook_likes       0.047320\n",
      "gross                        0.032251\n",
      "language                     0.027843\n",
      "num_critic_for_reviews       0.015486\n",
      "title_year                   0.011887\n",
      "actor_3_facebook_likes       0.011324\n",
      "cast_total_facebook_likes    0.008215\n",
      "aspect_ratio                 0.006063\n",
      "plot_keywords                0.001536\n",
      "content_rating               0.000000\n",
      "country                      0.000000\n",
      "color                        0.000000\n",
      "num_user_for_reviews         0.000000\n",
      "facenumber_in_poster         0.000000\n",
      "director_name                0.000000\n",
      "actor_1_name                 0.000000\n",
      "actor_1_facebook_likes       0.000000\n",
      "actor_2_name                 0.000000\n",
      "director_facebook_likes      0.000000\n",
      "movie_facebook_likes         0.000000\n"
     ]
    }
   ],
   "source": [
    "varimp=pd.DataFrame(best.feature_importances_,index = X.columns,columns=['importance']).sort_values('importance', ascending=False)\n",
    "print(varimp)"
   ]
  },
  {
   "cell_type": "code",
   "execution_count": 32,
   "metadata": {},
   "outputs": [
    {
     "name": "stdout",
     "output_type": "stream",
     "text": [
      "Axes(0.125,0.11;0.775x0.77)\n"
     ]
    },
    {
     "data": {
      "image/png": "[encoded data removed]",
      "text/plain": [
       "<Figure size 1000x700 with 1 Axes>"
      ]
     },
     "metadata": {},
     "output_type": "display_data"
    }
   ],
   "source": [
    "plt.figure(figsize=(10,7))\n",
    "print(varimp.importance.nlargest(7).plot(kind='barh'))"
   ]
  },
  {
   "cell_type": "markdown",
   "metadata": {},
   "source": [
    "We see here that `num_voted_users_` is by far the variable with the highest importence, followed by `budget`, `duration`, and `genre`."
   ]
  },
  {
   "attachments": {},
   "cell_type": "markdown",
   "metadata": {},
   "source": [
    "#16 Use the predict method on the test data and print out the results."
   ]
  },
  {
   "cell_type": "code",
   "execution_count": 33,
   "metadata": {},
   "outputs": [
    {
     "name": "stdout",
     "output_type": "stream",
     "text": [
      "[1. 0. 0. 1. 1. 1. 1. 1. 1. 0. 1. 1. 0. 1. 1. 1. 1. 0. 1. 0. 1. 1. 1. 1.\n",
      " 1. 1. 0. 1. 1. 1. 1. 1. 1. 1. 0. 1. 0. 1. 0. 1. 1. 0. 1. 1. 1. 1. 1. 1.\n",
      " 1. 0. 0. 1. 1. 1. 0. 1. 0. 1. 0. 1. 0. 1. 1. 0. 1. 1. 0. 1. 1. 0. 1. 1.\n",
      " 1. 1. 1. 0. 1. 1. 0. 0. 1. 0. 1. 0. 1. 1. 1. 1. 1. 0. 1. 0. 1. 0. 1. 1.\n",
      " 1. 0. 1. 1. 0. 1. 1. 1. 0. 0. 1. 1. 1. 1. 0. 1. 0. 1. 1. 1. 1. 1. 1. 1.\n",
      " 1. 0. 0. 0. 1. 1. 1. 1. 1. 0. 1. 1. 1. 0. 1. 1. 1. 1. 0. 1. 1. 1. 1. 0.\n",
      " 1. 1. 1. 0. 1. 0. 1. 1. 1. 1. 1. 1. 1. 1. 0. 1. 1. 1. 1. 0. 1. 1. 1. 1.\n",
      " 1. 1. 1. 1. 1. 1. 0. 1. 0. 0. 1. 1. 1. 1. 1. 1. 1. 0. 1. 1. 1. 1. 1. 0.\n",
      " 0. 0. 1. 1. 0. 1. 1. 1. 1. 1. 1. 1. 0. 1. 1. 1. 1. 1. 1. 1. 0. 0. 1. 1.\n",
      " 1. 1. 1. 1. 1. 1. 1. 0. 1. 1. 1. 1. 0. 1. 0. 1. 1. 1. 1. 0. 1. 1. 1. 1.\n",
      " 1. 1. 0. 1. 0. 1. 0. 1. 1. 1. 1. 1. 1. 0. 1. 1. 1. 0. 1. 0. 1. 0. 1. 1.\n",
      " 1. 1. 1. 0. 1. 0. 1. 1. 1. 1. 0. 0. 1. 1. 0. 1. 0. 0. 1. 1. 0. 1. 1. 0.\n",
      " 0. 0. 1. 1. 1. 0. 1. 1. 1. 1. 1. 1. 0. 0. 1. 0. 0. 0. 0. 0. 0. 1. 1. 1.\n",
      " 1. 1. 1. 1. 1. 1. 1. 1. 1. 1. 1. 0. 0. 0. 1. 0. 1. 1. 0. 1. 1. 1. 1. 1.\n",
      " 1. 1. 0. 1. 1. 0. 1. 0. 1. 1. 1. 1. 1. 0. 0. 0. 1. 1. 1. 1. 1. 1. 1. 1.\n",
      " 0. 1. 0. 1. 0. 1. 1. 1. 1. 1. 1. 1. 1. 1. 1. 1.]\n"
     ]
    }
   ],
   "source": [
    "y_pred = model.predict(X_test)\n",
    "print(y_pred)"
   ]
  },
  {
   "cell_type": "markdown",
   "metadata": {},
   "source": [
    "#17 How does the model perform on the test data?"
   ]
  },
  {
   "cell_type": "code",
   "execution_count": 35,
   "metadata": {},
   "outputs": [
    {
     "name": "stdout",
     "output_type": "stream",
     "text": [
      "0.7912543728135932\n",
      "              precision    recall  f1-score   support\n",
      "\n",
      "         0.0       0.59      0.67      0.63       101\n",
      "         1.0       0.87      0.83      0.85       275\n",
      "\n",
      "    accuracy                           0.79       376\n",
      "   macro avg       0.73      0.75      0.74       376\n",
      "weighted avg       0.80      0.79      0.79       376\n",
      "\n"
     ]
    }
   ],
   "source": [
    "from sklearn.metrics import classification_report\n",
    "print(model.score(X_test, y_test))\n",
    "print(classification_report(y_pred, y_test))"
   ]
  },
  {
   "cell_type": "markdown",
   "metadata": {},
   "source": [
    "The model appears to perform reasonably well on the test data. We have a good balance between precision and recall for 'not good' movies. However, there is room for improvement in the model's performance of identifying 'good' movies, which is what we are building the model for. It is still alright, but still room for improvement. The model is at least doing nearly two times better than randomly guessing."
   ]
  },
  {
   "cell_type": "markdown",
   "metadata": {},
   "source": [
    "#18 Print out the confusion matrix for the test data, what does it tell you about the model?"
   ]
  },
  {
   "cell_type": "code",
   "execution_count": 36,
   "metadata": {},
   "outputs": [
    {
     "data": {
      "text/plain": [
       "<sklearn.metrics._plot.confusion_matrix.ConfusionMatrixDisplay at 0x24fcdd1a250>"
      ]
     },
     "execution_count": 36,
     "metadata": {},
     "output_type": "execute_result"
    },
    {
     "data": {
      "image/png": "[encoded data removed]",
      "text/plain": [
       "<Figure size 640x480 with 2 Axes>"
      ]
     },
     "metadata": {},
     "output_type": "display_data"
    }
   ],
   "source": [
    "from sklearn.metrics import confusion_matrix, ConfusionMatrixDisplay\n",
    "\n",
    "custom_threshold = 0.5\n",
    "conf_matrix = confusion_matrix(y_pred, y_test)\n",
    "\n",
    "disp = ConfusionMatrixDisplay(confusion_matrix = conf_matrix, display_labels = ['Good Movie','Not Good Movie'])\n",
    "disp.plot()"
   ]
  },
  {
   "cell_type": "markdown",
   "metadata": {},
   "source": [
    "The confusion matrix confirms that our model has a fairly decent accuracy (0.8125), but is doing much better at predicting 'not good' movies than it is at predicting 'good' movies which, again, is the goal of the model. "
   ]
  },
  {
   "cell_type": "markdown",
   "metadata": {},
   "source": [
    "#19 What are the top 3 movies based on the test set? Which variables are most important in predicting the top 3 movies?"
   ]
  },
  {
   "cell_type": "code",
   "execution_count": 39,
   "metadata": {},
   "outputs": [
    {
     "name": "stdout",
     "output_type": "stream",
     "text": [
      "             movie_title  imdb_score\n",
      "1076  Miss Congeniality          6.2\n",
      "1085       Training Day          7.7\n",
      "874        Stuck on You          5.8\n"
     ]
    }
   ],
   "source": [
    "top_3_indices = X_test.index[y_pred.argsort()[-3:][::-1]]\n",
    "\n",
    "# Use these indices to retrieve the top 3 movies from the original dataset\n",
    "top_3_movies = old_movie_metadata.iloc[top_3_indices]\n",
    "\n",
    "print(top_3_movies[['movie_title', 'imdb_score']])\n",
    "#again, using the feature importances we know the top 3 features are num_voted_users, budget, and duration"
   ]
  },
  {
   "cell_type": "markdown",
   "metadata": {},
   "source": [
    "#20 Summarize what you learned along the way and make recommendations on how this could be used moving forward, being careful not to over promise."
   ]
  },
  {
   "cell_type": "markdown",
   "metadata": {},
   "source": [
    "We have learned that even with a lot of data, sometimes getting a model to perform outstandingly is much more difficult than we previously thought. This model is okay at perdicting which movies will be 'good,' but need more tuning and feature engineering to reach its peak performance (without overfitting to our data). As for reccomendations, we say that this model can be used to predict which movies will be good, but does a much better job at predicting which movies won't be good, which can be almost as important. However, we would not reccomend using the model on its own in its current state. Perhaps using this predictive model in conjuncction with input from industry professionals would give the user a broader, more holistic view of whether an upcoming movie will end up 'good' or 'not good.' "
   ]
  }
 ],
 "metadata": {
  "kernelspec": {
   "display_name": "Python 3 (ipykernel)",
   "language": "python",
   "name": "python3"
  },
  "language_info": {
   "codemirror_mode": {
    "name": "ipython",
    "version": 3
   },
   "file_extension": ".py",
   "mimetype": "text/x-python",
   "name": "python",
   "nbconvert_exporter": "python",
   "pygments_lexer": "ipython3",
   "version": "3.10.12"
  },
  "vscode": {
   "interpreter": {
    "hash": "bae868eca559e6fdaaf59ca8923d9e779ed5e59c28ce3970bf9171129c96e6a8"
   }
  }
 },
 "nbformat": 4,
 "nbformat_minor": 4
}
