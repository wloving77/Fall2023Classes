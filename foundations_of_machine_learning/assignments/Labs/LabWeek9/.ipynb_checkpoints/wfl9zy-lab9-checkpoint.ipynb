{
 "cells": [
  {
   "cell_type": "markdown",
   "metadata": {},
   "source": [
    "Congrats! You just graduated UVA's BSDS program and got a job working at a movie studio in Hollywood. \n",
    "\n",
    "Your boss is the head of the studio and wants to know if they can gain a competitive advantage by predicting new movies that might get high imdb scores (movie rating). \n",
    "\n",
    "You would like to be able to explain the model to mere mortals but need a fairly robust and flexible approach so you've chosen to use decision trees to get started. \n",
    "\n",
    "In doing so, similar to  great data scientists of the past you remembered the excellent education provided to you at UVA in a undergrad data science course and have outline 20ish steps that will need to be undertaken to complete this task. As always, you will need to make sure to #comment your work heavily. \n",
    "\n",
    " Footnotes: \n",
    "-\tYou can add or combine steps if needed\n",
    "-\tAlso, remember to try several methods during evaluation and always be mindful of how the model will be used in practice.\n",
    "- Make sure all your variables are the correct type (factor, character,numeric, etc.)"
   ]
  },
  {
   "cell_type": "code",
   "execution_count": 1,
   "metadata": {},
   "outputs": [],
   "source": [
    "import pandas as pd\n",
    "import numpy as np\n",
    "\n",
    "pd.set_option(\"display.max_columns\", None)"
   ]
  },
  {
   "cell_type": "code",
   "execution_count": 2,
   "metadata": {},
   "outputs": [],
   "source": [
    "df_movies=pd.read_csv(\"data/movie_metadata.csv\")"
   ]
  },
  {
   "cell_type": "markdown",
   "metadata": {},
   "source": [
    "#2 Ensure all the variables are classified correctly including the target variable and collapse factor variables as needed."
   ]
  },
  {
   "cell_type": "code",
   "execution_count": 3,
   "metadata": {},
   "outputs": [
    {
     "data": {
      "text/html": [
       "<div>\n",
       "<style scoped>\n",
       "    .dataframe tbody tr th:only-of-type {\n",
       "        vertical-align: middle;\n",
       "    }\n",
       "\n",
       "    .dataframe tbody tr th {\n",
       "        vertical-align: top;\n",
       "    }\n",
       "\n",
       "    .dataframe thead th {\n",
       "        text-align: right;\n",
       "    }\n",
       "</style>\n",
       "<table border=\"1\" class=\"dataframe\">\n",
       "  <thead>\n",
       "    <tr style=\"text-align: right;\">\n",
       "      <th></th>\n",
       "      <th>color</th>\n",
       "      <th>director_name</th>\n",
       "      <th>num_critic_for_reviews</th>\n",
       "      <th>duration</th>\n",
       "      <th>director_facebook_likes</th>\n",
       "      <th>actor_3_facebook_likes</th>\n",
       "      <th>actor_2_name</th>\n",
       "      <th>actor_1_facebook_likes</th>\n",
       "      <th>gross</th>\n",
       "      <th>genres</th>\n",
       "      <th>actor_1_name</th>\n",
       "      <th>movie_title</th>\n",
       "      <th>num_voted_users</th>\n",
       "      <th>cast_total_facebook_likes</th>\n",
       "      <th>actor_3_name</th>\n",
       "      <th>facenumber_in_poster</th>\n",
       "      <th>plot_keywords</th>\n",
       "      <th>movie_imdb_link</th>\n",
       "      <th>num_user_for_reviews</th>\n",
       "      <th>language</th>\n",
       "      <th>country</th>\n",
       "      <th>content_rating</th>\n",
       "      <th>budget</th>\n",
       "      <th>title_year</th>\n",
       "      <th>actor_2_facebook_likes</th>\n",
       "      <th>imdb_score</th>\n",
       "      <th>aspect_ratio</th>\n",
       "      <th>movie_facebook_likes</th>\n",
       "    </tr>\n",
       "  </thead>\n",
       "  <tbody>\n",
       "    <tr>\n",
       "      <th>0</th>\n",
       "      <td>Color</td>\n",
       "      <td>James Cameron</td>\n",
       "      <td>723.0</td>\n",
       "      <td>178.0</td>\n",
       "      <td>0.0</td>\n",
       "      <td>855.0</td>\n",
       "      <td>Joel David Moore</td>\n",
       "      <td>1000.0</td>\n",
       "      <td>760505847.0</td>\n",
       "      <td>Action|Adventure|Fantasy|Sci-Fi</td>\n",
       "      <td>CCH Pounder</td>\n",
       "      <td>Avatar</td>\n",
       "      <td>886204</td>\n",
       "      <td>4834</td>\n",
       "      <td>Wes Studi</td>\n",
       "      <td>0.0</td>\n",
       "      <td>avatar|future|marine|native|paraplegic</td>\n",
       "      <td>http://www.imdb.com/title/tt0499549/?ref_=fn_t...</td>\n",
       "      <td>3054.0</td>\n",
       "      <td>English</td>\n",
       "      <td>USA</td>\n",
       "      <td>PG-13</td>\n",
       "      <td>237000000.0</td>\n",
       "      <td>2009.0</td>\n",
       "      <td>936.0</td>\n",
       "      <td>7.9</td>\n",
       "      <td>1.78</td>\n",
       "      <td>33000</td>\n",
       "    </tr>\n",
       "    <tr>\n",
       "      <th>1</th>\n",
       "      <td>Color</td>\n",
       "      <td>Gore Verbinski</td>\n",
       "      <td>302.0</td>\n",
       "      <td>169.0</td>\n",
       "      <td>563.0</td>\n",
       "      <td>1000.0</td>\n",
       "      <td>Orlando Bloom</td>\n",
       "      <td>40000.0</td>\n",
       "      <td>309404152.0</td>\n",
       "      <td>Action|Adventure|Fantasy</td>\n",
       "      <td>Johnny Depp</td>\n",
       "      <td>Pirates of the Caribbean: At World's End</td>\n",
       "      <td>471220</td>\n",
       "      <td>48350</td>\n",
       "      <td>Jack Davenport</td>\n",
       "      <td>0.0</td>\n",
       "      <td>goddess|marriage ceremony|marriage proposal|pi...</td>\n",
       "      <td>http://www.imdb.com/title/tt0449088/?ref_=fn_t...</td>\n",
       "      <td>1238.0</td>\n",
       "      <td>English</td>\n",
       "      <td>USA</td>\n",
       "      <td>PG-13</td>\n",
       "      <td>300000000.0</td>\n",
       "      <td>2007.0</td>\n",
       "      <td>5000.0</td>\n",
       "      <td>7.1</td>\n",
       "      <td>2.35</td>\n",
       "      <td>0</td>\n",
       "    </tr>\n",
       "    <tr>\n",
       "      <th>2</th>\n",
       "      <td>Color</td>\n",
       "      <td>Sam Mendes</td>\n",
       "      <td>602.0</td>\n",
       "      <td>148.0</td>\n",
       "      <td>0.0</td>\n",
       "      <td>161.0</td>\n",
       "      <td>Rory Kinnear</td>\n",
       "      <td>11000.0</td>\n",
       "      <td>200074175.0</td>\n",
       "      <td>Action|Adventure|Thriller</td>\n",
       "      <td>Christoph Waltz</td>\n",
       "      <td>Spectre</td>\n",
       "      <td>275868</td>\n",
       "      <td>11700</td>\n",
       "      <td>Stephanie Sigman</td>\n",
       "      <td>1.0</td>\n",
       "      <td>bomb|espionage|sequel|spy|terrorist</td>\n",
       "      <td>http://www.imdb.com/title/tt2379713/?ref_=fn_t...</td>\n",
       "      <td>994.0</td>\n",
       "      <td>English</td>\n",
       "      <td>UK</td>\n",
       "      <td>PG-13</td>\n",
       "      <td>245000000.0</td>\n",
       "      <td>2015.0</td>\n",
       "      <td>393.0</td>\n",
       "      <td>6.8</td>\n",
       "      <td>2.35</td>\n",
       "      <td>85000</td>\n",
       "    </tr>\n",
       "    <tr>\n",
       "      <th>3</th>\n",
       "      <td>Color</td>\n",
       "      <td>Christopher Nolan</td>\n",
       "      <td>813.0</td>\n",
       "      <td>164.0</td>\n",
       "      <td>22000.0</td>\n",
       "      <td>23000.0</td>\n",
       "      <td>Christian Bale</td>\n",
       "      <td>27000.0</td>\n",
       "      <td>448130642.0</td>\n",
       "      <td>Action|Thriller</td>\n",
       "      <td>Tom Hardy</td>\n",
       "      <td>The Dark Knight Rises</td>\n",
       "      <td>1144337</td>\n",
       "      <td>106759</td>\n",
       "      <td>Joseph Gordon-Levitt</td>\n",
       "      <td>0.0</td>\n",
       "      <td>deception|imprisonment|lawlessness|police offi...</td>\n",
       "      <td>http://www.imdb.com/title/tt1345836/?ref_=fn_t...</td>\n",
       "      <td>2701.0</td>\n",
       "      <td>English</td>\n",
       "      <td>USA</td>\n",
       "      <td>PG-13</td>\n",
       "      <td>250000000.0</td>\n",
       "      <td>2012.0</td>\n",
       "      <td>23000.0</td>\n",
       "      <td>8.5</td>\n",
       "      <td>2.35</td>\n",
       "      <td>164000</td>\n",
       "    </tr>\n",
       "    <tr>\n",
       "      <th>4</th>\n",
       "      <td>NaN</td>\n",
       "      <td>Doug Walker</td>\n",
       "      <td>NaN</td>\n",
       "      <td>NaN</td>\n",
       "      <td>131.0</td>\n",
       "      <td>NaN</td>\n",
       "      <td>Rob Walker</td>\n",
       "      <td>131.0</td>\n",
       "      <td>NaN</td>\n",
       "      <td>Documentary</td>\n",
       "      <td>Doug Walker</td>\n",
       "      <td>Star Wars: Episode VII - The Force Awakens    ...</td>\n",
       "      <td>8</td>\n",
       "      <td>143</td>\n",
       "      <td>NaN</td>\n",
       "      <td>0.0</td>\n",
       "      <td>NaN</td>\n",
       "      <td>http://www.imdb.com/title/tt5289954/?ref_=fn_t...</td>\n",
       "      <td>NaN</td>\n",
       "      <td>NaN</td>\n",
       "      <td>NaN</td>\n",
       "      <td>NaN</td>\n",
       "      <td>NaN</td>\n",
       "      <td>NaN</td>\n",
       "      <td>12.0</td>\n",
       "      <td>7.1</td>\n",
       "      <td>NaN</td>\n",
       "      <td>0</td>\n",
       "    </tr>\n",
       "  </tbody>\n",
       "</table>\n",
       "</div>"
      ],
      "text/plain": [
       "   color      director_name  num_critic_for_reviews  duration  \\\n",
       "0  Color      James Cameron                   723.0     178.0   \n",
       "1  Color     Gore Verbinski                   302.0     169.0   \n",
       "2  Color         Sam Mendes                   602.0     148.0   \n",
       "3  Color  Christopher Nolan                   813.0     164.0   \n",
       "4    NaN        Doug Walker                     NaN       NaN   \n",
       "\n",
       "   director_facebook_likes  actor_3_facebook_likes      actor_2_name  \\\n",
       "0                      0.0                   855.0  Joel David Moore   \n",
       "1                    563.0                  1000.0     Orlando Bloom   \n",
       "2                      0.0                   161.0      Rory Kinnear   \n",
       "3                  22000.0                 23000.0    Christian Bale   \n",
       "4                    131.0                     NaN        Rob Walker   \n",
       "\n",
       "   actor_1_facebook_likes        gross                           genres  \\\n",
       "0                  1000.0  760505847.0  Action|Adventure|Fantasy|Sci-Fi   \n",
       "1                 40000.0  309404152.0         Action|Adventure|Fantasy   \n",
       "2                 11000.0  200074175.0        Action|Adventure|Thriller   \n",
       "3                 27000.0  448130642.0                  Action|Thriller   \n",
       "4                   131.0          NaN                      Documentary   \n",
       "\n",
       "      actor_1_name                                        movie_title  \\\n",
       "0      CCH Pounder                                            Avatar    \n",
       "1      Johnny Depp          Pirates of the Caribbean: At World's End    \n",
       "2  Christoph Waltz                                           Spectre    \n",
       "3        Tom Hardy                             The Dark Knight Rises    \n",
       "4      Doug Walker  Star Wars: Episode VII - The Force Awakens    ...   \n",
       "\n",
       "   num_voted_users  cast_total_facebook_likes          actor_3_name  \\\n",
       "0           886204                       4834             Wes Studi   \n",
       "1           471220                      48350        Jack Davenport   \n",
       "2           275868                      11700      Stephanie Sigman   \n",
       "3          1144337                     106759  Joseph Gordon-Levitt   \n",
       "4                8                        143                   NaN   \n",
       "\n",
       "   facenumber_in_poster                                      plot_keywords  \\\n",
       "0                   0.0             avatar|future|marine|native|paraplegic   \n",
       "1                   0.0  goddess|marriage ceremony|marriage proposal|pi...   \n",
       "2                   1.0                bomb|espionage|sequel|spy|terrorist   \n",
       "3                   0.0  deception|imprisonment|lawlessness|police offi...   \n",
       "4                   0.0                                                NaN   \n",
       "\n",
       "                                     movie_imdb_link  num_user_for_reviews  \\\n",
       "0  http://www.imdb.com/title/tt0499549/?ref_=fn_t...                3054.0   \n",
       "1  http://www.imdb.com/title/tt0449088/?ref_=fn_t...                1238.0   \n",
       "2  http://www.imdb.com/title/tt2379713/?ref_=fn_t...                 994.0   \n",
       "3  http://www.imdb.com/title/tt1345836/?ref_=fn_t...                2701.0   \n",
       "4  http://www.imdb.com/title/tt5289954/?ref_=fn_t...                   NaN   \n",
       "\n",
       "  language country content_rating       budget  title_year  \\\n",
       "0  English     USA          PG-13  237000000.0      2009.0   \n",
       "1  English     USA          PG-13  300000000.0      2007.0   \n",
       "2  English      UK          PG-13  245000000.0      2015.0   \n",
       "3  English     USA          PG-13  250000000.0      2012.0   \n",
       "4      NaN     NaN            NaN          NaN         NaN   \n",
       "\n",
       "   actor_2_facebook_likes  imdb_score  aspect_ratio  movie_facebook_likes  \n",
       "0                   936.0         7.9          1.78                 33000  \n",
       "1                  5000.0         7.1          2.35                     0  \n",
       "2                   393.0         6.8          2.35                 85000  \n",
       "3                 23000.0         8.5          2.35                164000  \n",
       "4                    12.0         7.1           NaN                     0  "
      ]
     },
     "execution_count": 3,
     "metadata": {},
     "output_type": "execute_result"
    }
   ],
   "source": [
    "df_movies.head()"
   ]
  },
  {
   "cell_type": "markdown",
   "metadata": {},
   "source": [
    "#3 Check for missing variables and correct as needed."
   ]
  },
  {
   "cell_type": "code",
   "execution_count": 4,
   "metadata": {},
   "outputs": [],
   "source": [
    "#remove columns with an egregious amount of NA's \n",
    "def get_cols_with_na(df, threshold):\n",
    "    cols_to_remove = []\n",
    "    \n",
    "    for col in df_movies.columns:\n",
    "        if (df[col].isna().sum()/len(df[col]) >= threshold):\n",
    "            cols_to_remove.append(col)\n",
    "    \n",
    "    return cols_to_remove"
   ]
  },
  {
   "cell_type": "code",
   "execution_count": 5,
   "metadata": {},
   "outputs": [
    {
     "data": {
      "text/plain": [
       "color                         19\n",
       "director_name                104\n",
       "num_critic_for_reviews        50\n",
       "duration                      15\n",
       "director_facebook_likes      104\n",
       "actor_3_facebook_likes        23\n",
       "actor_2_name                  13\n",
       "actor_1_facebook_likes         7\n",
       "genres                         0\n",
       "actor_1_name                   7\n",
       "movie_title                    0\n",
       "num_voted_users                0\n",
       "cast_total_facebook_likes      0\n",
       "actor_3_name                  23\n",
       "facenumber_in_poster          13\n",
       "plot_keywords                153\n",
       "movie_imdb_link                0\n",
       "num_user_for_reviews          21\n",
       "language                      14\n",
       "country                        5\n",
       "content_rating               303\n",
       "budget                       492\n",
       "title_year                   108\n",
       "actor_2_facebook_likes        13\n",
       "imdb_score                     0\n",
       "aspect_ratio                 329\n",
       "movie_facebook_likes           0\n",
       "dtype: int64"
      ]
     },
     "execution_count": 5,
     "metadata": {},
     "output_type": "execute_result"
    }
   ],
   "source": [
    "threshold = 0.1\n",
    "\n",
    "na_cols = get_cols_with_na(df_movies, threshold)\n",
    "\n",
    "df_movies_dropped = df_movies.drop(columns=na_cols)\n",
    "\n",
    "df_movies_dropped.isna().sum()"
   ]
  },
  {
   "cell_type": "code",
   "execution_count": 114,
   "metadata": {},
   "outputs": [
    {
     "name": "stderr",
     "output_type": "stream",
     "text": [
      "/home/wloving77/Githubs/Fall2023/Fall2023Classes/foundations_of_machine_learning/env/lib/python3.10/site-packages/sklearn/impute/_base.py:555: UserWarning: Skipping features without any observed values: ['color' 'director_name' 'num_critic_for_reviews' 'duration'\n",
      " 'director_facebook_likes' 'actor_3_facebook_likes' 'actor_2_name'\n",
      " 'actor_1_facebook_likes' 'genres' 'actor_1_name' 'movie_title'\n",
      " 'num_voted_users' 'cast_total_facebook_likes' 'actor_3_name'\n",
      " 'facenumber_in_poster' 'plot_keywords' 'movie_imdb_link'\n",
      " 'num_user_for_reviews' 'language' 'country' 'content_rating' 'budget'\n",
      " 'title_year' 'actor_2_facebook_likes' 'imdb_score' 'aspect_ratio'\n",
      " 'movie_facebook_likes' 'imdb_score_cat']. At least one non-missing value is needed for imputation with strategy='most_frequent'.\n",
      "  warnings.warn(\n"
     ]
    }
   ],
   "source": [
    "#going to just arbitrarily fill continuous with the average and categorical with most frequent\n",
    "from sklearn.impute import SimpleImputer\n",
    "\n",
    "numerical_columns = df_movies_dropped.select_dtypes(include = ['int', 'float']).columns\n",
    "categorical_columns = df_movies_dropped.select_dtypes(include = ['object'])\n",
    "\n",
    "df_movies_dropped[categorical_columns.columns] = categorical_columns.astype(\"category\")\n",
    "\n",
    "num_imputer = SimpleImputer(strategy='mean')\n",
    "cat_imputer = SimpleImputer(strategy='most_frequent')\n",
    "\n",
    "df_movies_dropped[numerical_columns] = num_imputer.fit_transform(df_movies_dropped[numerical_columns])\n",
    "df_movies_dropped[categorical_columns.columns] = cat_imputer.fit_transform(df_movies_dropped[categorical_columns])"
   ]
  },
  {
   "cell_type": "code",
   "execution_count": 115,
   "metadata": {},
   "outputs": [
    {
     "name": "stdout",
     "output_type": "stream",
     "text": [
      "<class 'pandas.core.frame.DataFrame'>\n",
      "RangeIndex: 5043 entries, 0 to 5042\n",
      "Data columns (total 28 columns):\n",
      " #   Column                     Non-Null Count  Dtype   \n",
      "---  ------                     --------------  -----   \n",
      " 0   color                      5043 non-null   category\n",
      " 1   director_name              5043 non-null   category\n",
      " 2   num_critic_for_reviews     5043 non-null   float64 \n",
      " 3   duration                   5043 non-null   float64 \n",
      " 4   director_facebook_likes    5043 non-null   float64 \n",
      " 5   actor_3_facebook_likes     5043 non-null   float64 \n",
      " 6   actor_2_name               5043 non-null   category\n",
      " 7   actor_1_facebook_likes     5043 non-null   float64 \n",
      " 8   genres                     5043 non-null   category\n",
      " 9   actor_1_name               5043 non-null   category\n",
      " 10  movie_title                5043 non-null   category\n",
      " 11  num_voted_users            5043 non-null   float64 \n",
      " 12  cast_total_facebook_likes  5043 non-null   float64 \n",
      " 13  actor_3_name               5043 non-null   category\n",
      " 14  facenumber_in_poster       5043 non-null   float64 \n",
      " 15  plot_keywords              5043 non-null   category\n",
      " 16  movie_imdb_link            5043 non-null   category\n",
      " 17  num_user_for_reviews       5043 non-null   float64 \n",
      " 18  language                   5043 non-null   category\n",
      " 19  country                    5043 non-null   category\n",
      " 20  content_rating             5043 non-null   category\n",
      " 21  budget                     5043 non-null   float64 \n",
      " 22  title_year                 5043 non-null   float64 \n",
      " 23  actor_2_facebook_likes     5043 non-null   float64 \n",
      " 24  imdb_score                 5043 non-null   float64 \n",
      " 25  aspect_ratio               5043 non-null   float64 \n",
      " 26  movie_facebook_likes       5043 non-null   float64 \n",
      " 27  imdb_score_cat             5043 non-null   category\n",
      "dtypes: category(13), float64(15)\n",
      "memory usage: 1.5 MB\n"
     ]
    }
   ],
   "source": [
    "#all NA's imputed:\n",
    "df_movies_dropped.info()"
   ]
  },
  {
   "cell_type": "code",
   "execution_count": 127,
   "metadata": {},
   "outputs": [
    {
     "data": {
      "text/plain": [
       "genres\n",
       "Comedy         1329\n",
       "Action         1153\n",
       "Drama           972\n",
       "Adventure       453\n",
       "Crime           349\n",
       "Biography       252\n",
       "Horror          232\n",
       "Documentary      84\n",
       "Animation        61\n",
       "Fantasy          53\n",
       "Mystery          33\n",
       "Thriller         22\n",
       "Sci-Fi           13\n",
       "Western          12\n",
       "Family           11\n",
       "Romance           6\n",
       "Musical           4\n",
       "Game-Show         1\n",
       "Music             1\n",
       "Film-Noir         1\n",
       "History           1\n",
       "Name: count, dtype: int64"
      ]
     },
     "execution_count": 127,
     "metadata": {},
     "output_type": "execute_result"
    }
   ],
   "source": [
    "df_movies_dropped['genres'] = df_movies_dropped['genres'].str.split('|').str[0]\n",
    "df_movies_dropped['genres'].value_counts()"
   ]
  },
  {
   "cell_type": "markdown",
   "metadata": {},
   "source": [
    "#4 Guess what, you don't need to scale the data, because DTs don't require this to be done, they make local greedy decisions...keeps getting easier, go to the next step."
   ]
  },
  {
   "cell_type": "code",
   "execution_count": 128,
   "metadata": {},
   "outputs": [],
   "source": [
    "#Nice!"
   ]
  },
  {
   "cell_type": "markdown",
   "metadata": {},
   "source": [
    "#5 Determine the baserate or prevalence for the classifier, what does this number mean?"
   ]
  },
  {
   "cell_type": "code",
   "execution_count": 191,
   "metadata": {},
   "outputs": [
    {
     "name": "stdout",
     "output_type": "stream",
     "text": [
      "imdb_score_cat\n",
      "Not Good    3449\n",
      "Good        1594\n",
      "Name: count, dtype: int64\n"
     ]
    }
   ],
   "source": [
    "# we first need to convert IMDB_Score to be a classifiable variable, anything < 7 = not good, anything > 7 = good \n",
    "bins = [0, 7, 10]\n",
    "labels = ['Not Good', 'Good']\n",
    "\n",
    "# create a new categorical variable based on \"imdb_score\"\n",
    "df_movies_dropped['imdb_score_cat'] = pd.cut(df_movies_dropped['imdb_score'], bins=bins, labels=labels)\n",
    "print(df_movies_dropped['imdb_score_cat'].value_counts())"
   ]
  },
  {
   "cell_type": "code",
   "execution_count": 192,
   "metadata": {},
   "outputs": [
    {
     "data": {
      "text/plain": [
       "0.32247622901072226"
      ]
     },
     "execution_count": 192,
     "metadata": {},
     "output_type": "execute_result"
    }
   ],
   "source": [
    "prevalence = 1594/(3449 + 1494)\n",
    "prevalence # not terrible at all"
   ]
  },
  {
   "cell_type": "markdown",
   "metadata": {},
   "source": [
    "#6 Split your data into test, tune, and train. (80/10/10)"
   ]
  },
  {
   "cell_type": "code",
   "execution_count": 193,
   "metadata": {},
   "outputs": [],
   "source": [
    "#One hot encode categoricals with reasonable value_counts() \n",
    "cols_to_drop = ['imdb_score', 'genres', 'movie_imdb_link', 'plot_keywords', 'movie_title', 'actor_1_name', 'actor_2_name', 'actor_3_name', 'director_name']\n",
    "\n",
    "#these columns have so many unique values the encoded datafrme would be massive, scikit learn doesn't support actual categorical values\n",
    "df_movies_dropped2 = df_movies_dropped.drop(columns=cols_to_drop)"
   ]
  },
  {
   "cell_type": "code",
   "execution_count": 229,
   "metadata": {},
   "outputs": [],
   "source": [
    "from sklearn.preprocessing import OneHotEncoder\n",
    "\n",
    "categorical_columns = df_movies_dropped2.select_dtypes(include=['category']).columns\n",
    "\n",
    "encoder = OneHotEncoder()\n",
    "for column in categorical_columns:\n",
    "    df_movies_dropped2[[column]] = encoder.fit_transform(df_movies_dropped2[[column]])"
   ]
  },
  {
   "cell_type": "code",
   "execution_count": 231,
   "metadata": {},
   "outputs": [],
   "source": [
    "from sklearn.model_selection import train_test_split\n",
    "\n",
    "X = df_movies_dropped2.drop(columns='imdb_score_cat')\n",
    "y = df_movies_dropped2['imdb_score_cat']\n",
    "\n",
    "#split for training\n",
    "X_train, X_rest, y_train, y_rest = train_test_split(X, y, stratify = y, train_size=0.8, random_state=42)\n",
    "\n",
    "#split for tune and test\n",
    "\n",
    "X_tune, X_test, y_tune, y_test = train_test_split(X_rest, y_rest, stratify=y_rest, train_size=0.5, random_state=42)"
   ]
  },
  {
   "cell_type": "markdown",
   "metadata": {},
   "source": [
    "#7 Create the kfold object for cross validation."
   ]
  },
  {
   "cell_type": "code",
   "execution_count": 232,
   "metadata": {},
   "outputs": [],
   "source": [
    "from sklearn.model_selection import RepeatedStratifiedKFold\n",
    "\n",
    "# Define the number of folds (K)\n",
    "kf = RepeatedStratifiedKFold(n_splits=10,n_repeats =5, random_state=21)"
   ]
  },
  {
   "cell_type": "markdown",
   "metadata": {},
   "source": [
    "#8 Create the scoring metric you will use to evaluate your model and the max depth hyperparameter "
   ]
  },
  {
   "cell_type": "code",
   "execution_count": 233,
   "metadata": {},
   "outputs": [],
   "source": [
    "scoring = ['roc_auc','recall', 'balanced_accuracy']\n",
    "\n",
    "params = {\"max_depth\": [1,3,5,7,9,11,13]}"
   ]
  },
  {
   "cell_type": "markdown",
   "metadata": {},
   "source": [
    "#9 Build the classifier object "
   ]
  },
  {
   "cell_type": "code",
   "execution_count": 234,
   "metadata": {},
   "outputs": [],
   "source": [
    "from sklearn.model_selection import cross_val_score\n",
    "from sklearn.tree import DecisionTreeClassifier\n",
    "\n",
    "cl = DecisionTreeClassifier()"
   ]
  },
  {
   "cell_type": "markdown",
   "metadata": {},
   "source": [
    "#10 Use the kfold object and the scoring metric to find the best hyperparameter value for max depth via the grid search method."
   ]
  },
  {
   "cell_type": "markdown",
   "metadata": {},
   "source": [
    "#11 Fit the model to the training data."
   ]
  },
  {
   "cell_type": "code",
   "execution_count": 235,
   "metadata": {},
   "outputs": [],
   "source": [
    "from sklearn.model_selection import GridSearchCV\n",
    "from IPython.display import clear_output\n",
    "\n",
    "# Create a GridSearchCV object with K-Fold cross-validation\n",
    "grid_search = GridSearchCV(cl, params, cv=kf, scoring=scoring, refit=\"roc_auc\")\n",
    "\n",
    "# Fit the GridSearchCV object to your data\n",
    "model = grid_search.fit(X_train, y_train)\n",
    "\n",
    "# Get the best hyperparameter values and corresponding MSE score\n",
    "best_max_depth = grid_search.best_params_\n",
    "best_mse = grid_search.best_score_ \n",
    "\n",
    "clear_output()"
   ]
  },
  {
   "cell_type": "markdown",
   "metadata": {},
   "source": [
    "#12 What is the best depth value?"
   ]
  },
  {
   "cell_type": "code",
   "execution_count": 236,
   "metadata": {},
   "outputs": [
    {
     "name": "stdout",
     "output_type": "stream",
     "text": [
      "Best ROC_AUC 0.7568082301181751\n",
      "Best Depth {'max_depth': 7}\n"
     ]
    }
   ],
   "source": [
    "print(f\"Best ROC_AUC {best_mse}\")\n",
    "print(f\"Best Depth {best_max_depth}\")"
   ]
  },
  {
   "cell_type": "markdown",
   "metadata": {},
   "source": [
    "#13 Print out the model"
   ]
  },
  {
   "cell_type": "code",
   "execution_count": 237,
   "metadata": {},
   "outputs": [
    {
     "data": {
      "text/html": [
       "<style>#sk-container-id-7 {color: black;}#sk-container-id-7 pre{padding: 0;}#sk-container-id-7 div.sk-toggleable {background-color: white;}#sk-container-id-7 label.sk-toggleable__label {cursor: pointer;display: block;width: 100%;margin-bottom: 0;padding: 0.3em;box-sizing: border-box;text-align: center;}#sk-container-id-7 label.sk-toggleable__label-arrow:before {content: \"▸\";float: left;margin-right: 0.25em;color: #696969;}#sk-container-id-7 label.sk-toggleable__label-arrow:hover:before {color: black;}#sk-container-id-7 div.sk-estimator:hover label.sk-toggleable__label-arrow:before {color: black;}#sk-container-id-7 div.sk-toggleable__content {max-height: 0;max-width: 0;overflow: hidden;text-align: left;background-color: #f0f8ff;}#sk-container-id-7 div.sk-toggleable__content pre {margin: 0.2em;color: black;border-radius: 0.25em;background-color: #f0f8ff;}#sk-container-id-7 input.sk-toggleable__control:checked~div.sk-toggleable__content {max-height: 200px;max-width: 100%;overflow: auto;}#sk-container-id-7 input.sk-toggleable__control:checked~label.sk-toggleable__label-arrow:before {content: \"▾\";}#sk-container-id-7 div.sk-estimator input.sk-toggleable__control:checked~label.sk-toggleable__label {background-color: #d4ebff;}#sk-container-id-7 div.sk-label input.sk-toggleable__control:checked~label.sk-toggleable__label {background-color: #d4ebff;}#sk-container-id-7 input.sk-hidden--visually {border: 0;clip: rect(1px 1px 1px 1px);clip: rect(1px, 1px, 1px, 1px);height: 1px;margin: -1px;overflow: hidden;padding: 0;position: absolute;width: 1px;}#sk-container-id-7 div.sk-estimator {font-family: monospace;background-color: #f0f8ff;border: 1px dotted black;border-radius: 0.25em;box-sizing: border-box;margin-bottom: 0.5em;}#sk-container-id-7 div.sk-estimator:hover {background-color: #d4ebff;}#sk-container-id-7 div.sk-parallel-item::after {content: \"\";width: 100%;border-bottom: 1px solid gray;flex-grow: 1;}#sk-container-id-7 div.sk-label:hover label.sk-toggleable__label {background-color: #d4ebff;}#sk-container-id-7 div.sk-serial::before {content: \"\";position: absolute;border-left: 1px solid gray;box-sizing: border-box;top: 0;bottom: 0;left: 50%;z-index: 0;}#sk-container-id-7 div.sk-serial {display: flex;flex-direction: column;align-items: center;background-color: white;padding-right: 0.2em;padding-left: 0.2em;position: relative;}#sk-container-id-7 div.sk-item {position: relative;z-index: 1;}#sk-container-id-7 div.sk-parallel {display: flex;align-items: stretch;justify-content: center;background-color: white;position: relative;}#sk-container-id-7 div.sk-item::before, #sk-container-id-7 div.sk-parallel-item::before {content: \"\";position: absolute;border-left: 1px solid gray;box-sizing: border-box;top: 0;bottom: 0;left: 50%;z-index: -1;}#sk-container-id-7 div.sk-parallel-item {display: flex;flex-direction: column;z-index: 1;position: relative;background-color: white;}#sk-container-id-7 div.sk-parallel-item:first-child::after {align-self: flex-end;width: 50%;}#sk-container-id-7 div.sk-parallel-item:last-child::after {align-self: flex-start;width: 50%;}#sk-container-id-7 div.sk-parallel-item:only-child::after {width: 0;}#sk-container-id-7 div.sk-dashed-wrapped {border: 1px dashed gray;margin: 0 0.4em 0.5em 0.4em;box-sizing: border-box;padding-bottom: 0.4em;background-color: white;}#sk-container-id-7 div.sk-label label {font-family: monospace;font-weight: bold;display: inline-block;line-height: 1.2em;}#sk-container-id-7 div.sk-label-container {text-align: center;}#sk-container-id-7 div.sk-container {/* jupyter's `normalize.less` sets `[hidden] { display: none; }` but bootstrap.min.css set `[hidden] { display: none !important; }` so we also need the `!important` here to be able to override the default hidden behavior on the sphinx rendered scikit-learn.org. See: https://github.com/scikit-learn/scikit-learn/issues/21755 */display: inline-block !important;position: relative;}#sk-container-id-7 div.sk-text-repr-fallback {display: none;}</style><div id=\"sk-container-id-7\" class=\"sk-top-container\"><div class=\"sk-text-repr-fallback\"><pre>DecisionTreeClassifier(max_depth=7)</pre><b>In a Jupyter environment, please rerun this cell to show the HTML representation or trust the notebook. <br />On GitHub, the HTML representation is unable to render, please try loading this page with nbviewer.org.</b></div><div class=\"sk-container\" hidden><div class=\"sk-item\"><div class=\"sk-estimator sk-toggleable\"><input class=\"sk-toggleable__control sk-hidden--visually\" id=\"sk-estimator-id-7\" type=\"checkbox\" checked><label for=\"sk-estimator-id-7\" class=\"sk-toggleable__label sk-toggleable__label-arrow\">DecisionTreeClassifier</label><div class=\"sk-toggleable__content\"><pre>DecisionTreeClassifier(max_depth=7)</pre></div></div></div></div></div>"
      ],
      "text/plain": [
       "DecisionTreeClassifier(max_depth=7)"
      ]
     },
     "execution_count": 237,
     "metadata": {},
     "output_type": "execute_result"
    }
   ],
   "source": [
    "grid_search.best_estimator_"
   ]
  },
  {
   "cell_type": "markdown",
   "metadata": {},
   "source": [
    "#14 View the results, comment on how the model performed using several evaluation metrics."
   ]
  },
  {
   "cell_type": "code",
   "execution_count": 238,
   "metadata": {},
   "outputs": [
    {
     "name": "stdout",
     "output_type": "stream",
     "text": [
      "   depth       auc    recall   bal_acc     aucSD  recallSD  bal_accSD\n",
      "0      1  0.618639  0.935343  0.618639  0.019199  0.018615   0.019199\n",
      "1      3  0.683530  0.911645  0.656067  0.025766  0.037800   0.029705\n",
      "2      5  0.747264  0.893299  0.686593  0.022192  0.027843   0.025594\n",
      "3      7  0.756808  0.880748  0.709143  0.025395  0.025570   0.022796\n",
      "4      9  0.739298  0.878365  0.713552  0.027974  0.023157   0.020372\n"
     ]
    }
   ],
   "source": [
    "results = grid_search.cv_results_\n",
    "\n",
    "auc = results['mean_test_roc_auc']\n",
    "recall= results['mean_test_recall']\n",
    "bal_acc= results['mean_test_balanced_accuracy']\n",
    "\n",
    "SDauc = results['std_test_roc_auc']\n",
    "SDrecall= results['std_test_recall']\n",
    "SDbal_acc= results['std_test_balanced_accuracy']\n",
    "\n",
    "depth= np.unique(results['param_max_depth']).data\n",
    "final_model = pd.DataFrame(list(zip(depth, auc, recall, bal_acc,SDauc,SDrecall,SDbal_acc)),\n",
    "               columns =['depth','auc','recall','bal_acc','aucSD','recallSD','bal_accSD'])\n",
    "\n",
    "print(final_model.head())"
   ]
  },
  {
   "cell_type": "code",
   "execution_count": 239,
   "metadata": {},
   "outputs": [],
   "source": [
    "\n",
    "\"\"\"\n",
    "Model performs very well as we scale up the depth of the tree, but likely begins to overfit as that depth gets needlessly high\n",
    "\"\"\"\n",
    "clear_output()"
   ]
  },
  {
   "cell_type": "markdown",
   "metadata": {},
   "source": [
    "#15 Which variables appear to be contributing the most (variable importance) "
   ]
  },
  {
   "cell_type": "code",
   "execution_count": 240,
   "metadata": {},
   "outputs": [
    {
     "name": "stdout",
     "output_type": "stream",
     "text": [
      " Feature: color, importance 0.0\n",
      " Feature: num_critic_for_reviews, importance 0.03162299593290299\n",
      " Feature: duration, importance 0.1597134674528689\n",
      " Feature: director_facebook_likes, importance 0.041413026240148455\n",
      " Feature: actor_3_facebook_likes, importance 0.06040083014472184\n",
      " Feature: actor_1_facebook_likes, importance 0.0034891067208425307\n",
      " Feature: num_voted_users, importance 0.36275814223448394\n",
      " Feature: cast_total_facebook_likes, importance 0.003451204222238141\n",
      " Feature: facenumber_in_poster, importance 0.011666337555920551\n",
      " Feature: num_user_for_reviews, importance 0.011558829220905308\n",
      " Feature: language, importance 0.0\n",
      " Feature: country, importance 0.023783293098717174\n",
      " Feature: content_rating, importance 0.01290912554865488\n",
      " Feature: budget, importance 0.09627034789398146\n",
      " Feature: title_year, importance 0.11710430699362198\n",
      " Feature: actor_2_facebook_likes, importance 0.005138990370137759\n",
      " Feature: aspect_ratio, importance 0.0035467392872135886\n",
      " Feature: movie_facebook_likes, importance 0.05517325708264051\n"
     ]
    }
   ],
   "source": [
    "for feature, importance in zip(X_test.columns, grid_search.best_estimator_.feature_importances_):\n",
    "    print(f\" Feature: {feature}, importance {importance}\")"
   ]
  },
  {
   "cell_type": "markdown",
   "metadata": {},
   "source": [
    "#16 Use the predict method on the test data and print out the results."
   ]
  },
  {
   "cell_type": "code",
   "execution_count": 241,
   "metadata": {},
   "outputs": [
    {
     "data": {
      "text/plain": [
       "array([1., 0., 0., 1., 1., 1., 1., 1., 1., 0., 1., 1., 1., 1., 0., 1., 1.,\n",
       "       1., 1., 0., 1., 1., 1., 1., 1., 1., 0., 1., 0., 0., 1., 1., 1., 1.,\n",
       "       0., 1., 1., 1., 0., 1., 1., 1., 0., 1., 0., 0., 1., 1., 1., 1., 1.,\n",
       "       1., 1., 1., 1., 1., 1., 1., 1., 1., 1., 1., 0., 1., 0., 1., 1., 1.,\n",
       "       1., 1., 1., 1., 0., 1., 0., 0., 1., 0., 1., 1., 0., 1., 1., 1., 1.,\n",
       "       1., 1., 1., 1., 0., 1., 1., 1., 0., 0., 0., 1., 0., 0., 1., 1., 1.,\n",
       "       0., 0., 1., 1., 0., 1., 1., 1., 1., 1., 1., 0., 1., 1., 0., 1., 0.,\n",
       "       1., 1., 1., 1., 0., 1., 1., 1., 1., 1., 0., 1., 1., 1., 1., 1., 1.,\n",
       "       1., 0., 1., 1., 0., 0., 1., 1., 1., 1., 1., 1., 1., 0., 1., 0., 1.,\n",
       "       1., 0., 1., 1., 1., 0., 1., 1., 0., 1., 1., 1., 0., 1., 1., 1., 1.,\n",
       "       0., 1., 1., 1., 1., 1., 0., 1., 0., 1., 0., 1., 1., 0., 1., 1., 1.,\n",
       "       0., 1., 1., 0., 1., 0., 0., 1., 1., 1., 0., 1., 1., 1., 1., 1., 0.,\n",
       "       1., 1., 1., 0., 0., 1., 1., 1., 0., 0., 1., 0., 1., 0., 1., 1., 1.,\n",
       "       1., 1., 1., 1., 1., 1., 1., 1., 0., 1., 0., 1., 1., 1., 0., 0., 1.,\n",
       "       1., 0., 1., 1., 0., 0., 0., 0., 1., 1., 1., 0., 1., 1., 1., 0., 1.,\n",
       "       1., 1., 1., 1., 0., 1., 0., 0., 1., 1., 1., 0., 0., 1., 1., 0., 1.,\n",
       "       1., 0., 0., 1., 0., 1., 1., 0., 1., 1., 0., 1., 0., 0., 1., 1., 0.,\n",
       "       1., 1., 1., 1., 1., 0., 1., 1., 1., 1., 1., 1., 1., 1., 0., 1., 1.,\n",
       "       1., 1., 1., 1., 0., 1., 1., 1., 1., 1., 1., 1., 1., 1., 1., 1., 1.,\n",
       "       1., 1., 0., 1., 1., 1., 1., 0., 1., 1., 0., 1., 1., 1., 1., 1., 0.,\n",
       "       0., 1., 1., 1., 0., 1., 1., 1., 1., 1., 0., 1., 1., 1., 1., 1., 1.,\n",
       "       1., 1., 1., 1., 0., 1., 1., 0., 1., 1., 1., 1., 1., 0., 1., 1., 1.,\n",
       "       1., 0., 1., 1., 1., 0., 1., 1., 1., 1., 1., 1., 1., 1., 1., 1., 0.,\n",
       "       1., 1., 0., 1., 1., 0., 0., 0., 1., 1., 1., 0., 0., 1., 1., 1., 0.,\n",
       "       1., 1., 1., 1., 1., 1., 1., 1., 1., 1., 1., 1., 1., 1., 1., 1., 1.,\n",
       "       1., 1., 1., 1., 1., 1., 1., 1., 1., 1., 1., 1., 0., 1., 0., 1., 1.,\n",
       "       0., 1., 1., 0., 1., 1., 1., 1., 1., 1., 0., 0., 1., 0., 1., 1., 1.,\n",
       "       1., 1., 1., 1., 1., 1., 0., 1., 0., 1., 1., 1., 1., 0., 0., 1., 1.,\n",
       "       1., 1., 1., 0., 1., 0., 1., 1., 1., 1., 1., 1., 1., 0., 0., 1., 0.,\n",
       "       0., 1., 1., 1., 0., 1., 1., 1., 1., 1., 1., 1.])"
      ]
     },
     "execution_count": 241,
     "metadata": {},
     "output_type": "execute_result"
    }
   ],
   "source": [
    "y_pred_test = grid_search.best_estimator_.predict(X_test)\n",
    "y_pred_test"
   ]
  },
  {
   "cell_type": "markdown",
   "metadata": {},
   "source": [
    "#17 How does the model perform on the test data?"
   ]
  },
  {
   "cell_type": "code",
   "execution_count": 242,
   "metadata": {},
   "outputs": [],
   "source": [
    "#BELOW:"
   ]
  },
  {
   "cell_type": "markdown",
   "metadata": {},
   "source": [
    "#18 Print out the confusion matrix for the test data, what does it tell you about the model?"
   ]
  },
  {
   "cell_type": "code",
   "execution_count": 243,
   "metadata": {},
   "outputs": [
    {
     "data": {
      "image/png": "[encoded data removed]",
      "text/plain": [
       "<Figure size 640x480 with 2 Axes>"
      ]
     },
     "metadata": {},
     "output_type": "display_data"
    }
   ],
   "source": [
    "import matplotlib.pyplot as plt\n",
    "from sklearn.metrics import confusion_matrix, ConfusionMatrixDisplay\n",
    "\n",
    "cm = confusion_matrix(y_test, y_pred_test)\n",
    "\n",
    "\n",
    "display = ConfusionMatrixDisplay(confusion_matrix = cm)\n",
    "display.plot(cmap=\"Blues\", values_format=\"d\")\n",
    "plt.show()"
   ]
  },
  {
   "cell_type": "markdown",
   "metadata": {},
   "source": [
    "\n",
    "#19 What are the top 3 movies based on the test set? Which variables are most important in predicting the top 3 movies?"
   ]
  },
  {
   "cell_type": "code",
   "execution_count": 244,
   "metadata": {},
   "outputs": [],
   "source": [
    "\"\"\"\n",
    "Most important variables are budget and the number of critics for reviews, the rest have smaller importances that sum up to be impactful\n",
    "\"\"\"\n",
    "clear_output()"
   ]
  },
  {
   "cell_type": "code",
   "execution_count": 245,
   "metadata": {},
   "outputs": [
    {
     "data": {
      "text/html": [
       "<div>\n",
       "<style scoped>\n",
       "    .dataframe tbody tr th:only-of-type {\n",
       "        vertical-align: middle;\n",
       "    }\n",
       "\n",
       "    .dataframe tbody tr th {\n",
       "        vertical-align: top;\n",
       "    }\n",
       "\n",
       "    .dataframe thead th {\n",
       "        text-align: right;\n",
       "    }\n",
       "</style>\n",
       "<table border=\"1\" class=\"dataframe\">\n",
       "  <thead>\n",
       "    <tr style=\"text-align: right;\">\n",
       "      <th></th>\n",
       "      <th>color</th>\n",
       "      <th>director_name</th>\n",
       "      <th>num_critic_for_reviews</th>\n",
       "      <th>duration</th>\n",
       "      <th>director_facebook_likes</th>\n",
       "      <th>actor_3_facebook_likes</th>\n",
       "      <th>actor_2_name</th>\n",
       "      <th>actor_1_facebook_likes</th>\n",
       "      <th>genres</th>\n",
       "      <th>actor_1_name</th>\n",
       "      <th>movie_title</th>\n",
       "      <th>num_voted_users</th>\n",
       "      <th>cast_total_facebook_likes</th>\n",
       "      <th>actor_3_name</th>\n",
       "      <th>facenumber_in_poster</th>\n",
       "      <th>plot_keywords</th>\n",
       "      <th>movie_imdb_link</th>\n",
       "      <th>num_user_for_reviews</th>\n",
       "      <th>language</th>\n",
       "      <th>country</th>\n",
       "      <th>content_rating</th>\n",
       "      <th>budget</th>\n",
       "      <th>title_year</th>\n",
       "      <th>actor_2_facebook_likes</th>\n",
       "      <th>imdb_score</th>\n",
       "      <th>aspect_ratio</th>\n",
       "      <th>movie_facebook_likes</th>\n",
       "      <th>imdb_score_cat</th>\n",
       "    </tr>\n",
       "  </thead>\n",
       "  <tbody>\n",
       "    <tr>\n",
       "      <th>4197</th>\n",
       "      <td>Color</td>\n",
       "      <td>James Ponsoldt</td>\n",
       "      <td>220.0</td>\n",
       "      <td>95.0</td>\n",
       "      <td>53.0</td>\n",
       "      <td>478.0</td>\n",
       "      <td>Jennifer Jason Leigh</td>\n",
       "      <td>8000.0</td>\n",
       "      <td>Comedy</td>\n",
       "      <td>Shailene Woodley</td>\n",
       "      <td>The Spectacular Now</td>\n",
       "      <td>105591.0</td>\n",
       "      <td>10040.0</td>\n",
       "      <td>Dayo Okeniyi</td>\n",
       "      <td>1.0</td>\n",
       "      <td>crying man</td>\n",
       "      <td>http://www.imdb.com/title/tt1714206/?ref_=fn_t...</td>\n",
       "      <td>178.0</td>\n",
       "      <td>English</td>\n",
       "      <td>USA</td>\n",
       "      <td>R</td>\n",
       "      <td>2500000.0</td>\n",
       "      <td>2013.0</td>\n",
       "      <td>1000.0</td>\n",
       "      <td>7.1</td>\n",
       "      <td>2.350000</td>\n",
       "      <td>10000.0</td>\n",
       "      <td>Good</td>\n",
       "    </tr>\n",
       "    <tr>\n",
       "      <th>3033</th>\n",
       "      <td>Color</td>\n",
       "      <td>Brian Trenchard-Smith</td>\n",
       "      <td>30.0</td>\n",
       "      <td>92.0</td>\n",
       "      <td>53.0</td>\n",
       "      <td>32.0</td>\n",
       "      <td>Damien Garvey</td>\n",
       "      <td>84.0</td>\n",
       "      <td>Action</td>\n",
       "      <td>Zoe Ventoura</td>\n",
       "      <td>Drive Hard</td>\n",
       "      <td>3104.0</td>\n",
       "      <td>179.0</td>\n",
       "      <td>Christopher Sommers</td>\n",
       "      <td>2.0</td>\n",
       "      <td>based on novel</td>\n",
       "      <td>http://www.imdb.com/title/tt2968804/?ref_=fn_t...</td>\n",
       "      <td>33.0</td>\n",
       "      <td>English</td>\n",
       "      <td>Canada</td>\n",
       "      <td>Not Rated</td>\n",
       "      <td>12000000.0</td>\n",
       "      <td>2014.0</td>\n",
       "      <td>37.0</td>\n",
       "      <td>4.3</td>\n",
       "      <td>2.220403</td>\n",
       "      <td>774.0</td>\n",
       "      <td>Not Good</td>\n",
       "    </tr>\n",
       "    <tr>\n",
       "      <th>4418</th>\n",
       "      <td>Color</td>\n",
       "      <td>Maggie Carey</td>\n",
       "      <td>97.0</td>\n",
       "      <td>104.0</td>\n",
       "      <td>38.0</td>\n",
       "      <td>690.0</td>\n",
       "      <td>Alia Shawkat</td>\n",
       "      <td>801.0</td>\n",
       "      <td>Comedy</td>\n",
       "      <td>Donald Glover</td>\n",
       "      <td>The To Do List</td>\n",
       "      <td>29517.0</td>\n",
       "      <td>2667.0</td>\n",
       "      <td>Scott Porter</td>\n",
       "      <td>7.0</td>\n",
       "      <td>feces in a swimming pool</td>\n",
       "      <td>http://www.imdb.com/title/tt1758795/?ref_=fn_t...</td>\n",
       "      <td>79.0</td>\n",
       "      <td>English</td>\n",
       "      <td>USA</td>\n",
       "      <td>R</td>\n",
       "      <td>1500000.0</td>\n",
       "      <td>2013.0</td>\n",
       "      <td>727.0</td>\n",
       "      <td>5.8</td>\n",
       "      <td>1.780000</td>\n",
       "      <td>0.0</td>\n",
       "      <td>Not Good</td>\n",
       "    </tr>\n",
       "  </tbody>\n",
       "</table>\n",
       "</div>"
      ],
      "text/plain": [
       "      color          director_name  num_critic_for_reviews  duration  \\\n",
       "4197  Color         James Ponsoldt                   220.0      95.0   \n",
       "3033  Color  Brian Trenchard-Smith                    30.0      92.0   \n",
       "4418  Color           Maggie Carey                    97.0     104.0   \n",
       "\n",
       "      director_facebook_likes  actor_3_facebook_likes          actor_2_name  \\\n",
       "4197                     53.0                   478.0  Jennifer Jason Leigh   \n",
       "3033                     53.0                    32.0         Damien Garvey   \n",
       "4418                     38.0                   690.0          Alia Shawkat   \n",
       "\n",
       "      actor_1_facebook_likes  genres      actor_1_name           movie_title  \\\n",
       "4197                  8000.0  Comedy  Shailene Woodley  The Spectacular Now    \n",
       "3033                    84.0  Action      Zoe Ventoura           Drive Hard    \n",
       "4418                   801.0  Comedy     Donald Glover       The To Do List    \n",
       "\n",
       "      num_voted_users  cast_total_facebook_likes         actor_3_name  \\\n",
       "4197         105591.0                    10040.0         Dayo Okeniyi   \n",
       "3033           3104.0                      179.0  Christopher Sommers   \n",
       "4418          29517.0                     2667.0         Scott Porter   \n",
       "\n",
       "      facenumber_in_poster             plot_keywords  \\\n",
       "4197                   1.0                crying man   \n",
       "3033                   2.0            based on novel   \n",
       "4418                   7.0  feces in a swimming pool   \n",
       "\n",
       "                                        movie_imdb_link  num_user_for_reviews  \\\n",
       "4197  http://www.imdb.com/title/tt1714206/?ref_=fn_t...                 178.0   \n",
       "3033  http://www.imdb.com/title/tt2968804/?ref_=fn_t...                  33.0   \n",
       "4418  http://www.imdb.com/title/tt1758795/?ref_=fn_t...                  79.0   \n",
       "\n",
       "     language country content_rating      budget  title_year  \\\n",
       "4197  English     USA              R   2500000.0      2013.0   \n",
       "3033  English  Canada      Not Rated  12000000.0      2014.0   \n",
       "4418  English     USA              R   1500000.0      2013.0   \n",
       "\n",
       "      actor_2_facebook_likes  imdb_score  aspect_ratio  movie_facebook_likes  \\\n",
       "4197                  1000.0         7.1      2.350000               10000.0   \n",
       "3033                    37.0         4.3      2.220403                 774.0   \n",
       "4418                   727.0         5.8      1.780000                   0.0   \n",
       "\n",
       "     imdb_score_cat  \n",
       "4197           Good  \n",
       "3033       Not Good  \n",
       "4418       Not Good  "
      ]
     },
     "execution_count": 245,
     "metadata": {},
     "output_type": "execute_result"
    }
   ],
   "source": [
    "top_3_movies"
   ]
  },
  {
   "cell_type": "code",
   "execution_count": 246,
   "metadata": {},
   "outputs": [
    {
     "name": "stdout",
     "output_type": "stream",
     "text": [
      "               movie_title imdb_score_cat  imdb_score\n",
      "4197  The Spectacular Now            Good         7.1\n",
      "3033           Drive Hard        Not Good         4.3\n",
      "4418       The To Do List        Not Good         5.8\n"
     ]
    }
   ],
   "source": [
    "top_3_indices = X_test.index[y_pred_test.argsort()[-3:][::-1]]\n",
    "\n",
    "# Use these indices to retrieve the top 3 movies from the original dataset\n",
    "top_3_movies = df_movies_dropped.iloc[top_3_indices]\n",
    "\n",
    "print(top_3_movies[['movie_title', 'imdb_score_cat', 'imdb_score']])\n",
    "#again, using the feature importances we know the top 3 features are num_voted_users, budget, and duration"
   ]
  },
  {
   "cell_type": "markdown",
   "metadata": {},
   "source": [
    "#20 Summarize what you learned along the way and make recommendations on how this could be used moving forward, being careful not to over promise."
   ]
  },
  {
   "cell_type": "code",
   "execution_count": 247,
   "metadata": {},
   "outputs": [],
   "source": [
    "\"\"\"\n",
    "\n",
    "Our Model is certainly effective at classifying movies as being R rated or not R rated, but some of the metrics could certainly use work. Going forward we want to try and push our recall up without compromising and losing\n",
    "precison. Currently, precision is our worst metric, we classify tons of non-R movies as R movies, so that will certainly be a point of focus. Other than that, the model works on a relatively small scale, from here we will\n",
    "likely begin scaling up the number of features as well as the encoding and imputation approaches. \n",
    "\n",
    "\"\"\"\n",
    "clear_output()"
   ]
  }
 ],
 "metadata": {
  "kernelspec": {
   "display_name": "Python 3 (ipykernel)",
   "language": "python",
   "name": "python3"
  },
  "language_info": {
   "codemirror_mode": {
    "name": "ipython",
    "version": 3
   },
   "file_extension": ".py",
   "mimetype": "text/x-python",
   "name": "python",
   "nbconvert_exporter": "python",
   "pygments_lexer": "ipython3",
   "version": "3.10.12"
  }
 },
 "nbformat": 4,
 "nbformat_minor": 4
}
