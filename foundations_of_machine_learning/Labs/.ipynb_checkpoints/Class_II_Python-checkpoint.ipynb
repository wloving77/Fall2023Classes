{
 "cells": [
  {
   "cell_type": "markdown",
   "id": "1b65f388",
   "metadata": {},
   "source": [
    "[![Open In Colab](https://colab.research.google.com/assets/colab-badge.svg)](https://colab.research.google.com/github/UVADS/DS-3001/blob/main/02_R_function_basics/Class_II_Python.ipynb)"
   ]
  },
  {
   "cell_type": "markdown",
   "id": "ae8b3f2e",
   "metadata": {},
   "source": [
    "# Pandas Lab Assignment"
   ]
  },
  {
   "cell_type": "markdown",
   "id": "b150e6c0",
   "metadata": {},
   "source": [
    "#### The excitement begins! \n",
    "\n",
    "As a reminder:\n",
    "\n",
    "pd == pandas and df == dataframe\n",
    "\n",
    "### pandas functions\n",
    "The five key pandas functions that allow you to solve \"the vast majority of your data-manipulation challenges\" are:\n",
    "1. df.query() -- select observations by their values\n",
    "2. df.sort_values() -- Reorder the rows\n",
    "3. df.loc[] -- Pick variables by their column names\n",
    "4. df.assign() -- Create new variables with functions of existing variables\n",
    "5. df.describe() -- Collapse many values down to a single summary\n",
    "\n",
    "Bonus: df.groupby() -- we can use this in combination with any of the five to change the scope of each function from operating on the entire dataset to operating on it group by group"
   ]
  },
  {
   "cell_type": "markdown",
   "id": "16f4edd2",
   "metadata": {},
   "source": [
    "*A note on df.groupby(): if you want to get multiple results for various groups (e.g. income categories), you could use `df.groupby(by='column')`. This all happens in the background and results in a grouped object; sometimes, this means you need to reorganize your functions.*\n",
    "\n",
    "For more information, check out the documentation: https://pandas.pydata.org/docs/reference/api/pandas.DataFrame.groupby.html"
   ]
  },
  {
   "cell_type": "code",
   "execution_count": 1,
   "id": "317858ce",
   "metadata": {
    "tags": []
   },
   "outputs": [
    {
     "data": {
      "text/plain": [
       "'/home/wloving77/Githubs/Fall2023/Fall2023Classes/foundations_of_machine_learning/Labs'"
      ]
     },
     "execution_count": 1,
     "metadata": {},
     "output_type": "execute_result"
    }
   ],
   "source": [
    "# import libraries\n",
    "import pandas as pd\n",
    "import os\n",
    "os.getcwd()"
   ]
  },
  {
   "cell_type": "markdown",
   "id": "1b3e5a09",
   "metadata": {},
   "source": [
    "Labs/data/nfl2008_fga.csv### Instructions\n",
    "\n",
    "For this assignment you can use any or all of the datasets I provided (described below) or choose two of your own!  \n",
    "\n",
    "For each of the two datasets your select, produce four parts: \n",
    "\n",
    "1. Question\n",
    "2. Psuedocode that answers the question\n",
    "3. Single line transactions using pandas functions\n",
    "4. Pipe the individual lines together and create a function\n",
    "\n",
    "You can work with your groups for coding tips/advise or work through similar programming issues, but everyone must have their own set of questions and results. \n",
    "\n",
    "\n",
    "### Data\n",
    "\n",
    "Any dataset in the class repo works or:\n",
    "\n",
    "nf2008_fg: http://users.stat.ufl.edu/~winner/data/nfl2008_fga.csv\n",
    "\n",
    "red_wine_quality: https://data.world/uci/wine-quality"
   ]
  },
  {
   "cell_type": "markdown",
   "id": "a7e8fdf7",
   "metadata": {},
   "source": [
    "### Example\n",
    "\n",
    "Lets walk through a example. Below is a dataset on students admitted to a graduate program in Data Science (I actually don't remember where this data came from). \n",
    "\n",
    "#### Question: Are there differences in the admitted number of students on average by GPA and school rank?\n",
    "An easy way to handle this is to identify function calls starting at the end of the question and working backwards. \n",
    "\n",
    "#### Pseudocode:\n",
    "  - Group by school rank\n",
    "  - Calculate GPA Average\n",
    "  - Count total admitted \n",
    "  - Calculate % Admitted\n",
    "  - Arrange in descending order by Mean GPA"
   ]
  },
  {
   "cell_type": "code",
   "execution_count": 55,
   "id": "2f210a0f",
   "metadata": {
    "tags": []
   },
   "outputs": [],
   "source": [
    "# Loading and preparing the data\n",
    "df = pd.read_csv(\"data/LogReg.csv\")"
   ]
  },
  {
   "cell_type": "code",
   "execution_count": 56,
   "id": "008bac79-07c1-438b-ab66-6fb0361462f4",
   "metadata": {
    "tags": []
   },
   "outputs": [],
   "source": [
    "def generate_rank_data(LogRegdf):\n",
    "    df['total_students'] = ((df['admit'] == 1) | (df['admit'] == 0)).astype('int')\n",
    "    \n",
    "    df_grouped = admit_2.groupby(by=\"rank\").agg({\"rank\":\"first\",\"gpa\":\"mean\", \"gre\":\"mean\", \"admit\":\"sum\", \"total_students\":\"sum\"}).reset_index(drop=True)\n",
    "    \n",
    "    df_grouped = df_grouped.rename(columns={\"gpa\":\"average_GPA\", \"gre\":\"average_GRE\", \"admit\":\"num_admitted\"})\n",
    "    \n",
    "    df_grouped['percent_admitted'] = df_grouped['num_admitted'] / df_grouped['total_students']\n",
    "    \n",
    "    return df_grouped"
   ]
  },
  {
   "cell_type": "code",
   "execution_count": 57,
   "id": "4ca21301-d6ea-4965-adea-d4db3b230889",
   "metadata": {
    "tags": []
   },
   "outputs": [
    {
     "data": {
      "text/html": [
       "<div>\n",
       "<style scoped>\n",
       "    .dataframe tbody tr th:only-of-type {\n",
       "        vertical-align: middle;\n",
       "    }\n",
       "\n",
       "    .dataframe tbody tr th {\n",
       "        vertical-align: top;\n",
       "    }\n",
       "\n",
       "    .dataframe thead th {\n",
       "        text-align: right;\n",
       "    }\n",
       "</style>\n",
       "<table border=\"1\" class=\"dataframe\">\n",
       "  <thead>\n",
       "    <tr style=\"text-align: right;\">\n",
       "      <th></th>\n",
       "      <th>rank</th>\n",
       "      <th>average_GPA</th>\n",
       "      <th>average_GRE</th>\n",
       "      <th>num_admitted</th>\n",
       "      <th>total_students</th>\n",
       "      <th>percent_admitted</th>\n",
       "    </tr>\n",
       "  </thead>\n",
       "  <tbody>\n",
       "    <tr>\n",
       "      <th>0</th>\n",
       "      <td>1</td>\n",
       "      <td>3.453115</td>\n",
       "      <td>611.803279</td>\n",
       "      <td>33</td>\n",
       "      <td>61</td>\n",
       "      <td>0.540984</td>\n",
       "    </tr>\n",
       "    <tr>\n",
       "      <th>1</th>\n",
       "      <td>2</td>\n",
       "      <td>3.361656</td>\n",
       "      <td>596.026490</td>\n",
       "      <td>54</td>\n",
       "      <td>151</td>\n",
       "      <td>0.357616</td>\n",
       "    </tr>\n",
       "    <tr>\n",
       "      <th>2</th>\n",
       "      <td>3</td>\n",
       "      <td>3.432893</td>\n",
       "      <td>574.876033</td>\n",
       "      <td>28</td>\n",
       "      <td>121</td>\n",
       "      <td>0.231405</td>\n",
       "    </tr>\n",
       "    <tr>\n",
       "      <th>3</th>\n",
       "      <td>4</td>\n",
       "      <td>3.318358</td>\n",
       "      <td>570.149254</td>\n",
       "      <td>12</td>\n",
       "      <td>67</td>\n",
       "      <td>0.179104</td>\n",
       "    </tr>\n",
       "  </tbody>\n",
       "</table>\n",
       "</div>"
      ],
      "text/plain": [
       "   rank  average_GPA  average_GRE  num_admitted  total_students  \\\n",
       "0     1     3.453115   611.803279            33              61   \n",
       "1     2     3.361656   596.026490            54             151   \n",
       "2     3     3.432893   574.876033            28             121   \n",
       "3     4     3.318358   570.149254            12              67   \n",
       "\n",
       "   percent_admitted  \n",
       "0          0.540984  \n",
       "1          0.357616  \n",
       "2          0.231405  \n",
       "3          0.179104  "
      ]
     },
     "execution_count": 57,
     "metadata": {},
     "output_type": "execute_result"
    }
   ],
   "source": [
    "df = generate_rank_data(df)\n",
    "df.head()"
   ]
  },
  {
   "cell_type": "markdown",
   "id": "9213a261",
   "metadata": {},
   "source": [
    "Next, we want to factorize `rank`. This will allow better data analysis because there are only a few options for it. In R, these are called \"levels\". In Python, these are \"categorical\" variables. Below, we'll run through how to convert specific columns to categoricals."
   ]
  },
  {
   "cell_type": "code",
   "execution_count": 9,
   "id": "66c004cb",
   "metadata": {},
   "outputs": [
    {
     "name": "stdout",
     "output_type": "stream",
     "text": [
      "<class 'pandas.core.frame.DataFrame'>\n",
      "RangeIndex: 400 entries, 0 to 399\n",
      "Data columns (total 4 columns):\n",
      " #   Column  Non-Null Count  Dtype   \n",
      "---  ------  --------------  -----   \n",
      " 0   admit   400 non-null    int64   \n",
      " 1   gre     400 non-null    int64   \n",
      " 2   gpa     400 non-null    float64 \n",
      " 3   rank    400 non-null    category\n",
      "dtypes: category(1), float64(1), int64(2)\n",
      "memory usage: 10.1 KB\n",
      "None\n"
     ]
    }
   ],
   "source": [
    " #change rank to a categorical variable\n",
    "admit_2['rank'] = admit_2['rank'].astype(\"category\")   # here, we assign the newly-assigned vars\n",
    "\n",
    "print(admit_2.info())"
   ]
  },
  {
   "cell_type": "markdown",
   "id": "f25c4b33",
   "metadata": {},
   "source": [
    "#### Now, for the next portion: single-line calculations using the pseudocode as a plan"
   ]
  },
  {
   "cell_type": "markdown",
   "id": "ae703eaf",
   "metadata": {},
   "source": [
    "Group by rank and assign the grouped values to a new dataframe"
   ]
  },
  {
   "cell_type": "code",
   "execution_count": 8,
   "id": "5797f25d",
   "metadata": {},
   "outputs": [],
   "source": [
    "x1 = admit_2.groupby(['rank'])   # this is done in the background"
   ]
  },
  {
   "cell_type": "markdown",
   "id": "2b6efc31",
   "metadata": {},
   "source": [
    "Next, calculate our additional variables (sum of admitted students, sum of students, and the mean GPA of the rankings in each category of `rank`. For this, we will be constructing a new dataframe.\n",
    "\n",
    "There is *one* issue: you can't use .assign() on a grouped dataframe. There are two possible solutions for this:\n",
    "1. Make a call to an earlier iteration of the dataframe\n",
    "2. Initialize an empty dataframe and assign the new variables there.\n",
    "\n",
    "First, I'll show you what happens in the first instance. You'll want to use this IF you want to keep all the previous columns."
   ]
  },
  {
   "cell_type": "code",
   "execution_count": 9,
   "id": "17972d9d",
   "metadata": {},
   "outputs": [
    {
     "name": "stdout",
     "output_type": "stream",
     "text": [
      "     admit  gre   gpa  rank  admitted  tot_students   meanGPA\n",
      "0        0  380  3.61     3       NaN           NaN       NaN\n",
      "1        1  660  3.67     3      33.0          61.0  3.453115\n",
      "2        1  800  4.00     1      54.0         151.0  3.361656\n",
      "3        1  640  3.19     4      28.0         121.0  3.432893\n",
      "4        0  520  2.93     4      12.0          67.0  3.318358\n",
      "..     ...  ...   ...   ...       ...           ...       ...\n",
      "395      0  620  4.00     2       NaN           NaN       NaN\n",
      "396      0  560  3.04     3       NaN           NaN       NaN\n",
      "397      0  460  2.63     2       NaN           NaN       NaN\n",
      "398      0  700  3.65     2       NaN           NaN       NaN\n",
      "399      0  600  3.89     3       NaN           NaN       NaN\n",
      "\n",
      "[400 rows x 7 columns]\n"
     ]
    }
   ],
   "source": [
    "x2 = admit_2.assign(admitted= x1.admit.sum(), \n",
    "                    tot_students=x1.admit.count(),\n",
    "                    meanGPA=x1.gpa.mean())\n",
    "\n",
    "print(x2)"
   ]
  },
  {
   "cell_type": "markdown",
   "id": "615cc06d",
   "metadata": {},
   "source": [
    "Let's try the other way."
   ]
  },
  {
   "cell_type": "code",
   "execution_count": 15,
   "id": "926a45b5",
   "metadata": {},
   "outputs": [
    {
     "data": {
      "text/html": [
       "<div>\n",
       "<style scoped>\n",
       "    .dataframe tbody tr th:only-of-type {\n",
       "        vertical-align: middle;\n",
       "    }\n",
       "\n",
       "    .dataframe tbody tr th {\n",
       "        vertical-align: top;\n",
       "    }\n",
       "\n",
       "    .dataframe thead th {\n",
       "        text-align: right;\n",
       "    }\n",
       "</style>\n",
       "<table border=\"1\" class=\"dataframe\">\n",
       "  <thead>\n",
       "    <tr style=\"text-align: right;\">\n",
       "      <th></th>\n",
       "      <th>admitted</th>\n",
       "      <th>tot_students</th>\n",
       "      <th>meanGPA</th>\n",
       "    </tr>\n",
       "    <tr>\n",
       "      <th>rank</th>\n",
       "      <th></th>\n",
       "      <th></th>\n",
       "      <th></th>\n",
       "    </tr>\n",
       "  </thead>\n",
       "  <tbody>\n",
       "    <tr>\n",
       "      <th>1</th>\n",
       "      <td>33</td>\n",
       "      <td>61</td>\n",
       "      <td>3.453115</td>\n",
       "    </tr>\n",
       "    <tr>\n",
       "      <th>2</th>\n",
       "      <td>54</td>\n",
       "      <td>151</td>\n",
       "      <td>3.361656</td>\n",
       "    </tr>\n",
       "    <tr>\n",
       "      <th>3</th>\n",
       "      <td>28</td>\n",
       "      <td>121</td>\n",
       "      <td>3.432893</td>\n",
       "    </tr>\n",
       "    <tr>\n",
       "      <th>4</th>\n",
       "      <td>12</td>\n",
       "      <td>67</td>\n",
       "      <td>3.318358</td>\n",
       "    </tr>\n",
       "  </tbody>\n",
       "</table>\n",
       "</div>"
      ],
      "text/plain": [
       "      admitted  tot_students   meanGPA\n",
       "rank                                  \n",
       "1           33            61  3.453115\n",
       "2           54           151  3.361656\n",
       "3           28           121  3.432893\n",
       "4           12            67  3.318358"
      ]
     },
     "execution_count": 15,
     "metadata": {},
     "output_type": "execute_result"
    }
   ],
   "source": [
    "temp_df = pd.DataFrame()\n",
    "temp_df = temp_df.assign(admitted= x1.admit.sum(), \n",
    "                    tot_students=x1['rank'].count(), \n",
    "                    meanGPA=x1.gpa.mean())\n",
    "temp_df.head()"
   ]
  },
  {
   "cell_type": "markdown",
   "id": "6de087a5",
   "metadata": {},
   "source": [
    "The second method worked *much* better. But let's say we used the first one -- how could we fix the issue?\n",
    "\n",
    "This was messier than we would've preferred. As we can see, we've assigned new variables to x2, but it also uses all the other variables from x1. Now, we'll want to select only the values we want.\n",
    "\n",
    "There are a few ways we could do this:\n",
    "1. Use slicing to select your columns and rows\n",
    "2. Use slicing to select your columns and then remove all the NaNs"
   ]
  },
  {
   "cell_type": "code",
   "execution_count": 8,
   "id": "1a89ac33",
   "metadata": {},
   "outputs": [
    {
     "ename": "NameError",
     "evalue": "name 'x2' is not defined",
     "output_type": "error",
     "traceback": [
      "\u001b[1;31m---------------------------------------------------------------------------\u001b[0m",
      "\u001b[1;31mNameError\u001b[0m                                 Traceback (most recent call last)",
      "Cell \u001b[1;32mIn[8], line 1\u001b[0m\n\u001b[1;32m----> 1\u001b[0m x2 \u001b[39m=\u001b[39m x2[[\u001b[39m'\u001b[39m\u001b[39madmitted\u001b[39m\u001b[39m'\u001b[39m, \u001b[39m'\u001b[39m\u001b[39mtot_students\u001b[39m\u001b[39m'\u001b[39m, \u001b[39m'\u001b[39m\u001b[39mmeanGPA\u001b[39m\u001b[39m'\u001b[39m]]   \u001b[39m# selecting columns\u001b[39;00m\n\u001b[0;32m      2\u001b[0m x2\u001b[39m.\u001b[39mhead(\u001b[39m10\u001b[39m)\n",
      "\u001b[1;31mNameError\u001b[0m: name 'x2' is not defined"
     ]
    }
   ],
   "source": [
    "x2 = x2[['admitted', 'tot_students', 'meanGPA']]   # selecting columns\n",
    "x2.head(10)"
   ]
  },
  {
   "cell_type": "markdown",
   "id": "4f79d050",
   "metadata": {},
   "source": [
    "Now, we see the values, but we only want rows 1-4, which correspond to the rank factors we found earlier. To do this, we can either filter out NaNs or select those specific rows. First, let's try slicing."
   ]
  },
  {
   "cell_type": "code",
   "execution_count": 11,
   "id": "7a5385a7",
   "metadata": {},
   "outputs": [
    {
     "data": {
      "text/html": [
       "<div>\n",
       "<style scoped>\n",
       "    .dataframe tbody tr th:only-of-type {\n",
       "        vertical-align: middle;\n",
       "    }\n",
       "\n",
       "    .dataframe tbody tr th {\n",
       "        vertical-align: top;\n",
       "    }\n",
       "\n",
       "    .dataframe thead th {\n",
       "        text-align: right;\n",
       "    }\n",
       "</style>\n",
       "<table border=\"1\" class=\"dataframe\">\n",
       "  <thead>\n",
       "    <tr style=\"text-align: right;\">\n",
       "      <th></th>\n",
       "      <th>admitted</th>\n",
       "      <th>tot_students</th>\n",
       "      <th>meanGPA</th>\n",
       "    </tr>\n",
       "  </thead>\n",
       "  <tbody>\n",
       "    <tr>\n",
       "      <th>1</th>\n",
       "      <td>33.0</td>\n",
       "      <td>61.0</td>\n",
       "      <td>3.453115</td>\n",
       "    </tr>\n",
       "    <tr>\n",
       "      <th>2</th>\n",
       "      <td>54.0</td>\n",
       "      <td>151.0</td>\n",
       "      <td>3.361656</td>\n",
       "    </tr>\n",
       "    <tr>\n",
       "      <th>3</th>\n",
       "      <td>28.0</td>\n",
       "      <td>121.0</td>\n",
       "      <td>3.432893</td>\n",
       "    </tr>\n",
       "    <tr>\n",
       "      <th>4</th>\n",
       "      <td>12.0</td>\n",
       "      <td>67.0</td>\n",
       "      <td>3.318358</td>\n",
       "    </tr>\n",
       "  </tbody>\n",
       "</table>\n",
       "</div>"
      ],
      "text/plain": [
       "   admitted  tot_students   meanGPA\n",
       "1      33.0          61.0  3.453115\n",
       "2      54.0         151.0  3.361656\n",
       "3      28.0         121.0  3.432893\n",
       "4      12.0          67.0  3.318358"
      ]
     },
     "execution_count": 11,
     "metadata": {},
     "output_type": "execute_result"
    }
   ],
   "source": [
    "x3 = x2[1:5]\n",
    "x3.head(10)"
   ]
  },
  {
   "cell_type": "markdown",
   "id": "7148c3b2",
   "metadata": {},
   "source": [
    "Now, let's try removing the NaNs instead:"
   ]
  },
  {
   "cell_type": "code",
   "execution_count": 12,
   "id": "b94e18f5",
   "metadata": {},
   "outputs": [
    {
     "data": {
      "text/html": [
       "<div>\n",
       "<style scoped>\n",
       "    .dataframe tbody tr th:only-of-type {\n",
       "        vertical-align: middle;\n",
       "    }\n",
       "\n",
       "    .dataframe tbody tr th {\n",
       "        vertical-align: top;\n",
       "    }\n",
       "\n",
       "    .dataframe thead th {\n",
       "        text-align: right;\n",
       "    }\n",
       "</style>\n",
       "<table border=\"1\" class=\"dataframe\">\n",
       "  <thead>\n",
       "    <tr style=\"text-align: right;\">\n",
       "      <th></th>\n",
       "      <th>admitted</th>\n",
       "      <th>tot_students</th>\n",
       "      <th>meanGPA</th>\n",
       "    </tr>\n",
       "  </thead>\n",
       "  <tbody>\n",
       "    <tr>\n",
       "      <th>1</th>\n",
       "      <td>33.0</td>\n",
       "      <td>61.0</td>\n",
       "      <td>3.453115</td>\n",
       "    </tr>\n",
       "    <tr>\n",
       "      <th>2</th>\n",
       "      <td>54.0</td>\n",
       "      <td>151.0</td>\n",
       "      <td>3.361656</td>\n",
       "    </tr>\n",
       "    <tr>\n",
       "      <th>3</th>\n",
       "      <td>28.0</td>\n",
       "      <td>121.0</td>\n",
       "      <td>3.432893</td>\n",
       "    </tr>\n",
       "    <tr>\n",
       "      <th>4</th>\n",
       "      <td>12.0</td>\n",
       "      <td>67.0</td>\n",
       "      <td>3.318358</td>\n",
       "    </tr>\n",
       "  </tbody>\n",
       "</table>\n",
       "</div>"
      ],
      "text/plain": [
       "   admitted  tot_students   meanGPA\n",
       "1      33.0          61.0  3.453115\n",
       "2      54.0         151.0  3.361656\n",
       "3      28.0         121.0  3.432893\n",
       "4      12.0          67.0  3.318358"
      ]
     },
     "execution_count": 12,
     "metadata": {},
     "output_type": "execute_result"
    }
   ],
   "source": [
    "x4 = x2.dropna()   # dropna() is a simplified function of .drop(df.isna())\n",
    "x4.head()"
   ]
  },
  {
   "cell_type": "markdown",
   "id": "ec63026b",
   "metadata": {},
   "source": [
    "Both work!!\n",
    "\n",
    "Now, we want to calculate the % of students from various ranks that were admitted. We'll create a new variable to store the information."
   ]
  },
  {
   "cell_type": "code",
   "execution_count": 13,
   "id": "28731839",
   "metadata": {},
   "outputs": [
    {
     "data": {
      "text/html": [
       "<div>\n",
       "<style scoped>\n",
       "    .dataframe tbody tr th:only-of-type {\n",
       "        vertical-align: middle;\n",
       "    }\n",
       "\n",
       "    .dataframe tbody tr th {\n",
       "        vertical-align: top;\n",
       "    }\n",
       "\n",
       "    .dataframe thead th {\n",
       "        text-align: right;\n",
       "    }\n",
       "</style>\n",
       "<table border=\"1\" class=\"dataframe\">\n",
       "  <thead>\n",
       "    <tr style=\"text-align: right;\">\n",
       "      <th></th>\n",
       "      <th>admitted</th>\n",
       "      <th>tot_students</th>\n",
       "      <th>meanGPA</th>\n",
       "      <th>ave_admit</th>\n",
       "    </tr>\n",
       "  </thead>\n",
       "  <tbody>\n",
       "    <tr>\n",
       "      <th>1</th>\n",
       "      <td>33.0</td>\n",
       "      <td>61.0</td>\n",
       "      <td>3.453115</td>\n",
       "      <td>0.540984</td>\n",
       "    </tr>\n",
       "    <tr>\n",
       "      <th>2</th>\n",
       "      <td>54.0</td>\n",
       "      <td>151.0</td>\n",
       "      <td>3.361656</td>\n",
       "      <td>0.357616</td>\n",
       "    </tr>\n",
       "    <tr>\n",
       "      <th>3</th>\n",
       "      <td>28.0</td>\n",
       "      <td>121.0</td>\n",
       "      <td>3.432893</td>\n",
       "      <td>0.231405</td>\n",
       "    </tr>\n",
       "    <tr>\n",
       "      <th>4</th>\n",
       "      <td>12.0</td>\n",
       "      <td>67.0</td>\n",
       "      <td>3.318358</td>\n",
       "      <td>0.179104</td>\n",
       "    </tr>\n",
       "  </tbody>\n",
       "</table>\n",
       "</div>"
      ],
      "text/plain": [
       "   admitted  tot_students   meanGPA  ave_admit\n",
       "1      33.0          61.0  3.453115   0.540984\n",
       "2      54.0         151.0  3.361656   0.357616\n",
       "3      28.0         121.0  3.432893   0.231405\n",
       "4      12.0          67.0  3.318358   0.179104"
      ]
     },
     "execution_count": 13,
     "metadata": {},
     "output_type": "execute_result"
    }
   ],
   "source": [
    "x3 = x3.assign(ave_admit = lambda x: (x['admitted'] / x['tot_students']))\n",
    "x3.head()"
   ]
  },
  {
   "cell_type": "markdown",
   "id": "e22f9ef0",
   "metadata": {},
   "source": [
    "Now, let's arrange the rows by descending GPA."
   ]
  },
  {
   "cell_type": "code",
   "execution_count": 14,
   "id": "a69cb7a2",
   "metadata": {},
   "outputs": [
    {
     "data": {
      "text/html": [
       "<div>\n",
       "<style scoped>\n",
       "    .dataframe tbody tr th:only-of-type {\n",
       "        vertical-align: middle;\n",
       "    }\n",
       "\n",
       "    .dataframe tbody tr th {\n",
       "        vertical-align: top;\n",
       "    }\n",
       "\n",
       "    .dataframe thead th {\n",
       "        text-align: right;\n",
       "    }\n",
       "</style>\n",
       "<table border=\"1\" class=\"dataframe\">\n",
       "  <thead>\n",
       "    <tr style=\"text-align: right;\">\n",
       "      <th></th>\n",
       "      <th>admitted</th>\n",
       "      <th>tot_students</th>\n",
       "      <th>meanGPA</th>\n",
       "      <th>ave_admit</th>\n",
       "    </tr>\n",
       "  </thead>\n",
       "  <tbody>\n",
       "    <tr>\n",
       "      <th>1</th>\n",
       "      <td>33.0</td>\n",
       "      <td>61.0</td>\n",
       "      <td>3.453115</td>\n",
       "      <td>0.540984</td>\n",
       "    </tr>\n",
       "    <tr>\n",
       "      <th>3</th>\n",
       "      <td>28.0</td>\n",
       "      <td>121.0</td>\n",
       "      <td>3.432893</td>\n",
       "      <td>0.231405</td>\n",
       "    </tr>\n",
       "    <tr>\n",
       "      <th>2</th>\n",
       "      <td>54.0</td>\n",
       "      <td>151.0</td>\n",
       "      <td>3.361656</td>\n",
       "      <td>0.357616</td>\n",
       "    </tr>\n",
       "    <tr>\n",
       "      <th>4</th>\n",
       "      <td>12.0</td>\n",
       "      <td>67.0</td>\n",
       "      <td>3.318358</td>\n",
       "      <td>0.179104</td>\n",
       "    </tr>\n",
       "  </tbody>\n",
       "</table>\n",
       "</div>"
      ],
      "text/plain": [
       "   admitted  tot_students   meanGPA  ave_admit\n",
       "1      33.0          61.0  3.453115   0.540984\n",
       "3      28.0         121.0  3.432893   0.231405\n",
       "2      54.0         151.0  3.361656   0.357616\n",
       "4      12.0          67.0  3.318358   0.179104"
      ]
     },
     "execution_count": 14,
     "metadata": {},
     "output_type": "execute_result"
    }
   ],
   "source": [
    "x3 = x3.sort_values(by='meanGPA', ascending=False)\n",
    "x3.head()"
   ]
  },
  {
   "cell_type": "markdown",
   "id": "abc5ad32",
   "metadata": {},
   "source": [
    "Now, we pipe everything together and make a function\n",
    "#### Function construction"
   ]
  },
  {
   "cell_type": "code",
   "execution_count": 15,
   "id": "7dd1feef",
   "metadata": {},
   "outputs": [],
   "source": [
    "def avg_admission(x):\n",
    "    x1 = x.groupby(['rank'])\n",
    "    avg = pd.DataFrame()\n",
    "    avg = avg.assign(admitted= x1['admit'].sum(), \n",
    "                    tot_students=x1['rank'].count(),\n",
    "                    meanGPA=x1['gpa'].mean()).assign(ave_admit = lambda temp: (temp['admitted'] / temp['tot_students'])).sort_values(by='meanGPA', ascending=False)\n",
    "    return avg\n",
    "# move right to see the .sort_values()"
   ]
  },
  {
   "cell_type": "markdown",
   "id": "e80b8e55",
   "metadata": {},
   "source": [
    "As you saw above, some functions were added to each other (specifically, the .assign().assign().sort_values) all happened sequentially. This is called chaining. You could separate for clarity, but this is also a pretty efficient use of space in a program."
   ]
  },
  {
   "cell_type": "code",
   "execution_count": 16,
   "id": "25f5f436",
   "metadata": {},
   "outputs": [
    {
     "name": "stdout",
     "output_type": "stream",
     "text": [
      "      admitted  tot_students   meanGPA  ave_admit\n",
      "rank                                             \n",
      "1           33            61  3.453115   0.540984\n",
      "3           28           121  3.432893   0.231405\n",
      "2           54           151  3.361656   0.357616\n",
      "4           12            67  3.318358   0.179104\n"
     ]
    }
   ],
   "source": [
    "print(avg_admission(admit_2))"
   ]
  },
  {
   "cell_type": "code",
   "execution_count": 64,
   "id": "72d3dc62-f317-4c51-baab-90b5ee095efa",
   "metadata": {
    "tags": []
   },
   "outputs": [],
   "source": [
    "df = pd.read_csv(\"data/winequality-red-ddl.csv\")"
   ]
  },
  {
   "cell_type": "code",
   "execution_count": 66,
   "id": "795c2d8d-490f-40f4-986b-dce0ae9399b6",
   "metadata": {
    "tags": []
   },
   "outputs": [
    {
     "data": {
      "text/html": [
       "<div>\n",
       "<style scoped>\n",
       "    .dataframe tbody tr th:only-of-type {\n",
       "        vertical-align: middle;\n",
       "    }\n",
       "\n",
       "    .dataframe tbody tr th {\n",
       "        vertical-align: top;\n",
       "    }\n",
       "\n",
       "    .dataframe thead th {\n",
       "        text-align: right;\n",
       "    }\n",
       "</style>\n",
       "<table border=\"1\" class=\"dataframe\">\n",
       "  <thead>\n",
       "    <tr style=\"text-align: right;\">\n",
       "      <th></th>\n",
       "      <th>fixed acidity</th>\n",
       "      <th>volatile acidity</th>\n",
       "      <th>citric acid</th>\n",
       "      <th>residual sugar</th>\n",
       "      <th>chlorides</th>\n",
       "      <th>free sulfur dioxide</th>\n",
       "      <th>total sulfur dioxide</th>\n",
       "      <th>density</th>\n",
       "      <th>pH</th>\n",
       "      <th>sulphates</th>\n",
       "      <th>alcohol</th>\n",
       "      <th>quality</th>\n",
       "      <th>text_rank</th>\n",
       "    </tr>\n",
       "  </thead>\n",
       "  <tbody>\n",
       "    <tr>\n",
       "      <th>0</th>\n",
       "      <td>11.6</td>\n",
       "      <td>0.580</td>\n",
       "      <td>0.66</td>\n",
       "      <td>2.20</td>\n",
       "      <td>0.074</td>\n",
       "      <td>10.0</td>\n",
       "      <td>47.0</td>\n",
       "      <td>1.00080</td>\n",
       "      <td>3.25</td>\n",
       "      <td>0.57</td>\n",
       "      <td>9.00</td>\n",
       "      <td>3.0</td>\n",
       "      <td>poor</td>\n",
       "    </tr>\n",
       "    <tr>\n",
       "      <th>1</th>\n",
       "      <td>10.4</td>\n",
       "      <td>0.610</td>\n",
       "      <td>0.49</td>\n",
       "      <td>2.10</td>\n",
       "      <td>0.200</td>\n",
       "      <td>5.0</td>\n",
       "      <td>16.0</td>\n",
       "      <td>0.99940</td>\n",
       "      <td>3.16</td>\n",
       "      <td>0.63</td>\n",
       "      <td>8.40</td>\n",
       "      <td>3.0</td>\n",
       "      <td>poor</td>\n",
       "    </tr>\n",
       "    <tr>\n",
       "      <th>2</th>\n",
       "      <td>7.4</td>\n",
       "      <td>1.185</td>\n",
       "      <td>0.00</td>\n",
       "      <td>4.25</td>\n",
       "      <td>0.097</td>\n",
       "      <td>5.0</td>\n",
       "      <td>14.0</td>\n",
       "      <td>0.99660</td>\n",
       "      <td>3.63</td>\n",
       "      <td>0.54</td>\n",
       "      <td>10.70</td>\n",
       "      <td>3.0</td>\n",
       "      <td>poor</td>\n",
       "    </tr>\n",
       "    <tr>\n",
       "      <th>3</th>\n",
       "      <td>10.4</td>\n",
       "      <td>0.440</td>\n",
       "      <td>0.42</td>\n",
       "      <td>1.50</td>\n",
       "      <td>0.145</td>\n",
       "      <td>34.0</td>\n",
       "      <td>48.0</td>\n",
       "      <td>0.99832</td>\n",
       "      <td>3.38</td>\n",
       "      <td>0.86</td>\n",
       "      <td>9.90</td>\n",
       "      <td>3.0</td>\n",
       "      <td>poor</td>\n",
       "    </tr>\n",
       "    <tr>\n",
       "      <th>4</th>\n",
       "      <td>8.3</td>\n",
       "      <td>1.020</td>\n",
       "      <td>0.02</td>\n",
       "      <td>3.40</td>\n",
       "      <td>0.084</td>\n",
       "      <td>6.0</td>\n",
       "      <td>11.0</td>\n",
       "      <td>0.99892</td>\n",
       "      <td>3.48</td>\n",
       "      <td>0.49</td>\n",
       "      <td>11.00</td>\n",
       "      <td>3.0</td>\n",
       "      <td>poor</td>\n",
       "    </tr>\n",
       "    <tr>\n",
       "      <th>5</th>\n",
       "      <td>7.6</td>\n",
       "      <td>1.580</td>\n",
       "      <td>0.00</td>\n",
       "      <td>2.10</td>\n",
       "      <td>0.137</td>\n",
       "      <td>5.0</td>\n",
       "      <td>9.0</td>\n",
       "      <td>0.99476</td>\n",
       "      <td>3.50</td>\n",
       "      <td>0.40</td>\n",
       "      <td>10.90</td>\n",
       "      <td>3.0</td>\n",
       "      <td>poor</td>\n",
       "    </tr>\n",
       "    <tr>\n",
       "      <th>6</th>\n",
       "      <td>6.8</td>\n",
       "      <td>0.815</td>\n",
       "      <td>0.00</td>\n",
       "      <td>1.20</td>\n",
       "      <td>0.267</td>\n",
       "      <td>16.0</td>\n",
       "      <td>29.0</td>\n",
       "      <td>0.99471</td>\n",
       "      <td>3.32</td>\n",
       "      <td>0.51</td>\n",
       "      <td>9.80</td>\n",
       "      <td>3.0</td>\n",
       "      <td>poor</td>\n",
       "    </tr>\n",
       "    <tr>\n",
       "      <th>7</th>\n",
       "      <td>7.3</td>\n",
       "      <td>0.980</td>\n",
       "      <td>0.05</td>\n",
       "      <td>2.10</td>\n",
       "      <td>0.061</td>\n",
       "      <td>20.0</td>\n",
       "      <td>49.0</td>\n",
       "      <td>0.99705</td>\n",
       "      <td>3.31</td>\n",
       "      <td>0.55</td>\n",
       "      <td>9.70</td>\n",
       "      <td>3.0</td>\n",
       "      <td>poor</td>\n",
       "    </tr>\n",
       "    <tr>\n",
       "      <th>8</th>\n",
       "      <td>7.1</td>\n",
       "      <td>0.875</td>\n",
       "      <td>0.05</td>\n",
       "      <td>5.70</td>\n",
       "      <td>0.082</td>\n",
       "      <td>3.0</td>\n",
       "      <td>14.0</td>\n",
       "      <td>0.99808</td>\n",
       "      <td>3.40</td>\n",
       "      <td>0.52</td>\n",
       "      <td>10.20</td>\n",
       "      <td>3.0</td>\n",
       "      <td>poor</td>\n",
       "    </tr>\n",
       "    <tr>\n",
       "      <th>9</th>\n",
       "      <td>6.7</td>\n",
       "      <td>0.760</td>\n",
       "      <td>0.02</td>\n",
       "      <td>1.80</td>\n",
       "      <td>0.078</td>\n",
       "      <td>6.0</td>\n",
       "      <td>12.0</td>\n",
       "      <td>0.99600</td>\n",
       "      <td>3.55</td>\n",
       "      <td>0.63</td>\n",
       "      <td>9.95</td>\n",
       "      <td>3.0</td>\n",
       "      <td>poor</td>\n",
       "    </tr>\n",
       "  </tbody>\n",
       "</table>\n",
       "</div>"
      ],
      "text/plain": [
       "   fixed acidity  volatile acidity  citric acid  residual sugar  chlorides  \\\n",
       "0           11.6             0.580         0.66            2.20      0.074   \n",
       "1           10.4             0.610         0.49            2.10      0.200   \n",
       "2            7.4             1.185         0.00            4.25      0.097   \n",
       "3           10.4             0.440         0.42            1.50      0.145   \n",
       "4            8.3             1.020         0.02            3.40      0.084   \n",
       "5            7.6             1.580         0.00            2.10      0.137   \n",
       "6            6.8             0.815         0.00            1.20      0.267   \n",
       "7            7.3             0.980         0.05            2.10      0.061   \n",
       "8            7.1             0.875         0.05            5.70      0.082   \n",
       "9            6.7             0.760         0.02            1.80      0.078   \n",
       "\n",
       "   free sulfur dioxide  total sulfur dioxide  density    pH  sulphates  \\\n",
       "0                 10.0                  47.0  1.00080  3.25       0.57   \n",
       "1                  5.0                  16.0  0.99940  3.16       0.63   \n",
       "2                  5.0                  14.0  0.99660  3.63       0.54   \n",
       "3                 34.0                  48.0  0.99832  3.38       0.86   \n",
       "4                  6.0                  11.0  0.99892  3.48       0.49   \n",
       "5                  5.0                   9.0  0.99476  3.50       0.40   \n",
       "6                 16.0                  29.0  0.99471  3.32       0.51   \n",
       "7                 20.0                  49.0  0.99705  3.31       0.55   \n",
       "8                  3.0                  14.0  0.99808  3.40       0.52   \n",
       "9                  6.0                  12.0  0.99600  3.55       0.63   \n",
       "\n",
       "   alcohol  quality text_rank  \n",
       "0     9.00      3.0      poor  \n",
       "1     8.40      3.0      poor  \n",
       "2    10.70      3.0      poor  \n",
       "3     9.90      3.0      poor  \n",
       "4    11.00      3.0      poor  \n",
       "5    10.90      3.0      poor  \n",
       "6     9.80      3.0      poor  \n",
       "7     9.70      3.0      poor  \n",
       "8    10.20      3.0      poor  \n",
       "9     9.95      3.0      poor  "
      ]
     },
     "execution_count": 66,
     "metadata": {},
     "output_type": "execute_result"
    }
   ],
   "source": [
    "df.head(10)"
   ]
  },
  {
   "cell_type": "markdown",
   "id": "a213a729-146f-4da5-a37a-5ffd9fc89ae0",
   "metadata": {},
   "source": [
    "# QUESTION: IS AVERAGE-ISH WINE WITH MORE ALCOHOL MORE DENSE?\n",
    "\n",
    "## Pseudocode:\n",
    "- Sort by alcohol amount\n",
    "- Filter by just average-ish wine\n",
    "- Slice table to just include alcohol and sugar columns\n",
    "- Create plot to show relationship"
   ]
  },
  {
   "cell_type": "code",
   "execution_count": 83,
   "id": "8f0c7df4-cd7c-4531-8a8b-b3851965705e",
   "metadata": {
    "tags": []
   },
   "outputs": [],
   "source": [
    "df_sorted = df.sort_values(by='alcohol', ascending=False)"
   ]
  },
  {
   "cell_type": "code",
   "execution_count": 84,
   "id": "a39e3e44-0a94-4a83-97ea-52b4773863a9",
   "metadata": {
    "tags": []
   },
   "outputs": [],
   "source": [
    "df_average_ish = df_sorted[df_sorted['text_rank'] == 'average-ish']"
   ]
  },
  {
   "cell_type": "code",
   "execution_count": 85,
   "id": "af679c82-9932-464f-a536-b9675606ef3c",
   "metadata": {
    "tags": []
   },
   "outputs": [
    {
     "data": {
      "text/html": [
       "<div>\n",
       "<style scoped>\n",
       "    .dataframe tbody tr th:only-of-type {\n",
       "        vertical-align: middle;\n",
       "    }\n",
       "\n",
       "    .dataframe tbody tr th {\n",
       "        vertical-align: top;\n",
       "    }\n",
       "\n",
       "    .dataframe thead th {\n",
       "        text-align: right;\n",
       "    }\n",
       "</style>\n",
       "<table border=\"1\" class=\"dataframe\">\n",
       "  <thead>\n",
       "    <tr style=\"text-align: right;\">\n",
       "      <th></th>\n",
       "      <th>fixed acidity</th>\n",
       "      <th>volatile acidity</th>\n",
       "      <th>citric acid</th>\n",
       "      <th>residual sugar</th>\n",
       "      <th>chlorides</th>\n",
       "      <th>free sulfur dioxide</th>\n",
       "      <th>total sulfur dioxide</th>\n",
       "      <th>density</th>\n",
       "      <th>pH</th>\n",
       "      <th>sulphates</th>\n",
       "      <th>alcohol</th>\n",
       "      <th>quality</th>\n",
       "      <th>text_rank</th>\n",
       "    </tr>\n",
       "  </thead>\n",
       "  <tbody>\n",
       "    <tr>\n",
       "      <th>1229</th>\n",
       "      <td>5.0</td>\n",
       "      <td>0.380</td>\n",
       "      <td>0.01</td>\n",
       "      <td>1.6</td>\n",
       "      <td>0.048</td>\n",
       "      <td>26.0</td>\n",
       "      <td>60.0</td>\n",
       "      <td>0.99084</td>\n",
       "      <td>3.70</td>\n",
       "      <td>0.75</td>\n",
       "      <td>14.0</td>\n",
       "      <td>6.0</td>\n",
       "      <td>average-ish</td>\n",
       "    </tr>\n",
       "    <tr>\n",
       "      <th>910</th>\n",
       "      <td>8.8</td>\n",
       "      <td>0.460</td>\n",
       "      <td>0.45</td>\n",
       "      <td>2.6</td>\n",
       "      <td>0.065</td>\n",
       "      <td>7.0</td>\n",
       "      <td>18.0</td>\n",
       "      <td>0.99470</td>\n",
       "      <td>3.32</td>\n",
       "      <td>0.79</td>\n",
       "      <td>14.0</td>\n",
       "      <td>6.0</td>\n",
       "      <td>average-ish</td>\n",
       "    </tr>\n",
       "    <tr>\n",
       "      <th>777</th>\n",
       "      <td>5.2</td>\n",
       "      <td>0.340</td>\n",
       "      <td>0.00</td>\n",
       "      <td>1.8</td>\n",
       "      <td>0.050</td>\n",
       "      <td>27.0</td>\n",
       "      <td>63.0</td>\n",
       "      <td>0.99160</td>\n",
       "      <td>3.68</td>\n",
       "      <td>0.79</td>\n",
       "      <td>14.0</td>\n",
       "      <td>6.0</td>\n",
       "      <td>average-ish</td>\n",
       "    </tr>\n",
       "    <tr>\n",
       "      <th>776</th>\n",
       "      <td>5.2</td>\n",
       "      <td>0.340</td>\n",
       "      <td>0.00</td>\n",
       "      <td>1.8</td>\n",
       "      <td>0.050</td>\n",
       "      <td>27.0</td>\n",
       "      <td>63.0</td>\n",
       "      <td>0.99160</td>\n",
       "      <td>3.68</td>\n",
       "      <td>0.79</td>\n",
       "      <td>14.0</td>\n",
       "      <td>6.0</td>\n",
       "      <td>average-ish</td>\n",
       "    </tr>\n",
       "    <tr>\n",
       "      <th>1156</th>\n",
       "      <td>5.0</td>\n",
       "      <td>0.400</td>\n",
       "      <td>0.50</td>\n",
       "      <td>4.3</td>\n",
       "      <td>0.046</td>\n",
       "      <td>29.0</td>\n",
       "      <td>80.0</td>\n",
       "      <td>0.99020</td>\n",
       "      <td>3.49</td>\n",
       "      <td>0.66</td>\n",
       "      <td>13.6</td>\n",
       "      <td>6.0</td>\n",
       "      <td>average-ish</td>\n",
       "    </tr>\n",
       "    <tr>\n",
       "      <th>1164</th>\n",
       "      <td>5.8</td>\n",
       "      <td>0.290</td>\n",
       "      <td>0.26</td>\n",
       "      <td>1.7</td>\n",
       "      <td>0.063</td>\n",
       "      <td>3.0</td>\n",
       "      <td>11.0</td>\n",
       "      <td>0.99150</td>\n",
       "      <td>3.39</td>\n",
       "      <td>0.54</td>\n",
       "      <td>13.5</td>\n",
       "      <td>6.0</td>\n",
       "      <td>average-ish</td>\n",
       "    </tr>\n",
       "    <tr>\n",
       "      <th>917</th>\n",
       "      <td>10.6</td>\n",
       "      <td>0.440</td>\n",
       "      <td>0.68</td>\n",
       "      <td>4.1</td>\n",
       "      <td>0.114</td>\n",
       "      <td>6.0</td>\n",
       "      <td>24.0</td>\n",
       "      <td>0.99700</td>\n",
       "      <td>3.06</td>\n",
       "      <td>0.66</td>\n",
       "      <td>13.4</td>\n",
       "      <td>6.0</td>\n",
       "      <td>average-ish</td>\n",
       "    </tr>\n",
       "    <tr>\n",
       "      <th>1160</th>\n",
       "      <td>7.1</td>\n",
       "      <td>0.390</td>\n",
       "      <td>0.12</td>\n",
       "      <td>2.1</td>\n",
       "      <td>0.065</td>\n",
       "      <td>14.0</td>\n",
       "      <td>24.0</td>\n",
       "      <td>0.99252</td>\n",
       "      <td>3.30</td>\n",
       "      <td>0.53</td>\n",
       "      <td>13.3</td>\n",
       "      <td>6.0</td>\n",
       "      <td>average-ish</td>\n",
       "    </tr>\n",
       "    <tr>\n",
       "      <th>870</th>\n",
       "      <td>11.4</td>\n",
       "      <td>0.625</td>\n",
       "      <td>0.66</td>\n",
       "      <td>6.2</td>\n",
       "      <td>0.088</td>\n",
       "      <td>6.0</td>\n",
       "      <td>24.0</td>\n",
       "      <td>0.99880</td>\n",
       "      <td>3.11</td>\n",
       "      <td>NaN</td>\n",
       "      <td>13.3</td>\n",
       "      <td>6.0</td>\n",
       "      <td>average-ish</td>\n",
       "    </tr>\n",
       "    <tr>\n",
       "      <th>1071</th>\n",
       "      <td>9.3</td>\n",
       "      <td>0.380</td>\n",
       "      <td>0.48</td>\n",
       "      <td>3.8</td>\n",
       "      <td>0.132</td>\n",
       "      <td>3.0</td>\n",
       "      <td>11.0</td>\n",
       "      <td>0.99577</td>\n",
       "      <td>3.23</td>\n",
       "      <td>0.57</td>\n",
       "      <td>13.2</td>\n",
       "      <td>6.0</td>\n",
       "      <td>average-ish</td>\n",
       "    </tr>\n",
       "  </tbody>\n",
       "</table>\n",
       "</div>"
      ],
      "text/plain": [
       "      fixed acidity  volatile acidity  citric acid  residual sugar  chlorides  \\\n",
       "1229            5.0             0.380         0.01             1.6      0.048   \n",
       "910             8.8             0.460         0.45             2.6      0.065   \n",
       "777             5.2             0.340         0.00             1.8      0.050   \n",
       "776             5.2             0.340         0.00             1.8      0.050   \n",
       "1156            5.0             0.400         0.50             4.3      0.046   \n",
       "1164            5.8             0.290         0.26             1.7      0.063   \n",
       "917            10.6             0.440         0.68             4.1      0.114   \n",
       "1160            7.1             0.390         0.12             2.1      0.065   \n",
       "870            11.4             0.625         0.66             6.2      0.088   \n",
       "1071            9.3             0.380         0.48             3.8      0.132   \n",
       "\n",
       "      free sulfur dioxide  total sulfur dioxide  density    pH  sulphates  \\\n",
       "1229                 26.0                  60.0  0.99084  3.70       0.75   \n",
       "910                   7.0                  18.0  0.99470  3.32       0.79   \n",
       "777                  27.0                  63.0  0.99160  3.68       0.79   \n",
       "776                  27.0                  63.0  0.99160  3.68       0.79   \n",
       "1156                 29.0                  80.0  0.99020  3.49       0.66   \n",
       "1164                  3.0                  11.0  0.99150  3.39       0.54   \n",
       "917                   6.0                  24.0  0.99700  3.06       0.66   \n",
       "1160                 14.0                  24.0  0.99252  3.30       0.53   \n",
       "870                   6.0                  24.0  0.99880  3.11        NaN   \n",
       "1071                  3.0                  11.0  0.99577  3.23       0.57   \n",
       "\n",
       "      alcohol  quality    text_rank  \n",
       "1229     14.0      6.0  average-ish  \n",
       "910      14.0      6.0  average-ish  \n",
       "777      14.0      6.0  average-ish  \n",
       "776      14.0      6.0  average-ish  \n",
       "1156     13.6      6.0  average-ish  \n",
       "1164     13.5      6.0  average-ish  \n",
       "917      13.4      6.0  average-ish  \n",
       "1160     13.3      6.0  average-ish  \n",
       "870      13.3      6.0  average-ish  \n",
       "1071     13.2      6.0  average-ish  "
      ]
     },
     "execution_count": 85,
     "metadata": {},
     "output_type": "execute_result"
    }
   ],
   "source": [
    "df_average_ish.head(10)"
   ]
  },
  {
   "cell_type": "code",
   "execution_count": 86,
   "id": "2e23c2fd-7744-4acb-966c-4eebd976dd3c",
   "metadata": {
    "tags": []
   },
   "outputs": [],
   "source": [
    "column_filter = ['density', 'alcohol', 'text_rank']"
   ]
  },
  {
   "cell_type": "code",
   "execution_count": 87,
   "id": "840b2172-e75a-4e8a-9f11-f86d3d36cddd",
   "metadata": {
    "tags": []
   },
   "outputs": [
    {
     "data": {
      "text/html": [
       "<div>\n",
       "<style scoped>\n",
       "    .dataframe tbody tr th:only-of-type {\n",
       "        vertical-align: middle;\n",
       "    }\n",
       "\n",
       "    .dataframe tbody tr th {\n",
       "        vertical-align: top;\n",
       "    }\n",
       "\n",
       "    .dataframe thead th {\n",
       "        text-align: right;\n",
       "    }\n",
       "</style>\n",
       "<table border=\"1\" class=\"dataframe\">\n",
       "  <thead>\n",
       "    <tr style=\"text-align: right;\">\n",
       "      <th></th>\n",
       "      <th>density</th>\n",
       "      <th>alcohol</th>\n",
       "      <th>text_rank</th>\n",
       "    </tr>\n",
       "  </thead>\n",
       "  <tbody>\n",
       "    <tr>\n",
       "      <th>1229</th>\n",
       "      <td>0.99084</td>\n",
       "      <td>14.0</td>\n",
       "      <td>average-ish</td>\n",
       "    </tr>\n",
       "    <tr>\n",
       "      <th>910</th>\n",
       "      <td>0.99470</td>\n",
       "      <td>14.0</td>\n",
       "      <td>average-ish</td>\n",
       "    </tr>\n",
       "    <tr>\n",
       "      <th>777</th>\n",
       "      <td>0.99160</td>\n",
       "      <td>14.0</td>\n",
       "      <td>average-ish</td>\n",
       "    </tr>\n",
       "    <tr>\n",
       "      <th>776</th>\n",
       "      <td>0.99160</td>\n",
       "      <td>14.0</td>\n",
       "      <td>average-ish</td>\n",
       "    </tr>\n",
       "    <tr>\n",
       "      <th>1156</th>\n",
       "      <td>0.99020</td>\n",
       "      <td>13.6</td>\n",
       "      <td>average-ish</td>\n",
       "    </tr>\n",
       "  </tbody>\n",
       "</table>\n",
       "</div>"
      ],
      "text/plain": [
       "      density  alcohol    text_rank\n",
       "1229  0.99084     14.0  average-ish\n",
       "910   0.99470     14.0  average-ish\n",
       "777   0.99160     14.0  average-ish\n",
       "776   0.99160     14.0  average-ish\n",
       "1156  0.99020     13.6  average-ish"
      ]
     },
     "execution_count": 87,
     "metadata": {},
     "output_type": "execute_result"
    }
   ],
   "source": [
    "df_average_ish[column_filter].head()"
   ]
  },
  {
   "cell_type": "code",
   "execution_count": null,
   "id": "7be84fd6-2290-4e55-992b-6d981564a83f",
   "metadata": {},
   "outputs": [],
   "source": []
  }
 ],
 "metadata": {
  "kernelspec": {
   "display_name": "Python 3 (ipykernel)",
   "language": "python",
   "name": "python3"
  },
  "language_info": {
   "codemirror_mode": {
    "name": "ipython",
    "version": 3
   },
   "file_extension": ".py",
   "mimetype": "text/x-python",
   "name": "python",
   "nbconvert_exporter": "python",
   "pygments_lexer": "ipython3",
   "version": "3.10.6"
  },
  "vscode": {
   "interpreter": {
    "hash": "a624a4c978aa714b5c4c05dad66de733834d73954be74b77517c9f53d1f57ded"
   }
  }
 },
 "nbformat": 4,
 "nbformat_minor": 5
}
