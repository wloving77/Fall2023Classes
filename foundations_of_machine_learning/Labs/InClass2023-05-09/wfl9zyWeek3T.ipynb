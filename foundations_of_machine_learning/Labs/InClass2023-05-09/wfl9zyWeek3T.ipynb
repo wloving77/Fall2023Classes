{
  "cells": [
    {
      "cell_type": "raw",
      "metadata": {},
      "source": [
        "---\n",
        "title: \"'We are a little bit scared’: OpenAI CEO warns of risks of artificial intelligence\"\n",
        "date: 2023/05/09\n",
        "author: William Loving\n",
        "format:\n",
        "    html:\n",
        "        toc: True\n",
        "        toc-title: \"Table of Contents\"\n",
        "        toc-depth: 2\n",
        "        toc-location: left\n",
        "        smooth-scroll: true\n",
        "        theme: darkly\n",
        "---"
      ],
      "id": "7b57c61c"
    },
    {
      "cell_type": "markdown",
      "metadata": {},
      "source": [
        "# Chapter 1:"
      ],
      "id": "4f356a3c"
    },
    {
      "cell_type": "code",
      "metadata": {},
      "source": [
        "import pandas as pd\n",
        "import numpy as np\n",
        "import matplotlib.pyplot as plt"
      ],
      "id": "8469006e",
      "execution_count": null,
      "outputs": []
    },
    {
      "cell_type": "markdown",
      "metadata": {},
      "source": [
        "# Chapter 2:\n",
        "\n",
        "## [HyperLink To Article](https://www.theguardian.com/technology/2023/mar/17/openai-sam-altman-artificial-intelligence-warning-gpt4)\n",
        "\n",
        "# Chapter 3 - 4 sections:\n",
        "\n",
        "## Section 1:\n",
        "- Sam Altman is worried that the growth of AI may be detrimental for the world as people could weaponize this newfound access to information for nefarious purposes.\n",
        "\n",
        "## Section 2:\n",
        "- This applies to our class as we are learning about machine learning concepts and are hoping to develop machine learning models.\n",
        "\n",
        "## Section 3:\n",
        "- The author of this article works for the guardian and has written many different articles about AI and Chatbot news.\n",
        "\n",
        "# Funny Image!: \n",
        "\n",
        "![](https://www.shutterstock.com/shutterstock/photos/1905929728/display_1500/stock-photo-skeptic-surprised-cat-thinking-dont-know-what-to-do-big-eyes-closeup-tabby-cat-look-side-dont-1905929728.jpg)\n",
        "\n",
        "\n",
        "> Here is some tabbed text\n",
        "\n",
        ">> Here is some double tabbed text\n",
        "\n",
        ">>> OML TRIPLE TABBED\n"
      ],
      "id": "a98ba9fd"
    },
    {
      "cell_type": "code",
      "metadata": {},
      "source": [
        "df = pd.read_csv(\"data/LogReg.csv\")\n",
        "\n",
        "df.head()"
      ],
      "id": "675bb8cf",
      "execution_count": null,
      "outputs": []
    },
    {
      "cell_type": "markdown",
      "metadata": {},
      "source": [
        "# An excellent plot for your viewing pleasure ------> \n"
      ],
      "id": "1419a334"
    },
    {
      "cell_type": "code",
      "metadata": {},
      "source": [
        "plt.plot(df['gre'], df['gpa'])\n",
        "plt.show()"
      ],
      "id": "ccbc7273",
      "execution_count": null,
      "outputs": []
    }
  ],
  "metadata": {
    "kernelspec": {
      "display_name": "Python 3",
      "language": "python",
      "name": "python3"
    }
  },
  "nbformat": 4,
  "nbformat_minor": 5
}