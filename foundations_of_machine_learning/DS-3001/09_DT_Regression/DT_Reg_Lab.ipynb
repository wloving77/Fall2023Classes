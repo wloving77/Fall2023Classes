{
 "cells": [
  {
   "cell_type": "markdown",
   "metadata": {},
   "source": [
    "\n",
    "Congrats....again! Based off the amazing work you did on the classification model, you've been promoted to chief of all data scientists in Hollywood, your a total celebrity....among data scientists :).  \n",
    "\n",
    "Your boss, head of the studio, has now asked you to build a model to predict gross revenue in order to help them decide which movies to invest in.\n",
    "\n",
    "Once again, you would like to be able to explain the model to mere mortals but need a fairly robust and flexible approach so you've chosen to use decision trees to get started. \n",
    "\n",
    "In doing so...you leverage work you've done in the past to get the job done....you're a data scientist after all! "
   ]
  },
  {
   "cell_type": "code",
   "execution_count": 2,
   "metadata": {},
   "outputs": [],
   "source": [
    "import pandas as pd\n",
    "import numpy as np"
   ]
  },
  {
   "cell_type": "code",
   "execution_count": 5,
   "metadata": {},
   "outputs": [],
   "source": [
    "#1. Load the data\n",
    "#Sometimes need to set the working directory back out of a folder that we create a file in\n",
    "\n",
    "#import os\n",
    "#os.listdir()\n",
    "#print(os.getcwd())\n",
    "#os.chdir('c:\\\\Users\\\\Brian Wright\\\\Documents\\\\3001Python\\\\DS-3001')\n",
    "\n",
    "movie_metadata=pd.read_csv(\"data/movie_metadata.csv\")\n",
    "\n"
   ]
  },
  {
   "cell_type": "markdown",
   "metadata": {},
   "source": [
    "#2 Ensure all the variables are classified correctly including the target variable and collapse factor variables as needed."
   ]
  },
  {
   "cell_type": "markdown",
   "metadata": {},
   "source": [
    "#3 Check for missing variables and correct as needed."
   ]
  },
  {
   "cell_type": "markdown",
   "metadata": {},
   "source": [
    "#4 Guess what, you don't need to scale the data, because DTs don't require this to be done, they make local greedy decisions...keeps getting easier, go to the next step."
   ]
  },
  {
   "cell_type": "markdown",
   "metadata": {},
   "source": [
    "#5 Determine the range and the Mean Absolute Error (MAE) of the target."
   ]
  },
  {
   "cell_type": "markdown",
   "metadata": {},
   "source": [
    "#6 Split your data into test, tune, and train. (80/10/10)"
   ]
  },
  {
   "cell_type": "markdown",
   "metadata": {},
   "source": [
    "#7 Create the kfold object for cross validation."
   ]
  },
  {
   "cell_type": "markdown",
   "metadata": {},
   "source": [
    "#8 Create the scoring metric (several measures) you will use to evaluate your model and the max depth hyperparameter."
   ]
  },
  {
   "cell_type": "markdown",
   "metadata": {},
   "source": [
    "#9 Build the regression tree object. "
   ]
  },
  {
   "cell_type": "markdown",
   "metadata": {},
   "source": [
    "#10 Use the kfold object and the scoring metric to find the best hyperparameter value for max depth via the grid search method."
   ]
  },
  {
   "cell_type": "markdown",
   "metadata": {},
   "source": [
    "#11 Fit the model to the training data."
   ]
  },
  {
   "cell_type": "markdown",
   "metadata": {},
   "source": [
    "#12 What is the best depth value?"
   ]
  },
  {
   "cell_type": "markdown",
   "metadata": {},
   "source": [
    "#13 View the results, comment on how the model performed using several evaluation metrics."
   ]
  },
  {
   "cell_type": "markdown",
   "metadata": {},
   "source": [
    "#14 Which variables appear to be contributing the most (variable importance) "
   ]
  },
  {
   "cell_type": "markdown",
   "metadata": {},
   "source": [
    "#15 Create a model object using the best model hyperparameter value from the trained regression tree. "
   ]
  },
  {
   "cell_type": "markdown",
   "metadata": {},
   "source": [
    "#16 Using the best model predict on the test data and print out the results."
   ]
  },
  {
   "cell_type": "markdown",
   "metadata": {},
   "source": [
    "#17 How does the model perform on the test data as compared to the training data?"
   ]
  },
  {
   "cell_type": "markdown",
   "metadata": {},
   "source": [
    "#18 Print out the confusion matrix for the test data, what does it tell you about the model?"
   ]
  },
  {
   "cell_type": "markdown",
   "metadata": {},
   "source": [
    "#19 What five movies are predicted to have the lowest gross revenue from the test set? "
   ]
  },
  {
   "cell_type": "markdown",
   "metadata": {},
   "source": [
    "#20 Summarize what you learned along the way and make recommendations on how this could be used moving forward, being careful not to over promise."
   ]
  }
 ],
 "metadata": {
  "kernelspec": {
   "display_name": "FMLF23",
   "language": "python",
   "name": "python3"
  },
  "language_info": {
   "codemirror_mode": {
    "name": "ipython",
    "version": 3
   },
   "file_extension": ".py",
   "mimetype": "text/x-python",
   "name": "python",
   "nbconvert_exporter": "python",
   "pygments_lexer": "ipython3",
   "version": "3.11.5"
  }
 },
 "nbformat": 4,
 "nbformat_minor": 2
}
