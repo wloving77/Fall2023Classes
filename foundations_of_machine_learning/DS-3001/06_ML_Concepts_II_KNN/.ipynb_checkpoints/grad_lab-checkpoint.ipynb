{
 "cells": [
  {
   "cell_type": "markdown",
   "id": "683ac305",
   "metadata": {},
   "source": [
    "# Graduation Lab (Week 6)"
   ]
  },
  {
   "cell_type": "markdown",
   "id": "e4a2d74c",
   "metadata": {},
   "source": [
    "## Instructions:\n",
    "\n",
    "Let's build a kNN model using the college completion data from last week. \n",
    "The data is messy and you have a degrees of freedom problem, as in, we have too many features.  \n",
    "\n",
    "You've done most of the hard work already, so you should be ready to move forward with building your model. \n",
    "\n",
    "1. Use the question/target variable you submitted from last week and build a model to answer the question you created for this dataset. \n",
    "\n",
    "2. Build and optimize a kNN model to predict your target variable. Meaning use the tune set to select the correct k value. \n",
    "\n",
    "3. Experiment with the threshold function, what happens at higher and lower thresholds. Document what you see in comments. \n",
    "\n",
    "4. Evaluate the results using the confusion matrix (at the default threshold). Then talk through your question, summarize what concerns or positive elements do you have about the model? \n",
    "\n",
    "Bonus: Adjust the function that selects k to output on Specificity instead of Accuracy"
   ]
  },
  {
   "cell_type": "markdown",
   "id": "f0d76ead",
   "metadata": {},
   "source": [
    "### Example of how I cleaned the data\n",
    "\n",
    "readme for the dataset - https://data.world/databeats/college-completion/workspace/file?filename=README.txt"
   ]
  },
  {
   "cell_type": "code",
   "execution_count": 43,
   "id": "897dff49",
   "metadata": {},
   "outputs": [
    {
     "name": "stdout",
     "output_type": "stream",
     "text": [
      "<class 'pandas.core.frame.DataFrame'>\n",
      "RangeIndex: 3798 entries, 0 to 3797\n",
      "Data columns (total 62 columns):\n",
      " #   Column                                Non-Null Count  Dtype  \n",
      "---  ------                                --------------  -----  \n",
      " 0   unitid                                3798 non-null   int64  \n",
      " 1   chronname                             3798 non-null   object \n",
      " 2   city                                  3798 non-null   object \n",
      " 3   state                                 3798 non-null   object \n",
      " 4   level                                 3798 non-null   object \n",
      " 5   control                               3798 non-null   object \n",
      " 6   basic                                 3798 non-null   object \n",
      " 7   hbcu                                  94 non-null     object \n",
      " 8   flagship                              50 non-null     object \n",
      " 9   long_x                                3798 non-null   float64\n",
      " 10  lat_y                                 3798 non-null   float64\n",
      " 11  site                                  3779 non-null   object \n",
      " 12  student_count                         3798 non-null   int64  \n",
      " 13  awards_per_value                      3798 non-null   float64\n",
      " 14  awards_per_state_value                3798 non-null   float64\n",
      " 15  awards_per_natl_value                 3798 non-null   float64\n",
      " 16  exp_award_value                       3798 non-null   int64  \n",
      " 17  exp_award_state_value                 3798 non-null   int64  \n",
      " 18  exp_award_natl_value                  3798 non-null   int64  \n",
      " 19  exp_award_percentile                  3798 non-null   int64  \n",
      " 20  ft_pct                                3794 non-null   float64\n",
      " 21  fte_value                             3798 non-null   int64  \n",
      " 22  fte_percentile                        3798 non-null   int64  \n",
      " 23  med_sat_value                         1337 non-null   float64\n",
      " 24  med_sat_percentile                    1337 non-null   float64\n",
      " 25  aid_value                             3797 non-null   float64\n",
      " 26  aid_percentile                        3797 non-null   float64\n",
      " 27  endow_value                           2323 non-null   float64\n",
      " 28  endow_percentile                      2323 non-null   float64\n",
      " 29  grad_100_value                        3467 non-null   float64\n",
      " 30  grad_100_percentile                   3467 non-null   float64\n",
      " 31  grad_150_value                        3467 non-null   float64\n",
      " 32  grad_150_percentile                   3467 non-null   float64\n",
      " 33  pell_value                            3797 non-null   float64\n",
      " 34  pell_percentile                       3797 non-null   float64\n",
      " 35  retain_value                          3535 non-null   float64\n",
      " 36  retain_percentile                     3535 non-null   float64\n",
      " 37  ft_fac_value                          3785 non-null   float64\n",
      " 38  ft_fac_percentile                     3785 non-null   float64\n",
      " 39  vsa_year                              279 non-null    float64\n",
      " 40  vsa_grad_after4_first                 279 non-null    float64\n",
      " 41  vsa_grad_elsewhere_after4_first       279 non-null    float64\n",
      " 42  vsa_enroll_after4_first               279 non-null    float64\n",
      " 43  vsa_enroll_elsewhere_after4_first     279 non-null    float64\n",
      " 44  vsa_grad_after6_first                 279 non-null    float64\n",
      " 45  vsa_grad_elsewhere_after6_first       279 non-null    float64\n",
      " 46  vsa_enroll_after6_first               279 non-null    float64\n",
      " 47  vsa_enroll_elsewhere_after6_first     279 non-null    float64\n",
      " 48  vsa_grad_after4_transfer              270 non-null    float64\n",
      " 49  vsa_grad_elsewhere_after4_transfer    270 non-null    float64\n",
      " 50  vsa_enroll_after4_transfer            270 non-null    float64\n",
      " 51  vsa_enroll_elsewhere_after4_transfer  270 non-null    float64\n",
      " 52  vsa_grad_after6_transfer              270 non-null    float64\n",
      " 53  vsa_grad_elsewhere_after6_transfer    270 non-null    float64\n",
      " 54  vsa_enroll_after6_transfer            270 non-null    float64\n",
      " 55  vsa_enroll_elsewhere_after6_transfer  270 non-null    float64\n",
      " 56  similar                               3579 non-null   object \n",
      " 57  state_sector_ct                       3798 non-null   int64  \n",
      " 58  carnegie_ct                           3798 non-null   int64  \n",
      " 59  counted_pct                           3372 non-null   object \n",
      " 60  nicknames                             310 non-null    object \n",
      " 61  cohort_size                           3467 non-null   float64\n",
      "dtypes: float64(40), int64(10), object(12)\n",
      "memory usage: 1.8+ MB\n"
     ]
    }
   ],
   "source": [
    "import pandas as pd\n",
    "\n",
    "grad_data = pd.read_csv('https://query.data.world/s/qpi2ltkz23yp2fcaz4jmlrskjx5qnp', encoding=\"cp1252\")\n",
    "# the encoding part here is important to properly read the data! It doesn't apply to ALL csv files read from the web,\n",
    "# but it was necessary here.\n",
    "grad_data.info()"
   ]
  },
  {
   "cell_type": "code",
   "execution_count": 80,
   "id": "365a22a5",
   "metadata": {},
   "outputs": [],
   "source": [
    "# We have a lot of data! A lot of these have many missing values or are otherwise not useful.\n",
    "\n",
    "to_drop = list(range(39, 56))\n",
    "to_drop.extend([27, 9, 10, 11, 28, 36, 60, 56])"
   ]
  },
  {
   "cell_type": "code",
   "execution_count": 45,
   "id": "b7efe482",
   "metadata": {},
   "outputs": [
    {
     "name": "stdout",
     "output_type": "stream",
     "text": [
      "<class 'pandas.core.frame.DataFrame'>\n",
      "RangeIndex: 3798 entries, 0 to 3797\n",
      "Data columns (total 37 columns):\n",
      " #   Column                  Non-Null Count  Dtype  \n",
      "---  ------                  --------------  -----  \n",
      " 0   unitid                  3798 non-null   int64  \n",
      " 1   chronname               3798 non-null   object \n",
      " 2   city                    3798 non-null   object \n",
      " 3   state                   3798 non-null   object \n",
      " 4   level                   3798 non-null   object \n",
      " 5   control                 3798 non-null   object \n",
      " 6   basic                   3798 non-null   object \n",
      " 7   hbcu                    94 non-null     object \n",
      " 8   flagship                50 non-null     object \n",
      " 9   student_count           3798 non-null   int64  \n",
      " 10  awards_per_value        3798 non-null   float64\n",
      " 11  awards_per_state_value  3798 non-null   float64\n",
      " 12  awards_per_natl_value   3798 non-null   float64\n",
      " 13  exp_award_value         3798 non-null   int64  \n",
      " 14  exp_award_state_value   3798 non-null   int64  \n",
      " 15  exp_award_natl_value    3798 non-null   int64  \n",
      " 16  exp_award_percentile    3798 non-null   int64  \n",
      " 17  ft_pct                  3794 non-null   float64\n",
      " 18  fte_value               3798 non-null   int64  \n",
      " 19  fte_percentile          3798 non-null   int64  \n",
      " 20  med_sat_value           1337 non-null   float64\n",
      " 21  med_sat_percentile      1337 non-null   float64\n",
      " 22  aid_value               3797 non-null   float64\n",
      " 23  aid_percentile          3797 non-null   float64\n",
      " 24  grad_100_value          3467 non-null   float64\n",
      " 25  grad_100_percentile     3467 non-null   float64\n",
      " 26  grad_150_value          3467 non-null   float64\n",
      " 27  grad_150_percentile     3467 non-null   float64\n",
      " 28  pell_value              3797 non-null   float64\n",
      " 29  pell_percentile         3797 non-null   float64\n",
      " 30  retain_value            3535 non-null   float64\n",
      " 31  ft_fac_value            3785 non-null   float64\n",
      " 32  ft_fac_percentile       3785 non-null   float64\n",
      " 33  state_sector_ct         3798 non-null   int64  \n",
      " 34  carnegie_ct             3798 non-null   int64  \n",
      " 35  counted_pct             3372 non-null   object \n",
      " 36  cohort_size             3467 non-null   float64\n",
      "dtypes: float64(18), int64(10), object(9)\n",
      "memory usage: 1.1+ MB\n"
     ]
    }
   ],
   "source": [
    "grad_data1 = grad_data.drop(grad_data.columns[to_drop], axis=1)\n",
    "grad_data1.info()"
   ]
  },
  {
   "cell_type": "code",
   "execution_count": 65,
   "id": "ae03d51e",
   "metadata": {},
   "outputs": [
    {
     "name": "stdout",
     "output_type": "stream",
     "text": [
      "<class 'pandas.core.frame.DataFrame'>\n",
      "RangeIndex: 3798 entries, 0 to 3797\n",
      "Data columns (total 20 columns):\n",
      " #   Column                Non-Null Count  Dtype  \n",
      "---  ------                --------------  -----  \n",
      " 0   chronname             3798 non-null   object \n",
      " 1   level                 3798 non-null   object \n",
      " 2   control               3798 non-null   object \n",
      " 3   hbcu                  94 non-null     object \n",
      " 4   student_count         3798 non-null   int64  \n",
      " 5   awards_per_value      3798 non-null   float64\n",
      " 6   exp_award_value       3798 non-null   int64  \n",
      " 7   exp_award_percentile  3798 non-null   int64  \n",
      " 8   ft_pct                3794 non-null   float64\n",
      " 9   fte_percentile        3798 non-null   int64  \n",
      " 10  med_sat_value         1337 non-null   float64\n",
      " 11  aid_value             3797 non-null   float64\n",
      " 12  grad_100_value        3467 non-null   float64\n",
      " 13  grad_100_percentile   3467 non-null   float64\n",
      " 14  grad_150_value        3467 non-null   float64\n",
      " 15  grad_150_percentile   3467 non-null   float64\n",
      " 16  pell_value            3797 non-null   float64\n",
      " 17  retain_value          3535 non-null   float64\n",
      " 18  ft_fac_value          3785 non-null   float64\n",
      " 19  cohort_size           3467 non-null   float64\n",
      "dtypes: float64(12), int64(4), object(4)\n",
      "memory usage: 593.6+ KB\n"
     ]
    }
   ],
   "source": [
    "# drop even more data that doesn't look predictive\n",
    "drop_more = [0,2,3,6,8,11,12,14,15,18,21,23,29,32,33,34,35]\n",
    "grad_data2 = grad_data1.drop(grad_data1.columns[drop_more], axis=1)\n",
    "grad_data2.info()"
   ]
  },
  {
   "cell_type": "code",
   "execution_count": 62,
   "id": "0d2dd64a",
   "metadata": {},
   "outputs": [
    {
     "data": {
      "text/html": [
       "<div>\n",
       "<style scoped>\n",
       "    .dataframe tbody tr th:only-of-type {\n",
       "        vertical-align: middle;\n",
       "    }\n",
       "\n",
       "    .dataframe tbody tr th {\n",
       "        vertical-align: top;\n",
       "    }\n",
       "\n",
       "    .dataframe thead th {\n",
       "        text-align: right;\n",
       "    }\n",
       "</style>\n",
       "<table border=\"1\" class=\"dataframe\">\n",
       "  <thead>\n",
       "    <tr style=\"text-align: right;\">\n",
       "      <th></th>\n",
       "      <th>chronname</th>\n",
       "      <th>level</th>\n",
       "      <th>control</th>\n",
       "      <th>hbcu</th>\n",
       "      <th>student_count</th>\n",
       "      <th>awards_per_value</th>\n",
       "      <th>exp_award_value</th>\n",
       "      <th>exp_award_percentile</th>\n",
       "      <th>ft_pct</th>\n",
       "      <th>fte_percentile</th>\n",
       "      <th>med_sat_value</th>\n",
       "      <th>aid_value</th>\n",
       "      <th>grad_100_value</th>\n",
       "      <th>grad_100_percentile</th>\n",
       "      <th>grad_150_value</th>\n",
       "      <th>grad_150_percentile</th>\n",
       "      <th>pell_value</th>\n",
       "      <th>retain_value</th>\n",
       "      <th>ft_fac_value</th>\n",
       "      <th>cohort_size</th>\n",
       "    </tr>\n",
       "  </thead>\n",
       "  <tbody>\n",
       "    <tr>\n",
       "      <th>0</th>\n",
       "      <td>Alabama A&amp;M University</td>\n",
       "      <td>4-year</td>\n",
       "      <td>Public</td>\n",
       "      <td>X</td>\n",
       "      <td>4051</td>\n",
       "      <td>14.2</td>\n",
       "      <td>105331</td>\n",
       "      <td>90</td>\n",
       "      <td>93.8</td>\n",
       "      <td>33</td>\n",
       "      <td>823.0</td>\n",
       "      <td>7142.0</td>\n",
       "      <td>10.0</td>\n",
       "      <td>15.0</td>\n",
       "      <td>29.1</td>\n",
       "      <td>14.0</td>\n",
       "      <td>71.2</td>\n",
       "      <td>63.1</td>\n",
       "      <td>82.8</td>\n",
       "      <td>882.0</td>\n",
       "    </tr>\n",
       "    <tr>\n",
       "      <th>1</th>\n",
       "      <td>University of Alabama at Birmingham</td>\n",
       "      <td>4-year</td>\n",
       "      <td>Public</td>\n",
       "      <td>NaN</td>\n",
       "      <td>11502</td>\n",
       "      <td>20.9</td>\n",
       "      <td>136546</td>\n",
       "      <td>97</td>\n",
       "      <td>72.7</td>\n",
       "      <td>67</td>\n",
       "      <td>1146.0</td>\n",
       "      <td>6088.0</td>\n",
       "      <td>29.4</td>\n",
       "      <td>67.0</td>\n",
       "      <td>53.5</td>\n",
       "      <td>66.0</td>\n",
       "      <td>35.1</td>\n",
       "      <td>80.2</td>\n",
       "      <td>92.4</td>\n",
       "      <td>1376.0</td>\n",
       "    </tr>\n",
       "    <tr>\n",
       "      <th>2</th>\n",
       "      <td>Amridge University</td>\n",
       "      <td>4-year</td>\n",
       "      <td>Private not-for-profit</td>\n",
       "      <td>NaN</td>\n",
       "      <td>322</td>\n",
       "      <td>29.9</td>\n",
       "      <td>58414</td>\n",
       "      <td>30</td>\n",
       "      <td>62.7</td>\n",
       "      <td>12</td>\n",
       "      <td>NaN</td>\n",
       "      <td>2540.0</td>\n",
       "      <td>0.0</td>\n",
       "      <td>0.0</td>\n",
       "      <td>66.7</td>\n",
       "      <td>72.0</td>\n",
       "      <td>68.4</td>\n",
       "      <td>37.5</td>\n",
       "      <td>67.2</td>\n",
       "      <td>3.0</td>\n",
       "    </tr>\n",
       "    <tr>\n",
       "      <th>3</th>\n",
       "      <td>University of Alabama at Huntsville</td>\n",
       "      <td>4-year</td>\n",
       "      <td>Public</td>\n",
       "      <td>NaN</td>\n",
       "      <td>5696</td>\n",
       "      <td>20.9</td>\n",
       "      <td>64418</td>\n",
       "      <td>61</td>\n",
       "      <td>74.4</td>\n",
       "      <td>40</td>\n",
       "      <td>1180.0</td>\n",
       "      <td>6647.0</td>\n",
       "      <td>16.5</td>\n",
       "      <td>34.0</td>\n",
       "      <td>48.4</td>\n",
       "      <td>54.0</td>\n",
       "      <td>32.8</td>\n",
       "      <td>81.0</td>\n",
       "      <td>65.5</td>\n",
       "      <td>759.0</td>\n",
       "    </tr>\n",
       "    <tr>\n",
       "      <th>4</th>\n",
       "      <td>Alabama State University</td>\n",
       "      <td>4-year</td>\n",
       "      <td>Public</td>\n",
       "      <td>X</td>\n",
       "      <td>5356</td>\n",
       "      <td>11.6</td>\n",
       "      <td>132407</td>\n",
       "      <td>96</td>\n",
       "      <td>91.0</td>\n",
       "      <td>41</td>\n",
       "      <td>830.0</td>\n",
       "      <td>7256.0</td>\n",
       "      <td>8.8</td>\n",
       "      <td>11.0</td>\n",
       "      <td>25.2</td>\n",
       "      <td>9.0</td>\n",
       "      <td>82.7</td>\n",
       "      <td>62.2</td>\n",
       "      <td>67.0</td>\n",
       "      <td>1351.0</td>\n",
       "    </tr>\n",
       "  </tbody>\n",
       "</table>\n",
       "</div>"
      ],
      "text/plain": [
       "                             chronname   level                 control hbcu  \\\n",
       "0               Alabama A&M University  4-year                  Public    X   \n",
       "1  University of Alabama at Birmingham  4-year                  Public  NaN   \n",
       "2                   Amridge University  4-year  Private not-for-profit  NaN   \n",
       "3  University of Alabama at Huntsville  4-year                  Public  NaN   \n",
       "4             Alabama State University  4-year                  Public    X   \n",
       "\n",
       "   student_count  awards_per_value  exp_award_value  exp_award_percentile  \\\n",
       "0           4051              14.2           105331                    90   \n",
       "1          11502              20.9           136546                    97   \n",
       "2            322              29.9            58414                    30   \n",
       "3           5696              20.9            64418                    61   \n",
       "4           5356              11.6           132407                    96   \n",
       "\n",
       "   ft_pct  fte_percentile  med_sat_value  aid_value  grad_100_value  \\\n",
       "0    93.8              33          823.0     7142.0            10.0   \n",
       "1    72.7              67         1146.0     6088.0            29.4   \n",
       "2    62.7              12            NaN     2540.0             0.0   \n",
       "3    74.4              40         1180.0     6647.0            16.5   \n",
       "4    91.0              41          830.0     7256.0             8.8   \n",
       "\n",
       "   grad_100_percentile  grad_150_value  grad_150_percentile  pell_value  \\\n",
       "0                 15.0            29.1                 14.0        71.2   \n",
       "1                 67.0            53.5                 66.0        35.1   \n",
       "2                  0.0            66.7                 72.0        68.4   \n",
       "3                 34.0            48.4                 54.0        32.8   \n",
       "4                 11.0            25.2                  9.0        82.7   \n",
       "\n",
       "   retain_value  ft_fac_value  cohort_size  \n",
       "0          63.1          82.8        882.0  \n",
       "1          80.2          92.4       1376.0  \n",
       "2          37.5          67.2          3.0  \n",
       "3          81.0          65.5        759.0  \n",
       "4          62.2          67.0       1351.0  "
      ]
     },
     "execution_count": 62,
     "metadata": {},
     "output_type": "execute_result"
    }
   ],
   "source": [
    "grad_data2.head()"
   ]
  },
  {
   "cell_type": "code",
   "execution_count": 66,
   "id": "1a8d1785",
   "metadata": {},
   "outputs": [],
   "source": [
    "import numpy as np\n",
    "grad_data2.replace('NULL', np.nan, inplace=True)"
   ]
  },
  {
   "cell_type": "code",
   "execution_count": 68,
   "id": "1951a43b",
   "metadata": {},
   "outputs": [
    {
     "data": {
      "text/plain": [
       "0    3704\n",
       "1      94\n",
       "Name: hbcu, dtype: int64"
      ]
     },
     "execution_count": 68,
     "metadata": {},
     "output_type": "execute_result"
    }
   ],
   "source": [
    "grad_data2['hbcu'] = [1 if grad_data2['hbcu'][i]=='X' else 0 for i in range(len(grad_data2['hbcu']))]\n",
    "grad_data2['hbcu'].value_counts()"
   ]
  },
  {
   "cell_type": "code",
   "execution_count": 69,
   "id": "e1a69a71",
   "metadata": {},
   "outputs": [],
   "source": [
    "grad_data2['hbcu'] = grad_data2.hbcu.astype('category')"
   ]
  },
  {
   "cell_type": "code",
   "execution_count": 70,
   "id": "0c122918",
   "metadata": {},
   "outputs": [],
   "source": [
    "# convert more variables to factors\n",
    "grad_data2[['level', 'control']] = grad_data2[['level', 'control']].astype('category')"
   ]
  },
  {
   "cell_type": "code",
   "execution_count": 76,
   "id": "907d4170",
   "metadata": {},
   "outputs": [
    {
     "name": "stdout",
     "output_type": "stream",
     "text": [
      "<class 'pandas.core.frame.DataFrame'>\n",
      "RangeIndex: 3798 entries, 0 to 3797\n",
      "Data columns (total 20 columns):\n",
      " #   Column                Non-Null Count  Dtype   \n",
      "---  ------                --------------  -----   \n",
      " 0   chronname             3798 non-null   object  \n",
      " 1   level                 3798 non-null   category\n",
      " 2   control               3798 non-null   category\n",
      " 3   hbcu                  3798 non-null   category\n",
      " 4   student_count         3798 non-null   int64   \n",
      " 5   awards_per_value      3798 non-null   float64 \n",
      " 6   exp_award_value       3798 non-null   int64   \n",
      " 7   exp_award_percentile  3798 non-null   int64   \n",
      " 8   ft_pct                3794 non-null   float64 \n",
      " 9   fte_percentile        3798 non-null   int64   \n",
      " 10  med_sat_value         1337 non-null   float64 \n",
      " 11  aid_value             3797 non-null   float64 \n",
      " 12  grad_100_value        3467 non-null   float64 \n",
      " 13  grad_100_percentile   3467 non-null   float64 \n",
      " 14  grad_150_value        3467 non-null   float64 \n",
      " 15  grad_150_percentile   3467 non-null   float64 \n",
      " 16  pell_value            3797 non-null   float64 \n",
      " 17  retain_value          3535 non-null   float64 \n",
      " 18  ft_fac_value          3785 non-null   float64 \n",
      " 19  cohort_size           3467 non-null   float64 \n",
      "dtypes: category(3), float64(12), int64(4), object(1)\n",
      "memory usage: 516.0+ KB\n"
     ]
    }
   ],
   "source": [
    "# In R, we convert vals to numbers, but they already are in this import\n",
    "grad_data2.info()"
   ]
  },
  {
   "cell_type": "code",
   "execution_count": 77,
   "id": "efc6c574",
   "metadata": {},
   "outputs": [
    {
     "data": {
      "text/plain": [
       "<seaborn.axisgrid.FacetGrid at 0x7fc9593cd340>"
      ]
     },
     "execution_count": 77,
     "metadata": {},
     "output_type": "execute_result"
    },
    {
     "data": {
      "image/png": "[encoded data removed]",
      "text/plain": [
       "<Figure size 511.25x360 with 1 Axes>"
      ]
     },
     "metadata": {
      "needs_background": "light"
     },
     "output_type": "display_data"
    }
   ],
   "source": [
    "# check missing data\n",
    "import seaborn as sns\n",
    "\n",
    "sns.displot(\n",
    "    data=grad_data2.isna().melt(value_name=\"missing\"),\n",
    "    y=\"variable\",\n",
    "    hue=\"missing\",\n",
    "    multiple=\"fill\",\n",
    "    aspect=1.25\n",
    ")"
   ]
  },
  {
   "cell_type": "code",
   "execution_count": 78,
   "id": "3f9a6f5d",
   "metadata": {},
   "outputs": [],
   "source": [
    "#let's drop med_stat_value then delete the rest of the NA rows\n",
    "grad_data2 = grad_data2.drop(grad_data[['med_sat_value']], axis=1)\n",
    "grad_data2.dropna(axis = 0, how = 'any', inplace = True)"
   ]
  },
  {
   "cell_type": "code",
   "execution_count": 79,
   "id": "10add30a",
   "metadata": {},
   "outputs": [
    {
     "data": {
      "text/plain": [
       "<seaborn.axisgrid.FacetGrid at 0x7fc9598f06d0>"
      ]
     },
     "execution_count": 79,
     "metadata": {},
     "output_type": "execute_result"
    },
    {
     "data": {
      "image/png": "[encoded data removed]",
      "text/plain": [
       "<Figure size 511.25x360 with 1 Axes>"
      ]
     },
     "metadata": {
      "needs_background": "light"
     },
     "output_type": "display_data"
    }
   ],
   "source": [
    "sns.displot(\n",
    "    data=grad_data2.isna().melt(value_name=\"missing\"),\n",
    "    y=\"variable\",\n",
    "    hue=\"missing\",\n",
    "    multiple=\"fill\",\n",
    "    aspect=1.25\n",
    ")"
   ]
  }
 ],
 "metadata": {
  "kernelspec": {
   "display_name": "Python 3",
   "language": "python",
   "name": "python3"
  },
  "language_info": {
   "codemirror_mode": {
    "name": "ipython",
    "version": 3
   },
   "file_extension": ".py",
   "mimetype": "text/x-python",
   "name": "python",
   "nbconvert_exporter": "python",
   "pygments_lexer": "ipython3",
   "version": "3.8.8"
  }
 },
 "nbformat": 4,
 "nbformat_minor": 5
}
