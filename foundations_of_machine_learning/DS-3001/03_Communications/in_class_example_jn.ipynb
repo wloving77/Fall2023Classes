{
 "cells": [
  {
   "cell_type": "code",
   "execution_count": 19,
   "metadata": {},
   "outputs": [
    {
     "data": {
      "application/javascript": "if (typeof require !== 'undefined')\n    require.config({\n        paths: {\n            jquery: 'https://code.jquery.com/jquery-3.5.1.min',\n            datatables: 'https://cdn.datatables.net/1.11.3/js/jquery.dataTables.min',\n        }\n    });\n",
      "text/plain": [
       "<IPython.core.display.Javascript object>"
      ]
     },
     "metadata": {},
     "output_type": "display_data"
    }
   ],
   "source": [
    "#install necessary packages \n",
    "import pandas as pd                 #In order to utilize DataFrames in this example         \n",
    "import matplotlib.pyplot as plt     #In order to utilize graphs such as scatterplots in this example\n",
    "\n",
    "#To install R's widely used internal datasets -- such as 'mtcars' and 'iris'\n",
    "from pydataset import data #make sure you run 'pip install pydataset' in your terminal first!\n",
    "                            \n",
    "#Allow DataFrames to print and be viewed in an interactive manner                            \n",
    "from itables import init_notebook_mode, show  #make sure you run 'pip install itables' in your terminal first!\n",
    "init_notebook_mode(all_interactive= False) #Makes only the DataFrames we choose to be interactive,\n",
    "                                                #the rest are the basic pandas output\n",
    "# * When you generate the html file do: jupyter nbconvert  --no-input --to html notebook.ipynb to remove code input *"
   ]
  },
  {
   "cell_type": "markdown",
   "metadata": {
    "toc": true
   },
   "source": [
    "<h1>Table of Contents<span class=\"tocSkip\"></span></h1>\n",
    "<div class=\"toc\"><ul class=\"toc-item\"><li><span><a href=\"#Summary-of-Article\" data-toc-modified-id=\"Summary-of-Article-1\"><b>Summary of Article</b></a></span></li><li><span><a href=\"#Basic-Article-Stats\" data-toc-modified-id=\"Basic-Article-Stats-2\"><b>Basic Article Stats</b></a></span></li><li><span><a href=\"#Author-Information\" data-toc-modified-id=\"Author-Information-3\"><b>Author Information</b></a></span></li><li><span><a href=\"#What-Do-I-Think?\" data-toc-modified-id=\"What-Do-I-Think?-4\"><b>What Do I Think?</b></a></span></li><li><span><a href=\"#Related-Links\" data-toc-modified-id=\"Related-Links-5\"><b>Related Links<b></b></b></a></span></li><li><span><a href=\"#Random-Plots\" data-toc-modified-id=\"Random-Plots-6\"><b>Random Plots<b></b></b></a></span></li></ul></div>"
   ]
  },
  {
   "cell_type": "markdown",
   "metadata": {},
   "source": [
    "# <b>Big Data Starter Kit</b>\n",
    "#### <b>Jeannette Jiang: Peer Mentor for the Stars </b>\n",
    "#### <b>1/30/20 </b>"
   ]
  },
  {
   "cell_type": "markdown",
   "metadata": {},
   "source": [
    "<img src=\"bd.png\" alt=\"big data image\" width=\"300\" height=\"300\">"
   ]
  },
  {
   "cell_type": "markdown",
   "metadata": {},
   "source": [
    "Date that [article](https://www.smartdatacollective.com/5-excellent-big-data-tools-for-fostering-a-digital-workplace/) was published: **January 29, 2020**"
   ]
  },
  {
   "cell_type": "markdown",
   "metadata": {},
   "source": [
    "### <b>Summary of Article</b>\n",
    "The Big Data article emphasizes big data tools that could *improve* workspace resources in any company. "
   ]
  },
  {
   "cell_type": "code",
   "execution_count": null,
   "metadata": {},
   "outputs": [
    {
     "data": {
      "text/html": [
       "<style type=\"text/css\">\n",
       "#T_9d89d th {\n",
       "  font-size: 18px;\n",
       "  width: 1200px;\n",
       "  text-align: left;\n",
       "}\n",
       "#T_9d89d td {\n",
       "  font-size: 16px;\n",
       "  width: 1200px;\n",
       "  text-align: left;\n",
       "}\n",
       "</style>\n",
       "<table id=\"T_9d89d\">\n",
       "  <thead>\n",
       "    <tr>\n",
       "      <th id=\"T_9d89d_level0_col0\" class=\"col_heading level0 col0\" >Keywords</th>\n",
       "    </tr>\n",
       "  </thead>\n",
       "  <tbody>\n",
       "    <tr>\n",
       "      <td id=\"T_9d89d_row0_col0\" class=\"data row0 col0\" >Virtual Personal Assistants</td>\n",
       "    </tr>\n",
       "    <tr>\n",
       "      <td id=\"T_9d89d_row1_col0\" class=\"data row1 col0\" >Workload Automation Software</td>\n",
       "    </tr>\n",
       "    <tr>\n",
       "      <td id=\"T_9d89d_row2_col0\" class=\"data row2 col0\" >Enterprise Social Networks</td>\n",
       "    </tr>\n",
       "    <tr>\n",
       "      <td id=\"T_9d89d_row3_col0\" class=\"data row3 col0\" >Cloud Computing Technologies</td>\n",
       "    </tr>\n",
       "    <tr>\n",
       "      <td id=\"T_9d89d_row4_col0\" class=\"data row4 col0\" >Modern Corporate Intranets </td>\n",
       "    </tr>\n",
       "  </tbody>\n",
       "</table>\n"
      ],
      "text/plain": [
       "<pandas.io.formats.style.Styler at 0x7fd094f11ca0>"
      ]
     },
     "execution_count": 16,
     "metadata": {},
     "output_type": "execute_result"
    }
   ],
   "source": [
    "#Generates a DataFrame of the interesting sections from the article, titling them Keywords\n",
    "tools_to_improve = pd.DataFrame({\"Keywords\": [\"Virtual Personal Assistants\", \"Workload Automation Software\", \n",
    "\"Enterprise Social Networks\", \"Cloud Computing Technologies\", \"Modern Corporate Intranets \"]}) \n",
    "\n",
    "#Adjust the aesthetic characteristics of the DataFrame\n",
    "heading_properties_tools = [('font-size', '18px'),('width', '1200px'), ('text-align', 'left') ]\n",
    "cell_properties_tools = [('font-size', '16px') ,('width', '1200px'),('text-align', 'left')]\n",
    "\n",
    "#Assigning style updates to first the title and then the descriptors of the DataFrame using html tags\n",
    "dfstyle = [dict(selector=\"th\", props=heading_properties_tools),\n",
    " dict(selector=\"td\", props=cell_properties_tools)]\n",
    "\n",
    "#Prints the DataFrame along with the style adjustments, also hides defualt numerical index\n",
    "tools_to_improve.style.set_table_styles(dfstyle).hide(axis='index')"
   ]
  },
  {
   "cell_type": "markdown",
   "metadata": {},
   "source": [
    "In the world of data, big data is the topic that is on everyone's mind. Thus, it's no surprise that big data is finding its way into the simple, mundane tasks we find ourselves doing. For instance, creating an efficient schedule can be time-consuming. However, with the virtual personal assistant and workload automation software tools, one could optimize and complete tasks in record time. The article also details an enterprise social networking tool similar to **Slack** that allows for employees to utilize the powerful nature of direct messaging, which would push out the need for work emails and maximize time at the office. Ultimately, big data is everywhere and it's time we embrace it."
   ]
  },
  {
   "cell_type": "markdown",
   "metadata": {},
   "source": [
    "### <b>Basic Article Stats</b>"
   ]
  },
  {
   "cell_type": "code",
   "execution_count": null,
   "metadata": {},
   "outputs": [
    {
     "data": {
      "text/html": [
       "<style type=\"text/css\">\n",
       "#T_adf4b th {\n",
       "  font-size: 16px;\n",
       "  width: 400px;\n",
       "}\n",
       "#T_adf4b td {\n",
       "  font-size: 14px;\n",
       "  width: 400px;\n",
       "}\n",
       "</style>\n",
       "<table id=\"T_adf4b\">\n",
       "  <thead>\n",
       "    <tr>\n",
       "      <th id=\"T_adf4b_level0_col0\" class=\"col_heading level0 col0\" >Article Views</th>\n",
       "      <th id=\"T_adf4b_level0_col1\" class=\"col_heading level0 col1\" >Article Shares</th>\n",
       "      <th id=\"T_adf4b_level0_col2\" class=\"col_heading level0 col2\" >Article Likes on FB</th>\n",
       "    </tr>\n",
       "  </thead>\n",
       "  <tbody>\n",
       "    <tr>\n",
       "      <td id=\"T_adf4b_row0_col0\" class=\"data row0 col0\" >2351</td>\n",
       "      <td id=\"T_adf4b_row0_col1\" class=\"data row0 col1\" >71</td>\n",
       "      <td id=\"T_adf4b_row0_col2\" class=\"data row0 col2\" >576</td>\n",
       "    </tr>\n",
       "  </tbody>\n",
       "</table>\n"
      ],
      "text/plain": [
       "<pandas.io.formats.style.Styler at 0x7fa67fdd0c40>"
      ]
     },
     "execution_count": 3,
     "metadata": {},
     "output_type": "execute_result"
    }
   ],
   "source": [
    "#Generates a DataFrame of the statistical summary of the article, using mutiple columns for each facet\n",
    "stat = pd.DataFrame({\"Article Views\" : [2351], \"Article Shares\" : [71], \"Article Likes on FB\" :[576]})\n",
    "\n",
    "#Try to change the parameters this time to see what else you can add and adjust\n",
    "heading_properties_stat = [('font-size', '16px'),('width', '400px') ]\n",
    "cell_properties_stat = [('font-size', '14px') ,('width', '400px')]\n",
    "\n",
    "#Assigning the style updates to first the title and then the descriptors of the DataFrame using html tags\n",
    "dfstyle = [dict(selector=\"th\", props=heading_properties_stat),\n",
    " dict(selector=\"td\", props=cell_properties_stat)]\n",
    "\n",
    "#See what printing without the .hide(axis='index') looks like, see what printing without the style adjustments looks like as well!\n",
    "stat.style.set_table_styles(dfstyle).hide(axis='index')"
   ]
  },
  {
   "cell_type": "markdown",
   "metadata": {},
   "source": [
    "### <b>Author Information</b>\n",
    "![](sdc.png)"
   ]
  },
  {
   "cell_type": "markdown",
   "metadata": {},
   "source": [
    "Sean Mallon is the author who is a freelance writer specializing in big data. His interests include big data, analytics and predictive analysis. He writes on SmartDataCollective where multiple articles relating to topics relating to data can be found below."
   ]
  },
  {
   "cell_type": "markdown",
   "metadata": {},
   "source": [
    "[Smart Data Collective](https://www.smartdatacollective.com/harnessing-big-data-to-write-fantastic-research-paper/)"
   ]
  },
  {
   "cell_type": "markdown",
   "metadata": {},
   "source": [
    "### <b>What Do I Think?</b>\n",
    "I think the article gives good advice for businesses to utilize big data tools in manageable ways. Some older company's might be scared of the technological era that we are in, but with simple tools such as a virtual personal assistant, companys can slowly begin to integrate big data into their workspaces. Sooner rather than later, they will begin to realize the benefits of a company social media platform or the cloud. "
   ]
  },
  {
   "cell_type": "markdown",
   "metadata": {},
   "source": [
    "### <B>Related Links</B>"
   ]
  },
  {
   "cell_type": "markdown",
   "metadata": {},
   "source": [
    "#### Sean Mallon's Other Articles\n",
    "\n",
    "1. [3 Ways Big Data is Bringing SEO Out of the Stone Age](https://www.smartdatacollective.com/3-ways-big-data-is-bringing-seo-out-of-stone-age/)\n",
    "2. [Harnessing Big Data to Write A Fantastic Research Paper](https://www.smartdatacollective.com/harnessing-big-data-to-write-fantastic-research-paper/)\n",
    "3. [5 Incredible Ways Big Data Has Made VPNs Powerful Privacy Tools](https://www.smartdatacollective.com/5-incredible-ways-big-data-has-made-vpns-powerful-privacy-tools/)\n",
    "\n",
    "#### Social Media \n",
    "* Find the SmartDataCollective's [Twitter](https://twitter.com/smartdataco)\n",
    "* Find the SmartDataCollective's [Facebook](https://www.facebook.com/SmartDataCo/)\n",
    "\n",
    "<img src=\"social.png\" alt=\"social media image\" width=\"400\" height=\"250\">\n"
   ]
  },
  {
   "cell_type": "markdown",
   "metadata": {},
   "source": [
    "### <B>Random Plots</B>"
   ]
  },
  {
   "cell_type": "markdown",
   "metadata": {},
   "source": [
    "#### mtcars plot"
   ]
  },
  {
   "cell_type": "code",
   "execution_count": null,
   "metadata": {},
   "outputs": [
    {
     "data": {
      "text/plain": [
       "<AxesSubplot:xlabel='mpg', ylabel='disp'>"
      ]
     },
     "execution_count": 4,
     "metadata": {},
     "output_type": "execute_result"
    },
    {
     "data": {
      "image/png": "[encoded data removed]",
      "text/plain": [
       "<Figure size 720x360 with 1 Axes>"
      ]
     },
     "metadata": {
      "needs_background": "light"
     },
     "output_type": "display_data"
    }
   ],
   "source": [
    "#Use data() function to call 'mtcars' dataset from the pydataset package\n",
    "mtcars = data('mtcars')\n",
    "\n",
    "#Adjust the size of generated graphs\n",
    "plt.rcParams[\"figure.figsize\"] = (10,5)\n",
    "\n",
    "#Generates a scatterplot, setting the x and y axes\n",
    "mtcars.plot.scatter(x ='mpg', y='disp')"
   ]
  },
  {
   "cell_type": "markdown",
   "metadata": {},
   "source": [
    "#### Iris Plot "
   ]
  },
  {
   "cell_type": "code",
   "execution_count": null,
   "metadata": {
    "scrolled": true
   },
   "outputs": [
    {
     "data": {
      "image/png": "[encoded data removed]",
      "text/plain": [
       "<Figure size 576x576 with 2 Axes>"
      ]
     },
     "metadata": {
      "needs_background": "light"
     },
     "output_type": "display_data"
    }
   ],
   "source": [
    "#Use data() function to call 'iris' dataset from the pydataset package\n",
    "iris = data('iris')\n",
    "\n",
    "#Set column 'species' to become class categorical in order to color by speices below\n",
    "iris[\"Species\"] = pd.Categorical(iris[\"Species\"])\n",
    "\n",
    "#Adjust the size of generated graphs, alter this as you wish to make your data more visible\n",
    "plt.rcParams[\"figure.figsize\"] = (8,8)\n",
    "\n",
    "#include this line in your code and in the scatter function below so your x-axis numbers and label will appear\n",
    "fig, ax = plt.subplots()\n",
    "\n",
    "#Generates a scatterplot, setting the x and y axes, color, symbol, color map, size, and grid\n",
    "iris.plot.scatter(x=\"Sepal.Length\", y=\"Sepal.Width\", c=\"Species\",marker= '^', cmap=\"viridis\", s=50, grid=\"TRUE\", ax=ax);"
   ]
  },
  {
   "cell_type": "markdown",
   "metadata": {},
   "source": [
    "#### Iris Datatable"
   ]
  },
  {
   "cell_type": "code",
   "execution_count": null,
   "metadata": {},
   "outputs": [
    {
     "data": {
      "text/html": [
       "<table id=\"bf667f3f-949c-47d7-8344-90bdbb98f62b\" class=\"display\"style=\"max-width:100%\"><thead>\n",
       "    <tr style=\"text-align: right;\">\n",
       "      <th></th>\n",
       "      <th>Sepal.Length</th>\n",
       "      <th>Sepal.Width</th>\n",
       "      <th>Petal.Length</th>\n",
       "      <th>Petal.Width</th>\n",
       "      <th>Species</th>\n",
       "    </tr>\n",
       "  </thead><tbody><tr><td>Loading... (need <a href=https://mwouts.github.io/itables/troubleshooting.html>help</a>?)</td></tr></tbody></table>\n",
       "<link rel=\"stylesheet\" type=\"text/css\" href=\"https://cdn.datatables.net/1.11.3/css/jquery.dataTables.min.css\">\n",
       "<style> table td {\n",
       "    text-overflow: ellipsis;\n",
       "    overflow: hidden;\n",
       "} </style>\n",
       "<style> table th {\n",
       "    text-overflow: ellipsis;\n",
       "    overflow: hidden;\n",
       "} </style>\n",
       "<script type=\"module\">\n",
       "    // Define the table data\n",
       "    const data = [[1, 5.1, 3.5, 1.4, 0.2, \"setosa\"], [2, 4.9, 3.0, 1.4, 0.2, \"setosa\"], [3, 4.7, 3.2, 1.3, 0.2, \"setosa\"], [4, 4.6, 3.1, 1.5, 0.2, \"setosa\"], [5, 5.0, 3.6, 1.4, 0.2, \"setosa\"], [6, 5.4, 3.9, 1.7, 0.4, \"setosa\"], [7, 4.6, 3.4, 1.4, 0.3, \"setosa\"], [8, 5.0, 3.4, 1.5, 0.2, \"setosa\"], [9, 4.4, 2.9, 1.4, 0.2, \"setosa\"], [10, 4.9, 3.1, 1.5, 0.1, \"setosa\"], [11, 5.4, 3.7, 1.5, 0.2, \"setosa\"], [12, 4.8, 3.4, 1.6, 0.2, \"setosa\"], [13, 4.8, 3.0, 1.4, 0.1, \"setosa\"], [14, 4.3, 3.0, 1.1, 0.1, \"setosa\"], [15, 5.8, 4.0, 1.2, 0.2, \"setosa\"], [16, 5.7, 4.4, 1.5, 0.4, \"setosa\"], [17, 5.4, 3.9, 1.3, 0.4, \"setosa\"], [18, 5.1, 3.5, 1.4, 0.3, \"setosa\"], [19, 5.7, 3.8, 1.7, 0.3, \"setosa\"], [20, 5.1, 3.8, 1.5, 0.3, \"setosa\"], [21, 5.4, 3.4, 1.7, 0.2, \"setosa\"], [22, 5.1, 3.7, 1.5, 0.4, \"setosa\"], [23, 4.6, 3.6, 1.0, 0.2, \"setosa\"], [24, 5.1, 3.3, 1.7, 0.5, \"setosa\"], [25, 4.8, 3.4, 1.9, 0.2, \"setosa\"], [26, 5.0, 3.0, 1.6, 0.2, \"setosa\"], [27, 5.0, 3.4, 1.6, 0.4, \"setosa\"], [28, 5.2, 3.5, 1.5, 0.2, \"setosa\"], [29, 5.2, 3.4, 1.4, 0.2, \"setosa\"], [30, 4.7, 3.2, 1.6, 0.2, \"setosa\"], [31, 4.8, 3.1, 1.6, 0.2, \"setosa\"], [32, 5.4, 3.4, 1.5, 0.4, \"setosa\"], [33, 5.2, 4.1, 1.5, 0.1, \"setosa\"], [34, 5.5, 4.2, 1.4, 0.2, \"setosa\"], [35, 4.9, 3.1, 1.5, 0.2, \"setosa\"], [36, 5.0, 3.2, 1.2, 0.2, \"setosa\"], [37, 5.5, 3.5, 1.3, 0.2, \"setosa\"], [38, 4.9, 3.6, 1.4, 0.1, \"setosa\"], [39, 4.4, 3.0, 1.3, 0.2, \"setosa\"], [40, 5.1, 3.4, 1.5, 0.2, \"setosa\"], [41, 5.0, 3.5, 1.3, 0.3, \"setosa\"], [42, 4.5, 2.3, 1.3, 0.3, \"setosa\"], [43, 4.4, 3.2, 1.3, 0.2, \"setosa\"], [44, 5.0, 3.5, 1.6, 0.6, \"setosa\"], [45, 5.1, 3.8, 1.9, 0.4, \"setosa\"], [46, 4.8, 3.0, 1.4, 0.3, \"setosa\"], [47, 5.1, 3.8, 1.6, 0.2, \"setosa\"], [48, 4.6, 3.2, 1.4, 0.2, \"setosa\"], [49, 5.3, 3.7, 1.5, 0.2, \"setosa\"], [50, 5.0, 3.3, 1.4, 0.2, \"setosa\"], [51, 7.0, 3.2, 4.7, 1.4, \"versicolor\"], [52, 6.4, 3.2, 4.5, 1.5, \"versicolor\"], [53, 6.9, 3.1, 4.9, 1.5, \"versicolor\"], [54, 5.5, 2.3, 4.0, 1.3, \"versicolor\"], [55, 6.5, 2.8, 4.6, 1.5, \"versicolor\"], [56, 5.7, 2.8, 4.5, 1.3, \"versicolor\"], [57, 6.3, 3.3, 4.7, 1.6, \"versicolor\"], [58, 4.9, 2.4, 3.3, 1.0, \"versicolor\"], [59, 6.6, 2.9, 4.6, 1.3, \"versicolor\"], [60, 5.2, 2.7, 3.9, 1.4, \"versicolor\"], [61, 5.0, 2.0, 3.5, 1.0, \"versicolor\"], [62, 5.9, 3.0, 4.2, 1.5, \"versicolor\"], [63, 6.0, 2.2, 4.0, 1.0, \"versicolor\"], [64, 6.1, 2.9, 4.7, 1.4, \"versicolor\"], [65, 5.6, 2.9, 3.6, 1.3, \"versicolor\"], [66, 6.7, 3.1, 4.4, 1.4, \"versicolor\"], [67, 5.6, 3.0, 4.5, 1.5, \"versicolor\"], [68, 5.8, 2.7, 4.1, 1.0, \"versicolor\"], [69, 6.2, 2.2, 4.5, 1.5, \"versicolor\"], [70, 5.6, 2.5, 3.9, 1.1, \"versicolor\"], [71, 5.9, 3.2, 4.8, 1.8, \"versicolor\"], [72, 6.1, 2.8, 4.0, 1.3, \"versicolor\"], [73, 6.3, 2.5, 4.9, 1.5, \"versicolor\"], [74, 6.1, 2.8, 4.7, 1.2, \"versicolor\"], [75, 6.4, 2.9, 4.3, 1.3, \"versicolor\"], [76, 6.6, 3.0, 4.4, 1.4, \"versicolor\"], [77, 6.8, 2.8, 4.8, 1.4, \"versicolor\"], [78, 6.7, 3.0, 5.0, 1.7, \"versicolor\"], [79, 6.0, 2.9, 4.5, 1.5, \"versicolor\"], [80, 5.7, 2.6, 3.5, 1.0, \"versicolor\"], [81, 5.5, 2.4, 3.8, 1.1, \"versicolor\"], [82, 5.5, 2.4, 3.7, 1.0, \"versicolor\"], [83, 5.8, 2.7, 3.9, 1.2, \"versicolor\"], [84, 6.0, 2.7, 5.1, 1.6, \"versicolor\"], [85, 5.4, 3.0, 4.5, 1.5, \"versicolor\"], [86, 6.0, 3.4, 4.5, 1.6, \"versicolor\"], [87, 6.7, 3.1, 4.7, 1.5, \"versicolor\"], [88, 6.3, 2.3, 4.4, 1.3, \"versicolor\"], [89, 5.6, 3.0, 4.1, 1.3, \"versicolor\"], [90, 5.5, 2.5, 4.0, 1.3, \"versicolor\"], [91, 5.5, 2.6, 4.4, 1.2, \"versicolor\"], [92, 6.1, 3.0, 4.6, 1.4, \"versicolor\"], [93, 5.8, 2.6, 4.0, 1.2, \"versicolor\"], [94, 5.0, 2.3, 3.3, 1.0, \"versicolor\"], [95, 5.6, 2.7, 4.2, 1.3, \"versicolor\"], [96, 5.7, 3.0, 4.2, 1.2, \"versicolor\"], [97, 5.7, 2.9, 4.2, 1.3, \"versicolor\"], [98, 6.2, 2.9, 4.3, 1.3, \"versicolor\"], [99, 5.1, 2.5, 3.0, 1.1, \"versicolor\"], [100, 5.7, 2.8, 4.1, 1.3, \"versicolor\"], [101, 6.3, 3.3, 6.0, 2.5, \"virginica\"], [102, 5.8, 2.7, 5.1, 1.9, \"virginica\"], [103, 7.1, 3.0, 5.9, 2.1, \"virginica\"], [104, 6.3, 2.9, 5.6, 1.8, \"virginica\"], [105, 6.5, 3.0, 5.8, 2.2, \"virginica\"], [106, 7.6, 3.0, 6.6, 2.1, \"virginica\"], [107, 4.9, 2.5, 4.5, 1.7, \"virginica\"], [108, 7.3, 2.9, 6.3, 1.8, \"virginica\"], [109, 6.7, 2.5, 5.8, 1.8, \"virginica\"], [110, 7.2, 3.6, 6.1, 2.5, \"virginica\"], [111, 6.5, 3.2, 5.1, 2.0, \"virginica\"], [112, 6.4, 2.7, 5.3, 1.9, \"virginica\"], [113, 6.8, 3.0, 5.5, 2.1, \"virginica\"], [114, 5.7, 2.5, 5.0, 2.0, \"virginica\"], [115, 5.8, 2.8, 5.1, 2.4, \"virginica\"], [116, 6.4, 3.2, 5.3, 2.3, \"virginica\"], [117, 6.5, 3.0, 5.5, 1.8, \"virginica\"], [118, 7.7, 3.8, 6.7, 2.2, \"virginica\"], [119, 7.7, 2.6, 6.9, 2.3, \"virginica\"], [120, 6.0, 2.2, 5.0, 1.5, \"virginica\"], [121, 6.9, 3.2, 5.7, 2.3, \"virginica\"], [122, 5.6, 2.8, 4.9, 2.0, \"virginica\"], [123, 7.7, 2.8, 6.7, 2.0, \"virginica\"], [124, 6.3, 2.7, 4.9, 1.8, \"virginica\"], [125, 6.7, 3.3, 5.7, 2.1, \"virginica\"], [126, 7.2, 3.2, 6.0, 1.8, \"virginica\"], [127, 6.2, 2.8, 4.8, 1.8, \"virginica\"], [128, 6.1, 3.0, 4.9, 1.8, \"virginica\"], [129, 6.4, 2.8, 5.6, 2.1, \"virginica\"], [130, 7.2, 3.0, 5.8, 1.6, \"virginica\"], [131, 7.4, 2.8, 6.1, 1.9, \"virginica\"], [132, 7.9, 3.8, 6.4, 2.0, \"virginica\"], [133, 6.4, 2.8, 5.6, 2.2, \"virginica\"], [134, 6.3, 2.8, 5.1, 1.5, \"virginica\"], [135, 6.1, 2.6, 5.6, 1.4, \"virginica\"], [136, 7.7, 3.0, 6.1, 2.3, \"virginica\"], [137, 6.3, 3.4, 5.6, 2.4, \"virginica\"], [138, 6.4, 3.1, 5.5, 1.8, \"virginica\"], [139, 6.0, 3.0, 4.8, 1.8, \"virginica\"], [140, 6.9, 3.1, 5.4, 2.1, \"virginica\"], [141, 6.7, 3.1, 5.6, 2.4, \"virginica\"], [142, 6.9, 3.1, 5.1, 2.3, \"virginica\"], [143, 5.8, 2.7, 5.1, 1.9, \"virginica\"], [144, 6.8, 3.2, 5.9, 2.3, \"virginica\"], [145, 6.7, 3.3, 5.7, 2.5, \"virginica\"], [146, 6.7, 3.0, 5.2, 2.3, \"virginica\"], [147, 6.3, 2.5, 5.0, 1.9, \"virginica\"], [148, 6.5, 3.0, 5.2, 2.0, \"virginica\"], [149, 6.2, 3.4, 5.4, 2.3, \"virginica\"], [150, 5.9, 3.0, 5.1, 1.8, \"virginica\"]];\n",
       "\n",
       "    if (typeof require === 'undefined') {\n",
       "        // TODO: This should become the default (use a simple import)\n",
       "        // when the ESM version works independently of whether\n",
       "        // require.js is there or not, see\n",
       "        // https://datatables.net/forums/discussion/69066/esm-es6-module-support?\n",
       "        const {default: $} = await import(\"https://esm.sh/jquery@3.5.0\");\n",
       "        const {default: initDataTables} = await import(\"https://esm.sh/datatables.net@1.11.3?deps=jquery@3.5.0\");\n",
       "\n",
       "        initDataTables();\n",
       "\n",
       "        // Define the dt_args\n",
       "        let dt_args = {};\n",
       "        dt_args[\"data\"] = data;\n",
       "\n",
       "        // Display the table\n",
       "        $(document).ready(function () {\n",
       "            $('#bf667f3f-949c-47d7-8344-90bdbb98f62b').DataTable(dt_args);\n",
       "        });\n",
       "    } else {\n",
       "        require([\"jquery\", \"datatables\"], ($, datatables) => {\n",
       "                // Define the dt_args\n",
       "                let dt_args = {};\n",
       "                dt_args[\"data\"] = data;\n",
       "\n",
       "                // Display the table\n",
       "                $(document).ready(function () {\n",
       "                    $('#bf667f3f-949c-47d7-8344-90bdbb98f62b').DataTable(dt_args);\n",
       "                });\n",
       "            }\n",
       "        )\n",
       "    }\n",
       "</script>\n"
      ],
      "text/plain": [
       "<IPython.core.display.HTML object>"
      ]
     },
     "metadata": {},
     "output_type": "display_data"
    }
   ],
   "source": [
    "#Use show() to access the itables package to make interactive DataFrames\n",
    "show(iris)\n",
    "\n",
    "#Now try it without show()"
   ]
  }
 ],
 "metadata": {
  "interpreter": {
   "hash": "aee8b7b246df8f9039afb4144a1f6fd8d2ca17a180786b69acc140d282b71a49"
  },
  "kernelspec": {
   "display_name": "Python 3.9.13 64-bit",
   "language": "python",
   "name": "python3"
  },
  "language_info": {
   "codemirror_mode": {
    "name": "ipython",
    "version": 3
   },
   "file_extension": ".py",
   "mimetype": "text/x-python",
   "name": "python",
   "nbconvert_exporter": "python",
   "pygments_lexer": "ipython3",
   "version": "3.9.13"
  },
  "toc": {
   "base_numbering": 1,
   "nav_menu": {},
   "number_sections": false,
   "sideBar": true,
   "skip_h1_title": true,
   "title_cell": "Table of Contents",
   "title_sidebar": "Contents",
   "toc_cell": true,
   "toc_position": {
    "height": "491px",
    "left": "899px",
    "top": "67.1406px",
    "width": "230.594px"
   },
   "toc_section_display": true,
   "toc_window_display": false
  }
 },
 "nbformat": 4,
 "nbformat_minor": 2
}
